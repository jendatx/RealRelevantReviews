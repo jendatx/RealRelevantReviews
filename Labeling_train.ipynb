{
 "cells": [
  {
   "cell_type": "markdown",
   "metadata": {},
   "source": [
    "# Label the training dataset"
   ]
  },
  {
   "cell_type": "code",
   "execution_count": 1,
   "metadata": {},
   "outputs": [],
   "source": [
    "import json\n",
    "import matplotlib.pyplot as plt\n",
    "import numpy as np\n",
    "import pandas as pd\n",
    "import datetime\n",
    "pd.set_option('max_colwidth', 140)"
   ]
  },
  {
   "cell_type": "code",
   "execution_count": 2,
   "metadata": {},
   "outputs": [],
   "source": [
    "dataset = \"../train.json\"\n",
    "df = pd.read_json(dataset,lines=True)"
   ]
  },
  {
   "cell_type": "code",
   "execution_count": 3,
   "metadata": {},
   "outputs": [],
   "source": [
    "# Peel out count of helpful votes into its own column\n",
    "df['helpful_votes'] = df.apply(lambda x: x.helpful[0],axis=1)\n",
    "# To avoid confusion later, drop the 'helpful' column at this point\n",
    "df.drop('helpful', axis = 1, inplace=True)\n",
    "# Convert reviewTime to datetime type info we can work with\n",
    "df.reviewTime = pd.to_datetime(df.reviewTime,infer_datetime_format=True)"
   ]
  },
  {
   "cell_type": "code",
   "execution_count": 4,
   "metadata": {},
   "outputs": [
    {
     "name": "stdout",
     "output_type": "stream",
     "text": [
      "Our dataset initially contains 3804066 reviews\n"
     ]
    }
   ],
   "source": [
    "print(\"Our dataset initially contains {} reviews\".format(df.shape[0]))"
   ]
  },
  {
   "cell_type": "code",
   "execution_count": 5,
   "metadata": {},
   "outputs": [
    {
     "name": "stdout",
     "output_type": "stream",
     "text": [
      "After removing reviews less than one year old, our dataset contains 2884665 reviews\n"
     ]
    }
   ],
   "source": [
    "# Our dataset snapshot has as its maximum review date 2014-07-23\n",
    "snapshotted_string = \"20140723\"\n",
    "snapshotted = datetime.datetime.strptime(snapshotted_string, '%Y%m%d')\n",
    "\n",
    "# We will DROP reviews less than one year old\n",
    "# They may not have accumulated enough evidence to support being helpful or not\n",
    "ourcutoff = snapshotted - datetime.timedelta(days=365)\n",
    "df = df[df.reviewTime < ourcutoff]\n",
    "print(\"After removing reviews less than one year old, our dataset contains {} reviews\".format(df.shape[0]))"
   ]
  },
  {
   "cell_type": "code",
   "execution_count": 6,
   "metadata": {},
   "outputs": [],
   "source": [
    "# Here we store the age of each review in days\n",
    "df['review_age_days'] = df.apply(lambda x: (snapshotted - x.reviewTime).days,axis = 1)"
   ]
  },
  {
   "cell_type": "code",
   "execution_count": 7,
   "metadata": {},
   "outputs": [
    {
     "data": {
      "image/png": "[encoded data removed]",
      "text/plain": [
       "<Figure size 432x288 with 1 Axes>"
      ]
     },
     "metadata": {
      "needs_background": "light"
     },
     "output_type": "display_data"
    }
   ],
   "source": [
    "days_old_hist = plt.hist(df['review_age_days'])"
   ]
  },
  {
   "cell_type": "code",
   "execution_count": 8,
   "metadata": {},
   "outputs": [],
   "source": [
    "# We create the annual HVAR score\n",
    "df['annual_HVAR'] = df.apply(lambda x: 365*x.helpful_votes/x.review_age_days, axis = 1)"
   ]
  },
  {
   "cell_type": "code",
   "execution_count": 9,
   "metadata": {},
   "outputs": [],
   "source": [
    "# Now we group by the book id\n",
    "# And aggregate by count of unique reviews for the given book\n",
    "# (We count using unixReviewTime as a proxy for uniqueness because there's no review ID provided)\n",
    "# We also aggregate the HVAR within groups by its standard deviation\n",
    "# As we cannot retrieve a signal with respect to helpfulness if reviews don't have variance \n",
    "by_book = df.groupby('asin').agg({'unixReviewTime':'size','annual_HVAR': lambda x: (x.std(),x.quantile(.75))})"
   ]
  },
  {
   "cell_type": "code",
   "execution_count": 10,
   "metadata": {},
   "outputs": [],
   "source": [
    "# Extract standard deviation to filter out zero-valued books later\n",
    "by_book['std_HVAR'] = by_book.apply(lambda x: x.annual_HVAR[0],axis = 1)\n",
    "# Extract top quartile cutoff per book\n",
    "by_book['top_quartile_HVAR'] = by_book.apply(lambda x: x.annual_HVAR[1],axis = 1)\n",
    "# Drop the combo column now that we have them separated\n",
    "by_book.drop('annual_HVAR',axis=1,inplace=True)\n",
    "# Rename for clarity when filtering by this column later\n",
    "by_book.rename(columns={\"unixReviewTime\": \"book_num_reviews\"}, inplace=True)"
   ]
  },
  {
   "cell_type": "code",
   "execution_count": 11,
   "metadata": {},
   "outputs": [
    {
     "data": {
      "text/plain": [
       "Index(['book_num_reviews', 'std_HVAR', 'top_quartile_HVAR'], dtype='object')"
      ]
     },
     "execution_count": 11,
     "metadata": {},
     "output_type": "execute_result"
    }
   ],
   "source": [
    "by_book.columns"
   ]
  },
  {
   "cell_type": "code",
   "execution_count": 12,
   "metadata": {},
   "outputs": [
    {
     "name": "stdout",
     "output_type": "stream",
     "text": [
      "There are 301794 unique books in this dataset\n",
      "2659724 reviews will remain after final filters applied\n"
     ]
    }
   ],
   "source": [
    "# Now print out resulting size of review dataset\n",
    "print(\"There are {} unique books in this dataset\".format(by_book.shape[0]))\n",
    "# by_book.rename(columns={\"unixReviewTime\": \"book_num_reviews\",\"annual_HVAR\":\"std_HVAR\"}, inplace=True)\n",
    "print(\"{} reviews will remain after final filters applied\".format(by_book[(by_book.book_num_reviews >=4)\\\n",
    "    & (by_book.std_HVAR != 0)].book_num_reviews.sum()))"
   ]
  },
  {
   "cell_type": "code",
   "execution_count": 19,
   "metadata": {},
   "outputs": [
    {
     "data": {
      "text/html": [
       "<div>\n",
       "<style scoped>\n",
       "    .dataframe tbody tr th:only-of-type {\n",
       "        vertical-align: middle;\n",
       "    }\n",
       "\n",
       "    .dataframe tbody tr th {\n",
       "        vertical-align: top;\n",
       "    }\n",
       "\n",
       "    .dataframe thead th {\n",
       "        text-align: right;\n",
       "    }\n",
       "</style>\n",
       "<table border=\"1\" class=\"dataframe\">\n",
       "  <thead>\n",
       "    <tr style=\"text-align: right;\">\n",
       "      <th></th>\n",
       "      <th>book_num_reviews</th>\n",
       "      <th>std_HVAR</th>\n",
       "      <th>top_quartile_HVAR</th>\n",
       "    </tr>\n",
       "    <tr>\n",
       "      <th>asin</th>\n",
       "      <th></th>\n",
       "      <th></th>\n",
       "      <th></th>\n",
       "    </tr>\n",
       "  </thead>\n",
       "  <tbody>\n",
       "    <tr>\n",
       "      <th>000100039X</th>\n",
       "      <td>86</td>\n",
       "      <td>2.930287</td>\n",
       "      <td>0.842702</td>\n",
       "    </tr>\n",
       "    <tr>\n",
       "      <th>0001055178</th>\n",
       "      <td>12</td>\n",
       "      <td>0.332911</td>\n",
       "      <td>0.465856</td>\n",
       "    </tr>\n",
       "    <tr>\n",
       "      <th>0001473123</th>\n",
       "      <td>3</td>\n",
       "      <td>1.149615</td>\n",
       "      <td>1.526551</td>\n",
       "    </tr>\n",
       "    <tr>\n",
       "      <th>0001473727</th>\n",
       "      <td>3</td>\n",
       "      <td>0.069478</td>\n",
       "      <td>0.756506</td>\n",
       "    </tr>\n",
       "    <tr>\n",
       "      <th>0001473905</th>\n",
       "      <td>2</td>\n",
       "      <td>0.311713</td>\n",
       "      <td>0.710632</td>\n",
       "    </tr>\n",
       "  </tbody>\n",
       "</table>\n",
       "</div>"
      ],
      "text/plain": [
       "            book_num_reviews  std_HVAR  top_quartile_HVAR\n",
       "asin                                                     \n",
       "000100039X                86  2.930287           0.842702\n",
       "0001055178                12  0.332911           0.465856\n",
       "0001473123                 3  1.149615           1.526551\n",
       "0001473727                 3  0.069478           0.756506\n",
       "0001473905                 2  0.311713           0.710632"
      ]
     },
     "execution_count": 19,
     "metadata": {},
     "output_type": "execute_result"
    }
   ],
   "source": [
    "by_book.head()"
   ]
  },
  {
   "cell_type": "code",
   "execution_count": 20,
   "metadata": {},
   "outputs": [],
   "source": [
    "# Save this off because will use the cutoff to label the dev and test sets\n",
    "by_book.to_csv('../book_cutoffs.csv',index=True)"
   ]
  },
  {
   "cell_type": "code",
   "execution_count": 13,
   "metadata": {},
   "outputs": [],
   "source": [
    "# We join the review_counts and std_HVAR plus cutoff values back onto the original dataframe\n",
    "df = df.join(by_book,on='asin')\n",
    "# And we filter down that original dataframe to contain only the reviews we'll be labeling\n",
    "df = df[(df.book_num_reviews >=4) & (~df.std_HVAR.isnull()) & (df.std_HVAR > 0)]"
   ]
  },
  {
   "cell_type": "code",
   "execution_count": 14,
   "metadata": {},
   "outputs": [],
   "source": [
    "# And now we label the reviews that are in the top quartile as 'most_helpful' = 1 (otherwise 0)\n",
    "df['most_helpful'] = df.apply(lambda x: int(x.annual_HVAR > x.top_quartile_HVAR),axis = 1)"
   ]
  },
  {
   "cell_type": "code",
   "execution_count": 15,
   "metadata": {},
   "outputs": [
    {
     "data": {
      "text/plain": [
       "0.25512233600178064"
      ]
     },
     "execution_count": 15,
     "metadata": {},
     "output_type": "execute_result"
    }
   ],
   "source": [
    "df.most_helpful.sum()/df.shape[0]\n",
    "# Yep, is 25.3%"
   ]
  },
  {
   "cell_type": "code",
   "execution_count": 113,
   "metadata": {},
   "outputs": [
    {
     "data": {
      "text/plain": [
       "Index(['asin', 'helpful', 'overall', 'reviewText', 'reviewTime', 'reviewerID',\n",
       "       'reviewerName', 'summary', 'unixReviewTime', 'helpful_votes',\n",
       "       'review_age_days', 'annual_HVAR', 'book_num_reviews', 'std_HVAR',\n",
       "       'top_quartile_HVAR', 'most_helpful'],\n",
       "      dtype='object')"
      ]
     },
     "execution_count": 113,
     "metadata": {},
     "output_type": "execute_result"
    }
   ],
   "source": [
    "df.columns"
   ]
  },
  {
   "cell_type": "code",
   "execution_count": 21,
   "metadata": {},
   "outputs": [
    {
     "data": {
      "text/html": [
       "<div>\n",
       "<style scoped>\n",
       "    .dataframe tbody tr th:only-of-type {\n",
       "        vertical-align: middle;\n",
       "    }\n",
       "\n",
       "    .dataframe tbody tr th {\n",
       "        vertical-align: top;\n",
       "    }\n",
       "\n",
       "    .dataframe thead th {\n",
       "        text-align: right;\n",
       "    }\n",
       "</style>\n",
       "<table border=\"1\" class=\"dataframe\">\n",
       "  <thead>\n",
       "    <tr style=\"text-align: right;\">\n",
       "      <th></th>\n",
       "      <th>asin</th>\n",
       "      <th>overall</th>\n",
       "      <th>reviewText</th>\n",
       "      <th>reviewTime</th>\n",
       "      <th>reviewerID</th>\n",
       "      <th>reviewerName</th>\n",
       "      <th>summary</th>\n",
       "      <th>unixReviewTime</th>\n",
       "      <th>helpful_votes</th>\n",
       "      <th>review_age_days</th>\n",
       "      <th>annual_HVAR</th>\n",
       "      <th>book_num_reviews</th>\n",
       "      <th>std_HVAR</th>\n",
       "      <th>top_quartile_HVAR</th>\n",
       "      <th>most_helpful</th>\n",
       "    </tr>\n",
       "  </thead>\n",
       "  <tbody>\n",
       "    <tr>\n",
       "      <th>6</th>\n",
       "      <td>000100039X</td>\n",
       "      <td>5</td>\n",
       "      <td>I first read The Prophet by Kahlil Gibran over 30 years ago and have read it many times since. Gibran's messages are timeless and have a...</td>\n",
       "      <td>2012-03-12</td>\n",
       "      <td>AF7CSSGV93RXN</td>\n",
       "      <td>A. William Benitez \"A. William Benitez\"</td>\n",
       "      <td>A Great Little Gift</td>\n",
       "      <td>1331510400</td>\n",
       "      <td>5</td>\n",
       "      <td>863</td>\n",
       "      <td>2.114716</td>\n",
       "      <td>86</td>\n",
       "      <td>2.930287</td>\n",
       "      <td>0.842702</td>\n",
       "      <td>1</td>\n",
       "    </tr>\n",
       "    <tr>\n",
       "      <th>8</th>\n",
       "      <td>000100039X</td>\n",
       "      <td>5</td>\n",
       "      <td>This is one of the first (literary) books I recall reading. My mother kept a collection of Gibran's works that she often read. I was cur...</td>\n",
       "      <td>2000-06-24</td>\n",
       "      <td>A1NPNGWBVD9AK3</td>\n",
       "      <td>Bruce Kendall \"BEK\"</td>\n",
       "      <td>Simple Wisdom</td>\n",
       "      <td>961804800</td>\n",
       "      <td>81</td>\n",
       "      <td>5142</td>\n",
       "      <td>5.749708</td>\n",
       "      <td>86</td>\n",
       "      <td>2.930287</td>\n",
       "      <td>0.842702</td>\n",
       "      <td>1</td>\n",
       "    </tr>\n",
       "    <tr>\n",
       "      <th>10</th>\n",
       "      <td>000100039X</td>\n",
       "      <td>5</td>\n",
       "      <td>The Prophet is Kahlil Gibran's best known work in the western world with over 25 million copies sold. It is said that Kahlil spent more ...</td>\n",
       "      <td>2009-10-27</td>\n",
       "      <td>A3IS4WGMFR4X65</td>\n",
       "      <td>Colin Lewis \"WisdomNote\"</td>\n",
       "      <td>The most loving book ever written</td>\n",
       "      <td>1256601600</td>\n",
       "      <td>8</td>\n",
       "      <td>1730</td>\n",
       "      <td>1.687861</td>\n",
       "      <td>86</td>\n",
       "      <td>2.930287</td>\n",
       "      <td>0.842702</td>\n",
       "      <td>1</td>\n",
       "    </tr>\n",
       "    <tr>\n",
       "      <th>14</th>\n",
       "      <td>000100039X</td>\n",
       "      <td>5</td>\n",
       "      <td>\" When you are joyous, look deep into your heart and you shall find it is only that which has given you sorrow is that giving you joy. W...</td>\n",
       "      <td>2009-11-29</td>\n",
       "      <td>AMRZ5G7HF7I03</td>\n",
       "      <td>Didaskalex \"Eusebius Alexandrinus\"</td>\n",
       "      <td>Gibran's Prophet-worthy Poetic Wisdom</td>\n",
       "      <td>1259452800</td>\n",
       "      <td>4</td>\n",
       "      <td>1697</td>\n",
       "      <td>0.860342</td>\n",
       "      <td>86</td>\n",
       "      <td>2.930287</td>\n",
       "      <td>0.842702</td>\n",
       "      <td>1</td>\n",
       "    </tr>\n",
       "    <tr>\n",
       "      <th>19</th>\n",
       "      <td>000100039X</td>\n",
       "      <td>5</td>\n",
       "      <td>I plan to buy 3 more copies from Amazon, for my departing son &amp; distant friends.Last night, I made a mad dash to get a copy of this book...</td>\n",
       "      <td>2011-02-27</td>\n",
       "      <td>A3A0ZK5GTHSCUV</td>\n",
       "      <td>D. Woncisz \"LADIDAH\"</td>\n",
       "      <td>QUICK AND POWERFUL \"FIRST-AID\" FOR THE BROKEN SPIRIT</td>\n",
       "      <td>1298764800</td>\n",
       "      <td>4</td>\n",
       "      <td>1242</td>\n",
       "      <td>1.175523</td>\n",
       "      <td>86</td>\n",
       "      <td>2.930287</td>\n",
       "      <td>0.842702</td>\n",
       "      <td>1</td>\n",
       "    </tr>\n",
       "  </tbody>\n",
       "</table>\n",
       "</div>"
      ],
      "text/plain": [
       "          asin  overall  \\\n",
       "6   000100039X        5   \n",
       "8   000100039X        5   \n",
       "10  000100039X        5   \n",
       "14  000100039X        5   \n",
       "19  000100039X        5   \n",
       "\n",
       "                                                                                                                                     reviewText  \\\n",
       "6   I first read The Prophet by Kahlil Gibran over 30 years ago and have read it many times since. Gibran's messages are timeless and have a...   \n",
       "8   This is one of the first (literary) books I recall reading. My mother kept a collection of Gibran's works that she often read. I was cur...   \n",
       "10  The Prophet is Kahlil Gibran's best known work in the western world with over 25 million copies sold. It is said that Kahlil spent more ...   \n",
       "14  \" When you are joyous, look deep into your heart and you shall find it is only that which has given you sorrow is that giving you joy. W...   \n",
       "19  I plan to buy 3 more copies from Amazon, for my departing son & distant friends.Last night, I made a mad dash to get a copy of this book...   \n",
       "\n",
       "   reviewTime      reviewerID                             reviewerName  \\\n",
       "6  2012-03-12   AF7CSSGV93RXN  A. William Benitez \"A. William Benitez\"   \n",
       "8  2000-06-24  A1NPNGWBVD9AK3                      Bruce Kendall \"BEK\"   \n",
       "10 2009-10-27  A3IS4WGMFR4X65                 Colin Lewis \"WisdomNote\"   \n",
       "14 2009-11-29   AMRZ5G7HF7I03       Didaskalex \"Eusebius Alexandrinus\"   \n",
       "19 2011-02-27  A3A0ZK5GTHSCUV                     D. Woncisz \"LADIDAH\"   \n",
       "\n",
       "                                                 summary  unixReviewTime  \\\n",
       "6                                    A Great Little Gift      1331510400   \n",
       "8                                          Simple Wisdom       961804800   \n",
       "10                     The most loving book ever written      1256601600   \n",
       "14                 Gibran's Prophet-worthy Poetic Wisdom      1259452800   \n",
       "19  QUICK AND POWERFUL \"FIRST-AID\" FOR THE BROKEN SPIRIT      1298764800   \n",
       "\n",
       "    helpful_votes  review_age_days  annual_HVAR  book_num_reviews  std_HVAR  \\\n",
       "6               5              863     2.114716                86  2.930287   \n",
       "8              81             5142     5.749708                86  2.930287   \n",
       "10              8             1730     1.687861                86  2.930287   \n",
       "14              4             1697     0.860342                86  2.930287   \n",
       "19              4             1242     1.175523                86  2.930287   \n",
       "\n",
       "    top_quartile_HVAR  most_helpful  \n",
       "6            0.842702             1  \n",
       "8            0.842702             1  \n",
       "10           0.842702             1  \n",
       "14           0.842702             1  \n",
       "19           0.842702             1  "
      ]
     },
     "execution_count": 21,
     "metadata": {},
     "output_type": "execute_result"
    }
   ],
   "source": [
    "df[df.most_helpful == 1].head()"
   ]
  },
  {
   "cell_type": "code",
   "execution_count": 22,
   "metadata": {},
   "outputs": [
    {
     "data": {
      "text/html": [
       "<div>\n",
       "<style scoped>\n",
       "    .dataframe tbody tr th:only-of-type {\n",
       "        vertical-align: middle;\n",
       "    }\n",
       "\n",
       "    .dataframe tbody tr th {\n",
       "        vertical-align: top;\n",
       "    }\n",
       "\n",
       "    .dataframe thead th {\n",
       "        text-align: right;\n",
       "    }\n",
       "</style>\n",
       "<table border=\"1\" class=\"dataframe\">\n",
       "  <thead>\n",
       "    <tr style=\"text-align: right;\">\n",
       "      <th></th>\n",
       "      <th>asin</th>\n",
       "      <th>overall</th>\n",
       "      <th>reviewText</th>\n",
       "      <th>reviewTime</th>\n",
       "      <th>reviewerID</th>\n",
       "      <th>reviewerName</th>\n",
       "      <th>summary</th>\n",
       "      <th>unixReviewTime</th>\n",
       "      <th>helpful_votes</th>\n",
       "      <th>review_age_days</th>\n",
       "      <th>annual_HVAR</th>\n",
       "      <th>book_num_reviews</th>\n",
       "      <th>std_HVAR</th>\n",
       "      <th>top_quartile_HVAR</th>\n",
       "      <th>most_helpful</th>\n",
       "    </tr>\n",
       "  </thead>\n",
       "  <tbody>\n",
       "    <tr>\n",
       "      <th>0</th>\n",
       "      <td>000100039X</td>\n",
       "      <td>5</td>\n",
       "      <td>This is one my must have books. It is a masterpiece of spirituality. I'll be the first to admit, its literary quality isn't much. It is ...</td>\n",
       "      <td>2003-12-11</td>\n",
       "      <td>A2S166WSCFIFP5</td>\n",
       "      <td>adead_poet@hotmail.com \"adead_poet@hotmail.com\"</td>\n",
       "      <td>close to god</td>\n",
       "      <td>1071100800</td>\n",
       "      <td>0</td>\n",
       "      <td>3877</td>\n",
       "      <td>0.000000</td>\n",
       "      <td>86</td>\n",
       "      <td>2.930287</td>\n",
       "      <td>0.842702</td>\n",
       "      <td>0</td>\n",
       "    </tr>\n",
       "    <tr>\n",
       "      <th>1</th>\n",
       "      <td>000100039X</td>\n",
       "      <td>5</td>\n",
       "      <td>A timeless classic.  It is a very demanding and assuming title, but Gibran backs it up with some excellent style and content.  If he had...</td>\n",
       "      <td>2002-10-07</td>\n",
       "      <td>A2XQ5LZHTD4AFT</td>\n",
       "      <td>Alaturka</td>\n",
       "      <td>A Modern Rumi</td>\n",
       "      <td>1033948800</td>\n",
       "      <td>7</td>\n",
       "      <td>4307</td>\n",
       "      <td>0.593220</td>\n",
       "      <td>86</td>\n",
       "      <td>2.930287</td>\n",
       "      <td>0.842702</td>\n",
       "      <td>0</td>\n",
       "    </tr>\n",
       "    <tr>\n",
       "      <th>2</th>\n",
       "      <td>000100039X</td>\n",
       "      <td>5</td>\n",
       "      <td>I discovered The Prophet fifty years ago in college and have read it dozens of times since then.  Now, in addition to my beat up hard co...</td>\n",
       "      <td>2013-01-23</td>\n",
       "      <td>A19N3FCQCLJYUA</td>\n",
       "      <td>Amazon Customer</td>\n",
       "      <td>A book everyone &amp;#34;should&amp;#34; read</td>\n",
       "      <td>1358899200</td>\n",
       "      <td>1</td>\n",
       "      <td>546</td>\n",
       "      <td>0.668498</td>\n",
       "      <td>86</td>\n",
       "      <td>2.930287</td>\n",
       "      <td>0.842702</td>\n",
       "      <td>0</td>\n",
       "    </tr>\n",
       "    <tr>\n",
       "      <th>3</th>\n",
       "      <td>000100039X</td>\n",
       "      <td>5</td>\n",
       "      <td>Can't say enough about Kahlil Gibran's work among this piece. Everybody in the whole world should read this! There is almost too much to...</td>\n",
       "      <td>2012-06-27</td>\n",
       "      <td>A3FFNE1DR5SI1W</td>\n",
       "      <td>A. Morelli</td>\n",
       "      <td>phenomenal piece of literature!</td>\n",
       "      <td>1340755200</td>\n",
       "      <td>1</td>\n",
       "      <td>756</td>\n",
       "      <td>0.482804</td>\n",
       "      <td>86</td>\n",
       "      <td>2.930287</td>\n",
       "      <td>0.842702</td>\n",
       "      <td>0</td>\n",
       "    </tr>\n",
       "    <tr>\n",
       "      <th>4</th>\n",
       "      <td>000100039X</td>\n",
       "      <td>5</td>\n",
       "      <td>Cool book, I really like the quality of the production.  Black clothbound with gold embossing and nice paper, looks to be cotton rag.  I...</td>\n",
       "      <td>2012-02-15</td>\n",
       "      <td>ARDQ9KNB8K22N</td>\n",
       "      <td>Anwar</td>\n",
       "      <td>\"The Prophet\" is cool</td>\n",
       "      <td>1329264000</td>\n",
       "      <td>1</td>\n",
       "      <td>889</td>\n",
       "      <td>0.410574</td>\n",
       "      <td>86</td>\n",
       "      <td>2.930287</td>\n",
       "      <td>0.842702</td>\n",
       "      <td>0</td>\n",
       "    </tr>\n",
       "  </tbody>\n",
       "</table>\n",
       "</div>"
      ],
      "text/plain": [
       "         asin  overall  \\\n",
       "0  000100039X        5   \n",
       "1  000100039X        5   \n",
       "2  000100039X        5   \n",
       "3  000100039X        5   \n",
       "4  000100039X        5   \n",
       "\n",
       "                                                                                                                                    reviewText  \\\n",
       "0  This is one my must have books. It is a masterpiece of spirituality. I'll be the first to admit, its literary quality isn't much. It is ...   \n",
       "1  A timeless classic.  It is a very demanding and assuming title, but Gibran backs it up with some excellent style and content.  If he had...   \n",
       "2  I discovered The Prophet fifty years ago in college and have read it dozens of times since then.  Now, in addition to my beat up hard co...   \n",
       "3  Can't say enough about Kahlil Gibran's work among this piece. Everybody in the whole world should read this! There is almost too much to...   \n",
       "4  Cool book, I really like the quality of the production.  Black clothbound with gold embossing and nice paper, looks to be cotton rag.  I...   \n",
       "\n",
       "  reviewTime      reviewerID                                     reviewerName  \\\n",
       "0 2003-12-11  A2S166WSCFIFP5  adead_poet@hotmail.com \"adead_poet@hotmail.com\"   \n",
       "1 2002-10-07  A2XQ5LZHTD4AFT                                         Alaturka   \n",
       "2 2013-01-23  A19N3FCQCLJYUA                                  Amazon Customer   \n",
       "3 2012-06-27  A3FFNE1DR5SI1W                                       A. Morelli   \n",
       "4 2012-02-15   ARDQ9KNB8K22N                                            Anwar   \n",
       "\n",
       "                                 summary  unixReviewTime  helpful_votes  \\\n",
       "0                           close to god      1071100800              0   \n",
       "1                          A Modern Rumi      1033948800              7   \n",
       "2  A book everyone &#34;should&#34; read      1358899200              1   \n",
       "3        phenomenal piece of literature!      1340755200              1   \n",
       "4                  \"The Prophet\" is cool      1329264000              1   \n",
       "\n",
       "   review_age_days  annual_HVAR  book_num_reviews  std_HVAR  \\\n",
       "0             3877     0.000000                86  2.930287   \n",
       "1             4307     0.593220                86  2.930287   \n",
       "2              546     0.668498                86  2.930287   \n",
       "3              756     0.482804                86  2.930287   \n",
       "4              889     0.410574                86  2.930287   \n",
       "\n",
       "   top_quartile_HVAR  most_helpful  \n",
       "0           0.842702             0  \n",
       "1           0.842702             0  \n",
       "2           0.842702             0  \n",
       "3           0.842702             0  \n",
       "4           0.842702             0  "
      ]
     },
     "execution_count": 22,
     "metadata": {},
     "output_type": "execute_result"
    }
   ],
   "source": [
    "df[df.most_helpful == 0].head()"
   ]
  },
  {
   "cell_type": "code",
   "execution_count": 16,
   "metadata": {},
   "outputs": [],
   "source": [
    "# Write it out to a file\n",
    "df.to_csv('../labeled_training_set.csv',index=False)"
   ]
  },
  {
   "cell_type": "code",
   "execution_count": 116,
   "metadata": {},
   "outputs": [
    {
     "name": "stdout",
     "output_type": "stream",
     "text": [
      "/home/jend/fp/RealRelevantReviews\n"
     ]
    }
   ],
   "source": [
    "!pwd"
   ]
  },
  {
   "cell_type": "code",
   "execution_count": 23,
   "metadata": {},
   "outputs": [
    {
     "name": "stdout",
     "output_type": "stream",
     "text": [
      "total 7.9G\n",
      "drwxrwxr-x  4 jend jend 4.0K Jul 13 23:56 .\n",
      "drwxr-xr-x 21 jend jend 4.0K Jul  3 02:22 ..\n",
      "drwxrwxr-x  2 jend jend 4.0K Jul 13 23:56 .ipynb_checkpoints\n",
      "drwxrwxr-x  4 jend jend 4.0K Jul 14 00:12 RealRelevantReviews\n",
      "-rw-rw-r--  1 jend jend  15M Jul 13 23:56 book_cutoffs.csv\n",
      "-rw-rw-r--  1 jend jend 2.0M Jul 13 22:36 labeled_small_training_set.csv\n",
      "-rw-rw-r--  1 jend jend 3.3G Jul 13 23:48 labeled_training_set.csv\n",
      "-rw-rw-r--  1 jend jend 9.3M Jul  2 02:40 rowling.json\n",
      "-rw-rw-r--  1 jend jend  47M Jun 22 04:41 small_train.json\n",
      "-rw-rw-r--  1 jend jend 467K Jun 22 04:37 toy_train.json\n",
      "-rw-rw-r--  1 jend jend 4.6G Jul  3 02:23 train.json\n"
     ]
    }
   ],
   "source": [
    "!ls -lah ..\n"
   ]
  },
  {
   "cell_type": "code",
   "execution_count": null,
   "metadata": {},
   "outputs": [],
   "source": []
  }
 ],
 "metadata": {
  "kernelspec": {
   "display_name": "Python 3",
   "language": "python",
   "name": "python3"
  },
  "language_info": {
   "codemirror_mode": {
    "name": "ipython",
    "version": 3
   },
   "file_extension": ".py",
   "mimetype": "text/x-python",
   "name": "python",
   "nbconvert_exporter": "python",
   "pygments_lexer": "ipython3",
   "version": "3.7.2"
  }
 },
 "nbformat": 4,
 "nbformat_minor": 2
}
