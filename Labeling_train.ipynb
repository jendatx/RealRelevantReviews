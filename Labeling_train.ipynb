{
 "cells": [
  {
   "cell_type": "markdown",
   "metadata": {},
   "source": [
    "# Label the training dataset"
   ]
  },
  {
   "cell_type": "code",
   "execution_count": 1,
   "metadata": {},
   "outputs": [],
   "source": [
    "import json\n",
    "import matplotlib.pyplot as plt\n",
    "import numpy as np\n",
    "import pandas as pd\n",
    "import datetime\n",
    "pd.set_option('max_colwidth', 140)"
   ]
  },
  {
   "cell_type": "code",
   "execution_count": 2,
   "metadata": {},
   "outputs": [
    {
     "ename": "MemoryError",
     "evalue": "",
     "output_type": "error",
     "traceback": [
      "\u001b[0;31m---------------------------------------------------------------------------\u001b[0m",
      "\u001b[0;31mMemoryError\u001b[0m                               Traceback (most recent call last)",
      "\u001b[0;32m<ipython-input-2-56f8c7db2c68>\u001b[0m in \u001b[0;36m<module>\u001b[0;34m()\u001b[0m\n\u001b[1;32m      1\u001b[0m \u001b[0mdataset\u001b[0m \u001b[0;34m=\u001b[0m \u001b[0;34m\"../train.json\"\u001b[0m\u001b[0;34m\u001b[0m\u001b[0;34m\u001b[0m\u001b[0m\n\u001b[0;32m----> 2\u001b[0;31m \u001b[0mdf\u001b[0m \u001b[0;34m=\u001b[0m \u001b[0mpd\u001b[0m\u001b[0;34m.\u001b[0m\u001b[0mread_json\u001b[0m\u001b[0;34m(\u001b[0m\u001b[0mdataset\u001b[0m\u001b[0;34m,\u001b[0m\u001b[0mlines\u001b[0m\u001b[0;34m=\u001b[0m\u001b[0;32mTrue\u001b[0m\u001b[0;34m)\u001b[0m\u001b[0;34m\u001b[0m\u001b[0;34m\u001b[0m\u001b[0m\n\u001b[0m",
      "\u001b[0;32m~/anaconda3/lib/python3.7/site-packages/pandas/io/json/json.py\u001b[0m in \u001b[0;36mread_json\u001b[0;34m(path_or_buf, orient, typ, dtype, convert_axes, convert_dates, keep_default_dates, numpy, precise_float, date_unit, encoding, lines, chunksize, compression)\u001b[0m\n\u001b[1;32m    420\u001b[0m         \u001b[0;32mreturn\u001b[0m \u001b[0mjson_reader\u001b[0m\u001b[0;34m\u001b[0m\u001b[0;34m\u001b[0m\u001b[0m\n\u001b[1;32m    421\u001b[0m \u001b[0;34m\u001b[0m\u001b[0m\n\u001b[0;32m--> 422\u001b[0;31m     \u001b[0mresult\u001b[0m \u001b[0;34m=\u001b[0m \u001b[0mjson_reader\u001b[0m\u001b[0;34m.\u001b[0m\u001b[0mread\u001b[0m\u001b[0;34m(\u001b[0m\u001b[0;34m)\u001b[0m\u001b[0;34m\u001b[0m\u001b[0;34m\u001b[0m\u001b[0m\n\u001b[0m\u001b[1;32m    423\u001b[0m     \u001b[0;32mif\u001b[0m \u001b[0mshould_close\u001b[0m\u001b[0;34m:\u001b[0m\u001b[0;34m\u001b[0m\u001b[0;34m\u001b[0m\u001b[0m\n\u001b[1;32m    424\u001b[0m         \u001b[0;32mtry\u001b[0m\u001b[0;34m:\u001b[0m\u001b[0;34m\u001b[0m\u001b[0;34m\u001b[0m\u001b[0m\n",
      "\u001b[0;32m~/anaconda3/lib/python3.7/site-packages/pandas/io/json/json.py\u001b[0m in \u001b[0;36mread\u001b[0;34m(self)\u001b[0m\n\u001b[1;32m    524\u001b[0m             \u001b[0mdata\u001b[0m \u001b[0;34m=\u001b[0m \u001b[0mto_str\u001b[0m\u001b[0;34m(\u001b[0m\u001b[0mself\u001b[0m\u001b[0;34m.\u001b[0m\u001b[0mdata\u001b[0m\u001b[0;34m)\u001b[0m\u001b[0;34m\u001b[0m\u001b[0;34m\u001b[0m\u001b[0m\n\u001b[1;32m    525\u001b[0m             obj = self._get_object_parser(\n\u001b[0;32m--> 526\u001b[0;31m                 \u001b[0mself\u001b[0m\u001b[0;34m.\u001b[0m\u001b[0m_combine_lines\u001b[0m\u001b[0;34m(\u001b[0m\u001b[0mdata\u001b[0m\u001b[0;34m.\u001b[0m\u001b[0msplit\u001b[0m\u001b[0;34m(\u001b[0m\u001b[0;34m'\\n'\u001b[0m\u001b[0;34m)\u001b[0m\u001b[0;34m)\u001b[0m\u001b[0;34m\u001b[0m\u001b[0;34m\u001b[0m\u001b[0m\n\u001b[0m\u001b[1;32m    527\u001b[0m             )\n\u001b[1;32m    528\u001b[0m         \u001b[0;32melse\u001b[0m\u001b[0;34m:\u001b[0m\u001b[0;34m\u001b[0m\u001b[0;34m\u001b[0m\u001b[0m\n",
      "\u001b[0;32m~/anaconda3/lib/python3.7/site-packages/pandas/io/json/json.py\u001b[0m in \u001b[0;36m_combine_lines\u001b[0;34m(self, lines)\u001b[0m\n\u001b[1;32m    514\u001b[0m         \u001b[0;34m\"\"\"Combines a list of JSON objects into one JSON object\"\"\"\u001b[0m\u001b[0;34m\u001b[0m\u001b[0;34m\u001b[0m\u001b[0m\n\u001b[1;32m    515\u001b[0m         \u001b[0mlines\u001b[0m \u001b[0;34m=\u001b[0m \u001b[0mfilter\u001b[0m\u001b[0;34m(\u001b[0m\u001b[0;32mNone\u001b[0m\u001b[0;34m,\u001b[0m \u001b[0mmap\u001b[0m\u001b[0;34m(\u001b[0m\u001b[0;32mlambda\u001b[0m \u001b[0mx\u001b[0m\u001b[0;34m:\u001b[0m \u001b[0mx\u001b[0m\u001b[0;34m.\u001b[0m\u001b[0mstrip\u001b[0m\u001b[0;34m(\u001b[0m\u001b[0;34m)\u001b[0m\u001b[0;34m,\u001b[0m \u001b[0mlines\u001b[0m\u001b[0;34m)\u001b[0m\u001b[0;34m)\u001b[0m\u001b[0;34m\u001b[0m\u001b[0;34m\u001b[0m\u001b[0m\n\u001b[0;32m--> 516\u001b[0;31m         \u001b[0;32mreturn\u001b[0m \u001b[0;34m'['\u001b[0m \u001b[0;34m+\u001b[0m \u001b[0;34m','\u001b[0m\u001b[0;34m.\u001b[0m\u001b[0mjoin\u001b[0m\u001b[0;34m(\u001b[0m\u001b[0mlines\u001b[0m\u001b[0;34m)\u001b[0m \u001b[0;34m+\u001b[0m \u001b[0;34m']'\u001b[0m\u001b[0;34m\u001b[0m\u001b[0;34m\u001b[0m\u001b[0m\n\u001b[0m\u001b[1;32m    517\u001b[0m \u001b[0;34m\u001b[0m\u001b[0m\n\u001b[1;32m    518\u001b[0m     \u001b[0;32mdef\u001b[0m \u001b[0mread\u001b[0m\u001b[0;34m(\u001b[0m\u001b[0mself\u001b[0m\u001b[0;34m)\u001b[0m\u001b[0;34m:\u001b[0m\u001b[0;34m\u001b[0m\u001b[0;34m\u001b[0m\u001b[0m\n",
      "\u001b[0;31mMemoryError\u001b[0m: "
     ]
    }
   ],
   "source": [
    "dataset = \"../train.json\"\n",
    "df = pd.read_json(dataset,lines=True)"
   ]
  },
  {
   "cell_type": "code",
   "execution_count": 97,
   "metadata": {},
   "outputs": [],
   "source": [
    "# Peel out count of helpful votes into its own column\n",
    "df['helpful_votes'] = df.apply(lambda x: x.helpful[0],axis=1)\n",
    "# To avoid confusion later, drop the 'helpful' column at this point\n",
    "df.drop('helpful', axis = 1, inplace=True)\n",
    "# Convert reviewTime to datetime type info we can work with\n",
    "df.reviewTime = pd.to_datetime(df.reviewTime,infer_datetime_format=True)"
   ]
  },
  {
   "cell_type": "code",
   "execution_count": 98,
   "metadata": {},
   "outputs": [
    {
     "name": "stdout",
     "output_type": "stream",
     "text": [
      "Our dataset initially contains 37722 reviews\n"
     ]
    }
   ],
   "source": [
    "print(\"Our dataset initially contains {} reviews\".format(df.shape[0]))"
   ]
  },
  {
   "cell_type": "code",
   "execution_count": 99,
   "metadata": {},
   "outputs": [
    {
     "name": "stdout",
     "output_type": "stream",
     "text": [
      "After removing reviews less than one year old, our dataset contains 28567 reviews\n"
     ]
    }
   ],
   "source": [
    "# Our dataset snapshot has as its maximum review date 2014-07-23\n",
    "snapshotted_string = \"20140723\"\n",
    "snapshotted = datetime.datetime.strptime(snapshotted_string, '%Y%m%d')\n",
    "\n",
    "# We will DROP reviews less than one year old\n",
    "# They may not have accumulated enough evidence to support being helpful or not\n",
    "ourcutoff = snapshotted - datetime.timedelta(days=365)\n",
    "df = df[df.reviewTime < ourcutoff]\n",
    "print(\"After removing reviews less than one year old, our dataset contains {} reviews\".format(df.shape[0]))"
   ]
  },
  {
   "cell_type": "code",
   "execution_count": 100,
   "metadata": {},
   "outputs": [],
   "source": [
    "# Here we store the age of each review in days\n",
    "df['review_age_days'] = df.apply(lambda x: (snapshotted - x.reviewTime).days,axis = 1)"
   ]
  },
  {
   "cell_type": "code",
   "execution_count": 101,
   "metadata": {},
   "outputs": [
    {
     "data": {
      "image/png": "[encoded data removed]",
      "text/plain": [
       "<Figure size 432x288 with 1 Axes>"
      ]
     },
     "metadata": {
      "needs_background": "light"
     },
     "output_type": "display_data"
    }
   ],
   "source": [
    "days_old_hist = plt.hist(df['review_age_days'])"
   ]
  },
  {
   "cell_type": "code",
   "execution_count": 102,
   "metadata": {},
   "outputs": [],
   "source": [
    "# We create the annual HVAR score\n",
    "df['annual_HVAR'] = df.apply(lambda x: 365*x.helpful_votes/x.review_age_days, axis = 1)"
   ]
  },
  {
   "cell_type": "code",
   "execution_count": 103,
   "metadata": {},
   "outputs": [],
   "source": [
    "# Now we group by the book id\n",
    "# And aggregate by count of unique reviews for the given book\n",
    "# (We count using unixReviewTime as a proxy for uniqueness because there's no review ID provided)\n",
    "# We also aggregate the HVAR within groups by its standard deviation\n",
    "# As we cannot retrieve a signal with respect to helpfulness if reviews don't have variance \n",
    "by_book = df.groupby('asin').agg({'unixReviewTime':'size','annual_HVAR': lambda x: (x.std(),x.quantile(.75))})"
   ]
  },
  {
   "cell_type": "code",
   "execution_count": 104,
   "metadata": {},
   "outputs": [],
   "source": [
    "# Extract standard deviation to filter out zero-valued books later\n",
    "by_book['std_HVAR'] = by_book.apply(lambda x: x.annual_HVAR[0],axis = 1)\n",
    "# Extract top quartile cutoff per book\n",
    "by_book['top_quartile_HVAR'] = by_book.apply(lambda x: x.annual_HVAR[1],axis = 1)\n",
    "# Drop the combo column now that we have them separated\n",
    "by_book.drop('annual_HVAR',axis=1,inplace=True)\n",
    "# Rename for clarity when filtering by this column later\n",
    "by_book.rename(columns={\"unixReviewTime\": \"book_num_reviews\"}, inplace=True)"
   ]
  },
  {
   "cell_type": "code",
   "execution_count": 105,
   "metadata": {},
   "outputs": [
    {
     "data": {
      "text/plain": [
       "Index(['book_num_reviews', 'std_HVAR', 'top_quartile_HVAR'], dtype='object')"
      ]
     },
     "execution_count": 105,
     "metadata": {},
     "output_type": "execute_result"
    }
   ],
   "source": [
    "by_book.columns"
   ]
  },
  {
   "cell_type": "code",
   "execution_count": 106,
   "metadata": {},
   "outputs": [
    {
     "name": "stdout",
     "output_type": "stream",
     "text": [
      "There are 23930 unique books in this dataset\n",
      "1730 reviews will remain after final filters applied\n"
     ]
    }
   ],
   "source": [
    "# Now print out resulting size of review dataset\n",
    "print(\"There are {} unique books in this dataset\".format(by_book.shape[0]))\n",
    "# by_book.rename(columns={\"unixReviewTime\": \"book_num_reviews\",\"annual_HVAR\":\"std_HVAR\"}, inplace=True)\n",
    "print(\"{} reviews will remain after final filters applied\".format(by_book[(by_book.book_num_reviews >=4)\\\n",
    "    & (by_book.std_HVAR != 0)].book_num_reviews.sum()))"
   ]
  },
  {
   "cell_type": "code",
   "execution_count": 107,
   "metadata": {},
   "outputs": [],
   "source": [
    "# We join the review_counts and std_HVAR plus cutoff values back onto the original dataframe\n",
    "df = df.join(by_book,on='asin')\n",
    "# And we filter down that original dataframe to contain only the reviews we'll be labeling\n",
    "df = df[(df.book_num_reviews >=4) & (~df.std_HVAR.isnull()) & (df.std_HVAR > 0)]"
   ]
  },
  {
   "cell_type": "code",
   "execution_count": 109,
   "metadata": {},
   "outputs": [],
   "source": [
    "# And now we label the reviews that are in the top quartile as 'most_helpful' = 1 (otherwise 0)\n",
    "df['most_helpful'] = df.apply(lambda x: int(x.annual_HVAR > x.top_quartile_HVAR),axis = 1)"
   ]
  },
  {
   "cell_type": "code",
   "execution_count": 112,
   "metadata": {},
   "outputs": [],
   "source": [
    "# df.most_helpful.sum()/df.shape[0]\n",
    "# Yep, is 25.3%"
   ]
  },
  {
   "cell_type": "code",
   "execution_count": 113,
   "metadata": {},
   "outputs": [
    {
     "data": {
      "text/plain": [
       "Index(['asin', 'helpful', 'overall', 'reviewText', 'reviewTime', 'reviewerID',\n",
       "       'reviewerName', 'summary', 'unixReviewTime', 'helpful_votes',\n",
       "       'review_age_days', 'annual_HVAR', 'book_num_reviews', 'std_HVAR',\n",
       "       'top_quartile_HVAR', 'most_helpful'],\n",
       "      dtype='object')"
      ]
     },
     "execution_count": 113,
     "metadata": {},
     "output_type": "execute_result"
    }
   ],
   "source": [
    "df.columns"
   ]
  },
  {
   "cell_type": "code",
   "execution_count": 114,
   "metadata": {},
   "outputs": [
    {
     "data": {
      "text/html": [
       "<div>\n",
       "<style scoped>\n",
       "    .dataframe tbody tr th:only-of-type {\n",
       "        vertical-align: middle;\n",
       "    }\n",
       "\n",
       "    .dataframe tbody tr th {\n",
       "        vertical-align: top;\n",
       "    }\n",
       "\n",
       "    .dataframe thead th {\n",
       "        text-align: right;\n",
       "    }\n",
       "</style>\n",
       "<table border=\"1\" class=\"dataframe\">\n",
       "  <thead>\n",
       "    <tr style=\"text-align: right;\">\n",
       "      <th></th>\n",
       "      <th>asin</th>\n",
       "      <th>helpful</th>\n",
       "      <th>overall</th>\n",
       "      <th>reviewText</th>\n",
       "      <th>reviewTime</th>\n",
       "      <th>reviewerID</th>\n",
       "      <th>reviewerName</th>\n",
       "      <th>summary</th>\n",
       "      <th>unixReviewTime</th>\n",
       "      <th>helpful_votes</th>\n",
       "      <th>review_age_days</th>\n",
       "      <th>annual_HVAR</th>\n",
       "      <th>book_num_reviews</th>\n",
       "      <th>std_HVAR</th>\n",
       "      <th>top_quartile_HVAR</th>\n",
       "      <th>most_helpful</th>\n",
       "    </tr>\n",
       "  </thead>\n",
       "  <tbody>\n",
       "    <tr>\n",
       "      <th>0</th>\n",
       "      <td>0002007770</td>\n",
       "      <td>[1, 1]</td>\n",
       "      <td>5</td>\n",
       "      <td>After \"Riding Lessons\", which I loved - and \"Flying Changes\", which was a huge disappointment to me, I was not sure what I would find in...</td>\n",
       "      <td>2006-11-11</td>\n",
       "      <td>A3GUK4RWXKHS9I</td>\n",
       "      <td>Barbara McArthur \"writer/editor\"</td>\n",
       "      <td>All I hoped for...and more!</td>\n",
       "      <td>1163203200</td>\n",
       "      <td>1</td>\n",
       "      <td>2811</td>\n",
       "      <td>0.129847</td>\n",
       "      <td>19</td>\n",
       "      <td>0.254114</td>\n",
       "      <td>0.472536</td>\n",
       "      <td>0</td>\n",
       "    </tr>\n",
       "    <tr>\n",
       "      <th>1</th>\n",
       "      <td>0002007770</td>\n",
       "      <td>[3, 4]</td>\n",
       "      <td>5</td>\n",
       "      <td>Page after page this novel is filled with interesting facts, experiences and history. That it's a memoir of a patient/resident of a nurs...</td>\n",
       "      <td>2006-11-03</td>\n",
       "      <td>A4MSAOOL01JMG</td>\n",
       "      <td>Bruce Burns</td>\n",
       "      <td>Fabulous Book</td>\n",
       "      <td>1162512000</td>\n",
       "      <td>3</td>\n",
       "      <td>2819</td>\n",
       "      <td>0.388436</td>\n",
       "      <td>19</td>\n",
       "      <td>0.254114</td>\n",
       "      <td>0.472536</td>\n",
       "      <td>0</td>\n",
       "    </tr>\n",
       "    <tr>\n",
       "      <th>2</th>\n",
       "      <td>0002007770</td>\n",
       "      <td>[1, 1]</td>\n",
       "      <td>5</td>\n",
       "      <td>A lovely easy book to read. Good story. Makes one think about how we treat our elderly and would we want to be set aside like this. Like...</td>\n",
       "      <td>2013-01-16</td>\n",
       "      <td>AJKBVGR25R4OF</td>\n",
       "      <td>helen d</td>\n",
       "      <td>Good read</td>\n",
       "      <td>1358294400</td>\n",
       "      <td>1</td>\n",
       "      <td>553</td>\n",
       "      <td>0.660036</td>\n",
       "      <td>19</td>\n",
       "      <td>0.254114</td>\n",
       "      <td>0.472536</td>\n",
       "      <td>1</td>\n",
       "    </tr>\n",
       "    <tr>\n",
       "      <th>3</th>\n",
       "      <td>0002007770</td>\n",
       "      <td>[1, 1]</td>\n",
       "      <td>5</td>\n",
       "      <td>Jacob Jankowski recounts the wonderful time he spent with the Benzini Brothers Most Spectacular Show on Earth. During the Great Depressi...</td>\n",
       "      <td>2010-07-16</td>\n",
       "      <td>A1UFV4HALV2OXW</td>\n",
       "      <td>Indian Prairie Public Library \"ippl.info\"</td>\n",
       "      <td>Wonderful story.</td>\n",
       "      <td>1279238400</td>\n",
       "      <td>1</td>\n",
       "      <td>1468</td>\n",
       "      <td>0.248638</td>\n",
       "      <td>19</td>\n",
       "      <td>0.254114</td>\n",
       "      <td>0.472536</td>\n",
       "      <td>0</td>\n",
       "    </tr>\n",
       "    <tr>\n",
       "      <th>4</th>\n",
       "      <td>0002007770</td>\n",
       "      <td>[2, 3]</td>\n",
       "      <td>5</td>\n",
       "      <td>One of those books that I didn't want to end.  The first chapters pull you in quickly.  The history of the circus is absolutely fabulous...</td>\n",
       "      <td>2008-01-12</td>\n",
       "      <td>A3BD8IG1DRRY55</td>\n",
       "      <td>Janet Lillian \"janlil\"</td>\n",
       "      <td>Fabulous read, compelling story</td>\n",
       "      <td>1200096000</td>\n",
       "      <td>2</td>\n",
       "      <td>2384</td>\n",
       "      <td>0.306208</td>\n",
       "      <td>19</td>\n",
       "      <td>0.254114</td>\n",
       "      <td>0.472536</td>\n",
       "      <td>0</td>\n",
       "    </tr>\n",
       "  </tbody>\n",
       "</table>\n",
       "</div>"
      ],
      "text/plain": [
       "         asin helpful  overall  \\\n",
       "0  0002007770  [1, 1]        5   \n",
       "1  0002007770  [3, 4]        5   \n",
       "2  0002007770  [1, 1]        5   \n",
       "3  0002007770  [1, 1]        5   \n",
       "4  0002007770  [2, 3]        5   \n",
       "\n",
       "                                                                                                                                    reviewText  \\\n",
       "0  After \"Riding Lessons\", which I loved - and \"Flying Changes\", which was a huge disappointment to me, I was not sure what I would find in...   \n",
       "1  Page after page this novel is filled with interesting facts, experiences and history. That it's a memoir of a patient/resident of a nurs...   \n",
       "2  A lovely easy book to read. Good story. Makes one think about how we treat our elderly and would we want to be set aside like this. Like...   \n",
       "3  Jacob Jankowski recounts the wonderful time he spent with the Benzini Brothers Most Spectacular Show on Earth. During the Great Depressi...   \n",
       "4  One of those books that I didn't want to end.  The first chapters pull you in quickly.  The history of the circus is absolutely fabulous...   \n",
       "\n",
       "  reviewTime      reviewerID                               reviewerName  \\\n",
       "0 2006-11-11  A3GUK4RWXKHS9I           Barbara McArthur \"writer/editor\"   \n",
       "1 2006-11-03   A4MSAOOL01JMG                                Bruce Burns   \n",
       "2 2013-01-16   AJKBVGR25R4OF                                    helen d   \n",
       "3 2010-07-16  A1UFV4HALV2OXW  Indian Prairie Public Library \"ippl.info\"   \n",
       "4 2008-01-12  A3BD8IG1DRRY55                     Janet Lillian \"janlil\"   \n",
       "\n",
       "                           summary  unixReviewTime  helpful_votes  \\\n",
       "0      All I hoped for...and more!      1163203200              1   \n",
       "1                    Fabulous Book      1162512000              3   \n",
       "2                        Good read      1358294400              1   \n",
       "3                 Wonderful story.      1279238400              1   \n",
       "4  Fabulous read, compelling story      1200096000              2   \n",
       "\n",
       "   review_age_days  annual_HVAR  book_num_reviews  std_HVAR  \\\n",
       "0             2811     0.129847                19  0.254114   \n",
       "1             2819     0.388436                19  0.254114   \n",
       "2              553     0.660036                19  0.254114   \n",
       "3             1468     0.248638                19  0.254114   \n",
       "4             2384     0.306208                19  0.254114   \n",
       "\n",
       "   top_quartile_HVAR  most_helpful  \n",
       "0           0.472536             0  \n",
       "1           0.472536             0  \n",
       "2           0.472536             1  \n",
       "3           0.472536             0  \n",
       "4           0.472536             0  "
      ]
     },
     "execution_count": 114,
     "metadata": {},
     "output_type": "execute_result"
    }
   ],
   "source": [
    "df.head()"
   ]
  },
  {
   "cell_type": "code",
   "execution_count": 115,
   "metadata": {},
   "outputs": [],
   "source": [
    "# Write it out to a file\n",
    "df.to_csv('../labeled_small_training_set.csv',index=False)"
   ]
  },
  {
   "cell_type": "code",
   "execution_count": 116,
   "metadata": {},
   "outputs": [
    {
     "name": "stdout",
     "output_type": "stream",
     "text": [
      "/home/jend/fp/RealRelevantReviews\n"
     ]
    }
   ],
   "source": [
    "!pwd"
   ]
  },
  {
   "cell_type": "code",
   "execution_count": 117,
   "metadata": {},
   "outputs": [
    {
     "name": "stdout",
     "output_type": "stream",
     "text": [
      "RealRelevantReviews\t\trowling.json\t  toy_train.json\n",
      "labeled_small_training_set.csv\tsmall_train.json  train.json\n"
     ]
    }
   ],
   "source": [
    "!ls ..\n"
   ]
  },
  {
   "cell_type": "code",
   "execution_count": null,
   "metadata": {},
   "outputs": [],
   "source": []
  }
 ],
 "metadata": {
  "kernelspec": {
   "display_name": "Python 3",
   "language": "python",
   "name": "python3"
  },
  "language_info": {
   "codemirror_mode": {
    "name": "ipython",
    "version": 3
   },
   "file_extension": ".py",
   "mimetype": "text/x-python",
   "name": "python",
   "nbconvert_exporter": "python",
   "pygments_lexer": "ipython3",
   "version": "3.7.2"
  }
 },
 "nbformat": 4,
 "nbformat_minor": 2
}
