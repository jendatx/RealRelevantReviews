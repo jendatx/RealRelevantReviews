{
 "cells": [
  {
   "cell_type": "code",
   "execution_count": 1,
   "metadata": {},
   "outputs": [],
   "source": [
    "import json\n",
    "import matplotlib.pyplot as plt\n",
    "import numpy as np\n",
    "import pandas as pd\n",
    "import datetime\n",
    "\n",
    "\n",
    "pd.set_option('max_colwidth', 140)"
   ]
  },
  {
   "cell_type": "code",
   "execution_count": 2,
   "metadata": {},
   "outputs": [
    {
     "name": "stdout",
     "output_type": "stream",
     "text": [
      "/Users/JenD/W266/FinalProject/RealRelevantReviews\n"
     ]
    }
   ],
   "source": [
    "!pwd"
   ]
  },
  {
   "cell_type": "code",
   "execution_count": 3,
   "metadata": {},
   "outputs": [
    {
     "name": "stdout",
     "output_type": "stream",
     "text": [
      "{\"reviewerID\": \"A3GUK4RWXKHS9I\", \"asin\": \"0002007770\", \"reviewerName\": \"Barbara McArthur \\\"writer/editor\\\"\", \"helpful\": [1, 1], \"reviewText\": \"After \\\"Riding Lessons\\\", which I loved - and \\\"Flying Changes\\\", which was a huge disappointment to me, I was not sure what I would find in \\\"Water for Elephants\\\".  Wow - what a great read!  Research does pay off hugely - when it enables a writer to place the reader inside another world so easily - the world of the circus. This was a world totally foreign to most of us - but now, so familiar, thanks to Sara.  This book satisfied my three requirements - transportation (take me away from all this),  levitation (lift my spirits and leave me thinking good thoughts) and infiltration (let me get inside the characters so I feel I really know them). Reading \\\"Water for Elephants\\\" is time well-spent.  I'm happy to know Sara is working on a fourth book. I'll be first in line to buy it.\", \"overall\": 5.0, \"summary\": \"All I hoped for...and more!\", \"unixReviewTime\": 1163203200, \"reviewTime\": \"11 11, 2006\"}\n"
     ]
    }
   ],
   "source": [
    "!head -1 ../small_train.json"
   ]
  },
  {
   "cell_type": "code",
   "execution_count": 4,
   "metadata": {},
   "outputs": [],
   "source": [
    "dataset = '../small_train.json'"
   ]
  },
  {
   "cell_type": "code",
   "execution_count": 5,
   "metadata": {},
   "outputs": [],
   "source": [
    "# load up the data\n",
    "df = pd.read_json(dataset,lines=True)"
   ]
  },
  {
   "cell_type": "code",
   "execution_count": 6,
   "metadata": {},
   "outputs": [
    {
     "name": "stdout",
     "output_type": "stream",
     "text": [
      "Shape of the datafile: 37722 rows by 9 columns\n"
     ]
    }
   ],
   "source": [
    "print(\"Shape of the datafile: {} rows by {} columns\".format(df.shape[0],df.shape[1]))"
   ]
  },
  {
   "cell_type": "code",
   "execution_count": 8,
   "metadata": {},
   "outputs": [
    {
     "data": {
      "text/html": [
       "<div>\n",
       "<style scoped>\n",
       "    .dataframe tbody tr th:only-of-type {\n",
       "        vertical-align: middle;\n",
       "    }\n",
       "\n",
       "    .dataframe tbody tr th {\n",
       "        vertical-align: top;\n",
       "    }\n",
       "\n",
       "    .dataframe thead th {\n",
       "        text-align: right;\n",
       "    }\n",
       "</style>\n",
       "<table border=\"1\" class=\"dataframe\">\n",
       "  <thead>\n",
       "    <tr style=\"text-align: right;\">\n",
       "      <th></th>\n",
       "      <th>asin</th>\n",
       "      <th>helpful</th>\n",
       "      <th>overall</th>\n",
       "      <th>reviewText</th>\n",
       "      <th>reviewTime</th>\n",
       "      <th>reviewerID</th>\n",
       "      <th>reviewerName</th>\n",
       "      <th>summary</th>\n",
       "      <th>unixReviewTime</th>\n",
       "    </tr>\n",
       "  </thead>\n",
       "  <tbody>\n",
       "    <tr>\n",
       "      <th>0</th>\n",
       "      <td>0002007770</td>\n",
       "      <td>[1, 1]</td>\n",
       "      <td>5</td>\n",
       "      <td>After \"Riding Lessons\", which I loved - and \"Flying Changes\", which was a huge disappointment to me, I was not sure what I would find in...</td>\n",
       "      <td>11 11, 2006</td>\n",
       "      <td>A3GUK4RWXKHS9I</td>\n",
       "      <td>Barbara McArthur \"writer/editor\"</td>\n",
       "      <td>All I hoped for...and more!</td>\n",
       "      <td>1163203200</td>\n",
       "    </tr>\n",
       "    <tr>\n",
       "      <th>1</th>\n",
       "      <td>0002007770</td>\n",
       "      <td>[3, 4]</td>\n",
       "      <td>5</td>\n",
       "      <td>Page after page this novel is filled with interesting facts, experiences and history. That it's a memoir of a patient/resident of a nurs...</td>\n",
       "      <td>11 3, 2006</td>\n",
       "      <td>A4MSAOOL01JMG</td>\n",
       "      <td>Bruce Burns</td>\n",
       "      <td>Fabulous Book</td>\n",
       "      <td>1162512000</td>\n",
       "    </tr>\n",
       "    <tr>\n",
       "      <th>2</th>\n",
       "      <td>0002007770</td>\n",
       "      <td>[1, 1]</td>\n",
       "      <td>5</td>\n",
       "      <td>A lovely easy book to read. Good story. Makes one think about how we treat our elderly and would we want to be set aside like this. Like...</td>\n",
       "      <td>01 16, 2013</td>\n",
       "      <td>AJKBVGR25R4OF</td>\n",
       "      <td>helen d</td>\n",
       "      <td>Good read</td>\n",
       "      <td>1358294400</td>\n",
       "    </tr>\n",
       "    <tr>\n",
       "      <th>3</th>\n",
       "      <td>0002007770</td>\n",
       "      <td>[1, 1]</td>\n",
       "      <td>5</td>\n",
       "      <td>Jacob Jankowski recounts the wonderful time he spent with the Benzini Brothers Most Spectacular Show on Earth. During the Great Depressi...</td>\n",
       "      <td>07 16, 2010</td>\n",
       "      <td>A1UFV4HALV2OXW</td>\n",
       "      <td>Indian Prairie Public Library \"ippl.info\"</td>\n",
       "      <td>Wonderful story.</td>\n",
       "      <td>1279238400</td>\n",
       "    </tr>\n",
       "    <tr>\n",
       "      <th>4</th>\n",
       "      <td>0002007770</td>\n",
       "      <td>[2, 3]</td>\n",
       "      <td>5</td>\n",
       "      <td>One of those books that I didn't want to end.  The first chapters pull you in quickly.  The history of the circus is absolutely fabulous...</td>\n",
       "      <td>01 12, 2008</td>\n",
       "      <td>A3BD8IG1DRRY55</td>\n",
       "      <td>Janet Lillian \"janlil\"</td>\n",
       "      <td>Fabulous read, compelling story</td>\n",
       "      <td>1200096000</td>\n",
       "    </tr>\n",
       "  </tbody>\n",
       "</table>\n",
       "</div>"
      ],
      "text/plain": [
       "         asin helpful  overall  \\\n",
       "0  0002007770  [1, 1]        5   \n",
       "1  0002007770  [3, 4]        5   \n",
       "2  0002007770  [1, 1]        5   \n",
       "3  0002007770  [1, 1]        5   \n",
       "4  0002007770  [2, 3]        5   \n",
       "\n",
       "                                                                                                                                    reviewText  \\\n",
       "0  After \"Riding Lessons\", which I loved - and \"Flying Changes\", which was a huge disappointment to me, I was not sure what I would find in...   \n",
       "1  Page after page this novel is filled with interesting facts, experiences and history. That it's a memoir of a patient/resident of a nurs...   \n",
       "2  A lovely easy book to read. Good story. Makes one think about how we treat our elderly and would we want to be set aside like this. Like...   \n",
       "3  Jacob Jankowski recounts the wonderful time he spent with the Benzini Brothers Most Spectacular Show on Earth. During the Great Depressi...   \n",
       "4  One of those books that I didn't want to end.  The first chapters pull you in quickly.  The history of the circus is absolutely fabulous...   \n",
       "\n",
       "    reviewTime      reviewerID                               reviewerName  \\\n",
       "0  11 11, 2006  A3GUK4RWXKHS9I           Barbara McArthur \"writer/editor\"   \n",
       "1   11 3, 2006   A4MSAOOL01JMG                                Bruce Burns   \n",
       "2  01 16, 2013   AJKBVGR25R4OF                                    helen d   \n",
       "3  07 16, 2010  A1UFV4HALV2OXW  Indian Prairie Public Library \"ippl.info\"   \n",
       "4  01 12, 2008  A3BD8IG1DRRY55                     Janet Lillian \"janlil\"   \n",
       "\n",
       "                           summary  unixReviewTime  \n",
       "0      All I hoped for...and more!      1163203200  \n",
       "1                    Fabulous Book      1162512000  \n",
       "2                        Good read      1358294400  \n",
       "3                 Wonderful story.      1279238400  \n",
       "4  Fabulous read, compelling story      1200096000  "
      ]
     },
     "execution_count": 8,
     "metadata": {},
     "output_type": "execute_result"
    }
   ],
   "source": [
    "df.head()"
   ]
  },
  {
   "cell_type": "code",
   "execution_count": 7,
   "metadata": {},
   "outputs": [
    {
     "name": "stdout",
     "output_type": "stream",
     "text": [
      "This file's oldest and youngest reviews were published 1997-08-20 00:00:00 and 2014-07-23 00:00:00\n",
      "At snapshot date: oldest review was 6181 days old & youngest was 0 days old.\n"
     ]
    }
   ],
   "source": [
    "df['helpful_votes'] = df.apply(lambda x: x.helpful[0],axis=1)\n",
    "df['unhelpful_votes'] = df.apply(lambda x: x.helpful[1],axis=1)\n",
    "df.reviewTime = pd.to_datetime(df.reviewTime,infer_datetime_format=True)\n",
    "df.sort_values(by=['reviewTime'],inplace=True,ascending=True)\n",
    "first_rvw = df.reviewTime.min()\n",
    "last_rvw = df.reviewTime.max()\n",
    "df['review_age_days'] = df.apply(lambda x: (last_rvw - x.reviewTime).days,axis = 1)\n",
    "print(\"This file's oldest and youngest reviews were published {} and {}\".\\\n",
    "      format(first_rvw,last_rvw))\n",
    "print(\"At snapshot date: oldest review was {} days old & youngest was {} days old.\".\\\n",
    "      format(df.review_age_days.max(),\\\n",
    "            df.review_age_days.min()))"
   ]
  },
  {
   "cell_type": "code",
   "execution_count": 14,
   "metadata": {},
   "outputs": [
    {
     "name": "stdout",
     "output_type": "stream",
     "text": [
      "11.34% of our small training set of reviews have more unhelpful votes than helpful votes\n"
     ]
    }
   ],
   "source": [
    "print(\"{:.2%} of our small training set of reviews have more unhelpful votes than helpful votes\".\\\n",
    "      format(df[(df.helpful_votes == 0) & (df.unhelpful_votes > 0)].shape[0]/df.shape[0]))"
   ]
  },
  {
   "cell_type": "code",
   "execution_count": 15,
   "metadata": {},
   "outputs": [
    {
     "data": {
      "text/plain": [
       "Text(0.5,1,'Helpful votes received by small_train reviews, by rating')"
      ]
     },
     "execution_count": 15,
     "metadata": {},
     "output_type": "execute_result"
    },
    {
     "data": {
      "image/png": "[encoded data removed]",
      "text/plain": [
       "<Figure size 432x288 with 1 Axes>"
      ]
     },
     "metadata": {
      "needs_background": "light"
     },
     "output_type": "display_data"
    }
   ],
   "source": [
    "plt.scatter(x=df.overall,y=df.helpful_votes)\n",
    "plt.ylabel(\"Count of helpful votes\")\n",
    "plt.xlabel(\"Rating of review\")\n",
    "plt.title(\"Helpful votes received by small_train reviews, by rating\")"
   ]
  },
  {
   "cell_type": "code",
   "execution_count": 16,
   "metadata": {},
   "outputs": [
    {
     "name": "stdout",
     "output_type": "stream",
     "text": [
      "Of 483607 votes cast, 204958 were helpful votes and 278649 were unhelpful votes\n",
      "Helpful votes were thus 42.38% of the total\n"
     ]
    }
   ],
   "source": [
    "Total_helpful_reviews_in_dataset = np.sum(df.helpful_votes)\n",
    "Total_unhelpful_reviews_in_dataset = np.sum(df.unhelpful_votes)\n",
    "Total_votes_this_datasest = Total_helpful_reviews_in_dataset + Total_unhelpful_reviews_in_dataset\n",
    "print(\"Of {} votes cast, {} were helpful votes and {} were unhelpful votes\".\\\n",
    "     format(Total_votes_this_datasest,Total_helpful_reviews_in_dataset,\\\n",
    "            Total_unhelpful_reviews_in_dataset))\n",
    "print(\"Helpful votes were thus {:.2%} of the total\".format(Total_helpful_reviews_in_dataset/\\\n",
    "                                                          Total_votes_this_datasest))"
   ]
  },
  {
   "cell_type": "code",
   "execution_count": 21,
   "metadata": {},
   "outputs": [
    {
     "name": "stdout",
     "output_type": "stream",
     "text": [
      "Number of reviews giving 5*s: 19948\n"
     ]
    }
   ],
   "source": [
    "fivers = df[df.overall == 5.0].helpful_votes.quantile(np.arange(0,1,.05))\n",
    "print(\"Number of reviews giving 5*s: {}\".format(df[df.overall == 5.0].shape[0]))"
   ]
  },
  {
   "cell_type": "code",
   "execution_count": 20,
   "metadata": {},
   "outputs": [
    {
     "name": "stdout",
     "output_type": "stream",
     "text": [
      "Number of reviews giving 4*s: 20\n"
     ]
    }
   ],
   "source": [
    "fours = df[df.overall == 4.0].helpful_votes.quantile(np.arange(0,1,.05))\n",
    "print(\"Number of reviews giving 4*s: {}\".format(fours.shape[0]))"
   ]
  },
  {
   "cell_type": "code",
   "execution_count": 23,
   "metadata": {},
   "outputs": [
    {
     "name": "stdout",
     "output_type": "stream",
     "text": [
      "1* reviews number 2273 in total\n",
      "2* reviews number 2525 in total\n",
      "3* reviews number 4473 in total\n",
      "4* reviews number 8503 in total\n",
      "5* reviews number 19948 in total\n"
     ]
    }
   ],
   "source": [
    "a = {}\n",
    "for i in range(1,6):\n",
    "    a[i] = df[df.overall == float(i)].helpful_votes.quantile(np.arange(0,1,.05))\n",
    "    print(\"{}* reviews number {} in total\".format(i,df[df.overall == float(i)].shape[0]))"
   ]
  },
  {
   "cell_type": "code",
   "execution_count": 29,
   "metadata": {},
   "outputs": [
    {
     "name": "stdout",
     "output_type": "stream",
     "text": [
      "1* reviews number 2273 in total\n",
      "2* reviews number 2525 in total\n",
      "3* reviews number 4473 in total\n",
      "4* reviews number 8503 in total\n",
      "5* reviews number 19948 in total\n"
     ]
    },
    {
     "data": {
      "text/plain": [
       "Text(0.5,0,'Portion of reviews receiving fewer than that number of votes')"
      ]
     },
     "execution_count": 29,
     "metadata": {},
     "output_type": "execute_result"
    },
    {
     "data": {
      "image/png": "[encoded data removed]",
      "text/plain": [
       "<Figure size 432x288 with 1 Axes>"
      ]
     },
     "metadata": {
      "needs_background": "light"
     },
     "output_type": "display_data"
    }
   ],
   "source": [
    "a = {}\n",
    "for i in range(1,6):\n",
    "    a[i] = df[df.overall == float(i)].helpful_votes.quantile(np.arange(0,1,.05))\n",
    "    a[i].rename(str(i) + '*',inplace=True)\n",
    "    print(\"{}* reviews number {} in total\".format(i,df[df.overall == float(i)].shape[0]))\n",
    "    plt.scatter(x=a[i].index,y=a[i])\n",
    "plt.legend()\n",
    "plt.title(\"Quantile representation of vote counts for reviews by overall star rating\")\n",
    "plt.ylabel(\"Number of helpful votes\")\n",
    "plt.xlabel(\"Portion of reviews receiving fewer than that number of votes\")"
   ]
  },
  {
   "cell_type": "code",
   "execution_count": 42,
   "metadata": {},
   "outputs": [
    {
     "data": {
      "text/plain": [
       "Text(0,0.5,'Review age in days')"
      ]
     },
     "execution_count": 42,
     "metadata": {},
     "output_type": "execute_result"
    },
    {
     "data": {
      "image/png": "[encoded data removed]",
      "text/plain": [
       "<Figure size 432x288 with 1 Axes>"
      ]
     },
     "metadata": {
      "needs_background": "light"
     },
     "output_type": "display_data"
    }
   ],
   "source": [
    "plt.scatter(x = np.arange(0,1,.05), y = df.review_age_days.quantile(np.arange(0,1,.05)))\n",
    "plt.title(\"Age of the small_train reviews\")\n",
    "plt.xlabel(\"Portion of reviews younger than that age\")\n",
    "plt.ylabel(\"Review age in days\")"
   ]
  },
  {
   "cell_type": "code",
   "execution_count": 37,
   "metadata": {},
   "outputs": [
    {
     "data": {
      "text/html": [
       "<div>\n",
       "<style scoped>\n",
       "    .dataframe tbody tr th:only-of-type {\n",
       "        vertical-align: middle;\n",
       "    }\n",
       "\n",
       "    .dataframe tbody tr th {\n",
       "        vertical-align: top;\n",
       "    }\n",
       "\n",
       "    .dataframe thead th {\n",
       "        text-align: right;\n",
       "    }\n",
       "</style>\n",
       "<table border=\"1\" class=\"dataframe\">\n",
       "  <thead>\n",
       "    <tr style=\"text-align: right;\">\n",
       "      <th></th>\n",
       "      <th>asin</th>\n",
       "      <th>helpful</th>\n",
       "      <th>overall</th>\n",
       "      <th>reviewText</th>\n",
       "      <th>reviewTime</th>\n",
       "      <th>reviewerID</th>\n",
       "      <th>reviewerName</th>\n",
       "      <th>summary</th>\n",
       "      <th>unixReviewTime</th>\n",
       "      <th>helpful_votes</th>\n",
       "      <th>unhelpful_votes</th>\n",
       "      <th>review_age_days</th>\n",
       "    </tr>\n",
       "  </thead>\n",
       "  <tbody>\n",
       "    <tr>\n",
       "      <th>19742</th>\n",
       "      <td>B00K2GAUC0</td>\n",
       "      <td>[1, 1]</td>\n",
       "      <td>5</td>\n",
       "      <td>I love this book, I didn't want to put it down I would be on the edge of my seat and was hoping it would have a happy ending and it did!!</td>\n",
       "      <td>2014-07-23</td>\n",
       "      <td>A1UWFP2JM5TOVN</td>\n",
       "      <td>Yvonne L. Martin \"Yvonne\"</td>\n",
       "      <td>Awesome Book</td>\n",
       "      <td>1406073600</td>\n",
       "      <td>1</td>\n",
       "      <td>1</td>\n",
       "      <td>0</td>\n",
       "    </tr>\n",
       "  </tbody>\n",
       "</table>\n",
       "</div>"
      ],
      "text/plain": [
       "             asin helpful  overall  \\\n",
       "19742  B00K2GAUC0  [1, 1]        5   \n",
       "\n",
       "                                                                                                                                      reviewText  \\\n",
       "19742  I love this book, I didn't want to put it down I would be on the edge of my seat and was hoping it would have a happy ending and it did!!   \n",
       "\n",
       "      reviewTime      reviewerID               reviewerName       summary  \\\n",
       "19742 2014-07-23  A1UWFP2JM5TOVN  Yvonne L. Martin \"Yvonne\"  Awesome Book   \n",
       "\n",
       "       unixReviewTime  helpful_votes  unhelpful_votes  review_age_days  \n",
       "19742      1406073600              1                1                0  "
      ]
     },
     "execution_count": 37,
     "metadata": {},
     "output_type": "execute_result"
    }
   ],
   "source": [
    "df[df.review_age_days == 0]"
   ]
  },
  {
   "cell_type": "code",
   "execution_count": 9,
   "metadata": {},
   "outputs": [],
   "source": [
    "# We must drop any review 0 days old in order to divide helpful vote count by age in days\n",
    "df = df[df.review_age_days != 0]"
   ]
  },
  {
   "cell_type": "code",
   "execution_count": 10,
   "metadata": {},
   "outputs": [
    {
     "name": "stderr",
     "output_type": "stream",
     "text": [
      "/anaconda3/envs/w266fp/lib/python3.6/site-packages/ipykernel_launcher.py:2: SettingWithCopyWarning: \n",
      "A value is trying to be set on a copy of a slice from a DataFrame.\n",
      "Try using .loc[row_indexer,col_indexer] = value instead\n",
      "\n",
      "See the caveats in the documentation: http://pandas.pydata.org/pandas-docs/stable/indexing.html#indexing-view-versus-copy\n",
      "  \n"
     ]
    }
   ],
   "source": [
    "# Define HVAR helpful vote arrival rate in YEARLY terms\n",
    "df['HVAR'] = df.apply(lambda x: 365*x.helpful_votes/x.review_age_days,axis = 1)\n"
   ]
  },
  {
   "cell_type": "code",
   "execution_count": 45,
   "metadata": {},
   "outputs": [
    {
     "data": {
      "text/plain": [
       "0.00    0.000000\n",
       "0.05    0.000000\n",
       "0.10    0.000000\n",
       "0.15    0.157429\n",
       "0.20    0.239501\n",
       "0.25    0.332423\n",
       "0.30    0.422128\n",
       "0.35    0.523673\n",
       "0.40    0.628227\n",
       "0.45    0.730000\n",
       "0.50    0.854801\n",
       "0.55    1.013889\n",
       "0.60    1.201976\n",
       "0.65    1.430438\n",
       "0.70    1.752000\n",
       "0.75    2.147059\n",
       "0.80    2.744361\n",
       "0.85    3.681556\n",
       "0.90    5.488722\n",
       "0.95    9.931973\n",
       "Name: HVAR, dtype: float64"
      ]
     },
     "execution_count": 45,
     "metadata": {},
     "output_type": "execute_result"
    }
   ],
   "source": [
    "df.HVAR.quantile(np.arange(0,1,.05))"
   ]
  },
  {
   "cell_type": "code",
   "execution_count": 11,
   "metadata": {},
   "outputs": [
    {
     "data": {
      "image/png": "[encoded data removed]",
      "text/plain": [
       "<Figure size 432x288 with 1 Axes>"
      ]
     },
     "metadata": {
      "needs_background": "light"
     },
     "output_type": "display_data"
    }
   ],
   "source": [
    "plt.scatter(x=df.overall,y=df.HVAR)\n",
    "plt.ylabel(\"Annual HVAR\")\n",
    "plt.xlabel(\"Rating of review\")\n",
    "plt.title(\"Critical Reviews Can Be Helpful, Too\")\n",
    "plt.savefig(\"Annual_HVAR_by_rating_37K_rsample.png\")"
   ]
  },
  {
   "cell_type": "code",
   "execution_count": null,
   "metadata": {},
   "outputs": [],
   "source": [
    "# TODOs:\n",
    "# How many reviews have at least 3 votes? 4? At least one positive vote?\n",
    "# How do we incorporate the \"subject\" of the review? Segment/sentence 1?\n",
    "# Will we need to embed the individual books in order to train our model? \n",
    "# Do we have enough data to do that?\n",
    "# What would it take to scrape genre data from Amazon?"
   ]
  },
  {
   "cell_type": "code",
   "execution_count": null,
   "metadata": {},
   "outputs": [],
   "source": []
  }
 ],
 "metadata": {
  "kernelspec": {
   "display_name": "Python 3",
   "language": "python",
   "name": "python3"
  },
  "language_info": {
   "codemirror_mode": {
    "name": "ipython",
    "version": 3
   },
   "file_extension": ".py",
   "mimetype": "text/x-python",
   "name": "python",
   "nbconvert_exporter": "python",
   "pygments_lexer": "ipython3",
   "version": "3.6.8"
  }
 },
 "nbformat": 4,
 "nbformat_minor": 4
}
