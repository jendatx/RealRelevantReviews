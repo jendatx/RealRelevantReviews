{
 "cells": [
  {
   "cell_type": "code",
   "execution_count": 1,
   "metadata": {},
   "outputs": [],
   "source": [
    "import datetime\n",
    "import json\n",
    "import matplotlib.pyplot as plt\n",
    "import numpy as np\n",
    "import pandas as pd\n",
    "pd.set_option('max_colwidth', 500)"
   ]
  },
  {
   "cell_type": "code",
   "execution_count": 2,
   "metadata": {},
   "outputs": [],
   "source": [
    "book_cutoffs = \"../booklist.csv\"\n",
    "cutoffs = pd.read_csv(book_cutoffs,index_col='asin')"
   ]
  },
  {
   "cell_type": "code",
   "execution_count": 3,
   "metadata": {},
   "outputs": [
    {
     "data": {
      "text/html": [
       "<div>\n",
       "<style scoped>\n",
       "    .dataframe tbody tr th:only-of-type {\n",
       "        vertical-align: middle;\n",
       "    }\n",
       "\n",
       "    .dataframe tbody tr th {\n",
       "        vertical-align: top;\n",
       "    }\n",
       "\n",
       "    .dataframe thead th {\n",
       "        text-align: right;\n",
       "    }\n",
       "</style>\n",
       "<table border=\"1\" class=\"dataframe\">\n",
       "  <thead>\n",
       "    <tr style=\"text-align: right;\">\n",
       "      <th></th>\n",
       "      <th>book_num_reviews</th>\n",
       "      <th>std_HVAR</th>\n",
       "      <th>top_quartile_HVAR</th>\n",
       "    </tr>\n",
       "    <tr>\n",
       "      <th>asin</th>\n",
       "      <th></th>\n",
       "      <th></th>\n",
       "      <th></th>\n",
       "    </tr>\n",
       "  </thead>\n",
       "  <tbody>\n",
       "    <tr>\n",
       "      <th>000100039X</th>\n",
       "      <td>86</td>\n",
       "      <td>2.930287</td>\n",
       "      <td>0.842702</td>\n",
       "    </tr>\n",
       "    <tr>\n",
       "      <th>0001055178</th>\n",
       "      <td>12</td>\n",
       "      <td>0.332911</td>\n",
       "      <td>0.465856</td>\n",
       "    </tr>\n",
       "    <tr>\n",
       "      <th>0001712772</th>\n",
       "      <td>4</td>\n",
       "      <td>0.635544</td>\n",
       "      <td>1.148897</td>\n",
       "    </tr>\n",
       "    <tr>\n",
       "      <th>0001714538</th>\n",
       "      <td>4</td>\n",
       "      <td>0.099335</td>\n",
       "      <td>0.171246</td>\n",
       "    </tr>\n",
       "    <tr>\n",
       "      <th>0002005395</th>\n",
       "      <td>7</td>\n",
       "      <td>0.287376</td>\n",
       "      <td>0.782166</td>\n",
       "    </tr>\n",
       "  </tbody>\n",
       "</table>\n",
       "</div>"
      ],
      "text/plain": [
       "            book_num_reviews  std_HVAR  top_quartile_HVAR\n",
       "asin                                                     \n",
       "000100039X                86  2.930287           0.842702\n",
       "0001055178                12  0.332911           0.465856\n",
       "0001712772                 4  0.635544           1.148897\n",
       "0001714538                 4  0.099335           0.171246\n",
       "0002005395                 7  0.287376           0.782166"
      ]
     },
     "execution_count": 3,
     "metadata": {},
     "output_type": "execute_result"
    }
   ],
   "source": [
    "cutoffs.head()"
   ]
  },
  {
   "cell_type": "code",
   "execution_count": 4,
   "metadata": {},
   "outputs": [
    {
     "data": {
      "text/html": [
       "<div>\n",
       "<style scoped>\n",
       "    .dataframe tbody tr th:only-of-type {\n",
       "        vertical-align: middle;\n",
       "    }\n",
       "\n",
       "    .dataframe tbody tr th {\n",
       "        vertical-align: top;\n",
       "    }\n",
       "\n",
       "    .dataframe thead th {\n",
       "        text-align: right;\n",
       "    }\n",
       "</style>\n",
       "<table border=\"1\" class=\"dataframe\">\n",
       "  <thead>\n",
       "    <tr style=\"text-align: right;\">\n",
       "      <th></th>\n",
       "      <th>book_num_reviews</th>\n",
       "      <th>std_HVAR</th>\n",
       "      <th>top_quartile_HVAR</th>\n",
       "    </tr>\n",
       "  </thead>\n",
       "  <tbody>\n",
       "    <tr>\n",
       "      <th>count</th>\n",
       "      <td>197298.000000</td>\n",
       "      <td>1.972980e+05</td>\n",
       "      <td>197298.000000</td>\n",
       "    </tr>\n",
       "    <tr>\n",
       "      <th>mean</th>\n",
       "      <td>13.480745</td>\n",
       "      <td>1.777825e+00</td>\n",
       "      <td>1.685347</td>\n",
       "    </tr>\n",
       "    <tr>\n",
       "      <th>std</th>\n",
       "      <td>28.154276</td>\n",
       "      <td>3.280041e+00</td>\n",
       "      <td>2.001595</td>\n",
       "    </tr>\n",
       "    <tr>\n",
       "      <th>min</th>\n",
       "      <td>4.000000</td>\n",
       "      <td>1.199178e-16</td>\n",
       "      <td>0.000000</td>\n",
       "    </tr>\n",
       "    <tr>\n",
       "      <th>25%</th>\n",
       "      <td>5.000000</td>\n",
       "      <td>4.637533e-01</td>\n",
       "      <td>0.705740</td>\n",
       "    </tr>\n",
       "    <tr>\n",
       "      <th>50%</th>\n",
       "      <td>7.000000</td>\n",
       "      <td>9.378294e-01</td>\n",
       "      <td>1.154282</td>\n",
       "    </tr>\n",
       "    <tr>\n",
       "      <th>75%</th>\n",
       "      <td>13.000000</td>\n",
       "      <td>1.950738e+00</td>\n",
       "      <td>1.987549</td>\n",
       "    </tr>\n",
       "    <tr>\n",
       "      <th>max</th>\n",
       "      <td>2472.000000</td>\n",
       "      <td>3.786433e+02</td>\n",
       "      <td>128.641696</td>\n",
       "    </tr>\n",
       "  </tbody>\n",
       "</table>\n",
       "</div>"
      ],
      "text/plain": [
       "       book_num_reviews      std_HVAR  top_quartile_HVAR\n",
       "count     197298.000000  1.972980e+05      197298.000000\n",
       "mean          13.480745  1.777825e+00           1.685347\n",
       "std           28.154276  3.280041e+00           2.001595\n",
       "min            4.000000  1.199178e-16           0.000000\n",
       "25%            5.000000  4.637533e-01           0.705740\n",
       "50%            7.000000  9.378294e-01           1.154282\n",
       "75%           13.000000  1.950738e+00           1.987549\n",
       "max         2472.000000  3.786433e+02         128.641696"
      ]
     },
     "execution_count": 4,
     "metadata": {},
     "output_type": "execute_result"
    }
   ],
   "source": [
    "cutoffs.describe()"
   ]
  },
  {
   "cell_type": "code",
   "execution_count": 5,
   "metadata": {},
   "outputs": [],
   "source": [
    "dataset = \"../dev.json\"\n",
    "df = pd.read_json(dataset,lines=True)"
   ]
  },
  {
   "cell_type": "code",
   "execution_count": 6,
   "metadata": {},
   "outputs": [],
   "source": [
    "# Peel out count of helpful votes into its own column\n",
    "df['helpful_votes'] = df.apply(lambda x: x.helpful[0],axis=1)\n",
    "# To avoid confusion later, drop the 'helpful' column at this point\n",
    "df.drop('helpful', axis = 1, inplace=True)\n",
    "# Convert reviewTime to datetime type info we can work with\n",
    "df.reviewTime = pd.to_datetime(df.reviewTime,infer_datetime_format=True)"
   ]
  },
  {
   "cell_type": "code",
   "execution_count": 7,
   "metadata": {},
   "outputs": [
    {
     "name": "stdout",
     "output_type": "stream",
     "text": [
      "Our dataset initially contains 476793 reviews\n"
     ]
    }
   ],
   "source": [
    "print(\"Our dataset initially contains {} reviews\".format(df.shape[0]))"
   ]
  },
  {
   "cell_type": "code",
   "execution_count": 8,
   "metadata": {},
   "outputs": [
    {
     "name": "stdout",
     "output_type": "stream",
     "text": [
      "After removing reviews less than one year old, our dataset contains 361268 reviews\n"
     ]
    }
   ],
   "source": [
    "# Our dataset snapshot has as its maximum review date 2014-07-23\n",
    "snapshotted_string = \"20140723\"\n",
    "snapshotted = datetime.datetime.strptime(snapshotted_string, '%Y%m%d')\n",
    "\n",
    "# We will DROP reviews less than one year old\n",
    "# They may not have accumulated enough evidence to support being helpful or not\n",
    "ourcutoff = snapshotted - datetime.timedelta(days=365)\n",
    "df = df[df.reviewTime < ourcutoff]\n",
    "print(\"After removing reviews less than one year old, our dataset contains {} reviews\".format(df.shape[0]))"
   ]
  },
  {
   "cell_type": "code",
   "execution_count": 9,
   "metadata": {},
   "outputs": [],
   "source": [
    "# Here we store the age of each review in days\n",
    "df['review_age_days'] = df.apply(lambda x: (snapshotted - x.reviewTime).days,axis = 1)"
   ]
  },
  {
   "cell_type": "code",
   "execution_count": 10,
   "metadata": {},
   "outputs": [
    {
     "data": {
      "image/png": "[encoded data removed]",
      "text/plain": [
       "<Figure size 432x288 with 1 Axes>"
      ]
     },
     "metadata": {
      "needs_background": "light"
     },
     "output_type": "display_data"
    }
   ],
   "source": [
    "days_old_hist = plt.hist(df['review_age_days'])"
   ]
  },
  {
   "cell_type": "code",
   "execution_count": 11,
   "metadata": {},
   "outputs": [],
   "source": [
    "# We create the annual HVAR score\n",
    "df['annual_HVAR'] = df.apply(lambda x: 365*x.helpful_votes/x.review_age_days, axis = 1)"
   ]
  },
  {
   "cell_type": "code",
   "execution_count": 12,
   "metadata": {},
   "outputs": [
    {
     "data": {
      "text/html": [
       "<div>\n",
       "<style scoped>\n",
       "    .dataframe tbody tr th:only-of-type {\n",
       "        vertical-align: middle;\n",
       "    }\n",
       "\n",
       "    .dataframe tbody tr th {\n",
       "        vertical-align: top;\n",
       "    }\n",
       "\n",
       "    .dataframe thead th {\n",
       "        text-align: right;\n",
       "    }\n",
       "</style>\n",
       "<table border=\"1\" class=\"dataframe\">\n",
       "  <thead>\n",
       "    <tr style=\"text-align: right;\">\n",
       "      <th></th>\n",
       "      <th>overall</th>\n",
       "      <th>unixReviewTime</th>\n",
       "      <th>helpful_votes</th>\n",
       "      <th>review_age_days</th>\n",
       "      <th>annual_HVAR</th>\n",
       "    </tr>\n",
       "  </thead>\n",
       "  <tbody>\n",
       "    <tr>\n",
       "      <th>count</th>\n",
       "      <td>361268.000000</td>\n",
       "      <td>3.612680e+05</td>\n",
       "      <td>361268.000000</td>\n",
       "      <td>361268.000000</td>\n",
       "      <td>361268.000000</td>\n",
       "    </tr>\n",
       "    <tr>\n",
       "      <th>mean</th>\n",
       "      <td>4.079600</td>\n",
       "      <td>1.251428e+09</td>\n",
       "      <td>6.731725</td>\n",
       "      <td>1789.878157</td>\n",
       "      <td>1.613838</td>\n",
       "    </tr>\n",
       "    <tr>\n",
       "      <th>std</th>\n",
       "      <td>1.203999</td>\n",
       "      <td>1.166730e+08</td>\n",
       "      <td>24.970046</td>\n",
       "      <td>1350.382014</td>\n",
       "      <td>6.785194</td>\n",
       "    </tr>\n",
       "    <tr>\n",
       "      <th>min</th>\n",
       "      <td>1.000000</td>\n",
       "      <td>8.492256e+08</td>\n",
       "      <td>0.000000</td>\n",
       "      <td>366.000000</td>\n",
       "      <td>0.000000</td>\n",
       "    </tr>\n",
       "    <tr>\n",
       "      <th>25%</th>\n",
       "      <td>3.000000</td>\n",
       "      <td>1.178582e+09</td>\n",
       "      <td>1.000000</td>\n",
       "      <td>651.000000</td>\n",
       "      <td>0.291417</td>\n",
       "    </tr>\n",
       "    <tr>\n",
       "      <th>50%</th>\n",
       "      <td>5.000000</td>\n",
       "      <td>1.292112e+09</td>\n",
       "      <td>2.000000</td>\n",
       "      <td>1319.000000</td>\n",
       "      <td>0.662432</td>\n",
       "    </tr>\n",
       "    <tr>\n",
       "      <th>75%</th>\n",
       "      <td>5.000000</td>\n",
       "      <td>1.349827e+09</td>\n",
       "      <td>5.000000</td>\n",
       "      <td>2633.000000</td>\n",
       "      <td>1.384674</td>\n",
       "    </tr>\n",
       "    <tr>\n",
       "      <th>max</th>\n",
       "      <td>5.000000</td>\n",
       "      <td>1.374451e+09</td>\n",
       "      <td>3652.000000</td>\n",
       "      <td>6445.000000</td>\n",
       "      <td>990.843672</td>\n",
       "    </tr>\n",
       "  </tbody>\n",
       "</table>\n",
       "</div>"
      ],
      "text/plain": [
       "             overall  unixReviewTime  helpful_votes  review_age_days  \\\n",
       "count  361268.000000    3.612680e+05  361268.000000    361268.000000   \n",
       "mean        4.079600    1.251428e+09       6.731725      1789.878157   \n",
       "std         1.203999    1.166730e+08      24.970046      1350.382014   \n",
       "min         1.000000    8.492256e+08       0.000000       366.000000   \n",
       "25%         3.000000    1.178582e+09       1.000000       651.000000   \n",
       "50%         5.000000    1.292112e+09       2.000000      1319.000000   \n",
       "75%         5.000000    1.349827e+09       5.000000      2633.000000   \n",
       "max         5.000000    1.374451e+09    3652.000000      6445.000000   \n",
       "\n",
       "         annual_HVAR  \n",
       "count  361268.000000  \n",
       "mean        1.613838  \n",
       "std         6.785194  \n",
       "min         0.000000  \n",
       "25%         0.291417  \n",
       "50%         0.662432  \n",
       "75%         1.384674  \n",
       "max       990.843672  "
      ]
     },
     "execution_count": 12,
     "metadata": {},
     "output_type": "execute_result"
    }
   ],
   "source": [
    "df.describe()"
   ]
  },
  {
   "cell_type": "code",
   "execution_count": 13,
   "metadata": {},
   "outputs": [],
   "source": [
    "# Now we join the dev dataset and the by-book cutoff dataset\n",
    "df = df.join(cutoffs,on='asin')"
   ]
  },
  {
   "cell_type": "code",
   "execution_count": 14,
   "metadata": {},
   "outputs": [
    {
     "data": {
      "text/html": [
       "<div>\n",
       "<style scoped>\n",
       "    .dataframe tbody tr th:only-of-type {\n",
       "        vertical-align: middle;\n",
       "    }\n",
       "\n",
       "    .dataframe tbody tr th {\n",
       "        vertical-align: top;\n",
       "    }\n",
       "\n",
       "    .dataframe thead th {\n",
       "        text-align: right;\n",
       "    }\n",
       "</style>\n",
       "<table border=\"1\" class=\"dataframe\">\n",
       "  <thead>\n",
       "    <tr style=\"text-align: right;\">\n",
       "      <th></th>\n",
       "      <th>overall</th>\n",
       "      <th>unixReviewTime</th>\n",
       "      <th>helpful_votes</th>\n",
       "      <th>review_age_days</th>\n",
       "      <th>annual_HVAR</th>\n",
       "      <th>book_num_reviews</th>\n",
       "      <th>std_HVAR</th>\n",
       "      <th>top_quartile_HVAR</th>\n",
       "    </tr>\n",
       "  </thead>\n",
       "  <tbody>\n",
       "    <tr>\n",
       "      <th>count</th>\n",
       "      <td>361268.000000</td>\n",
       "      <td>3.612680e+05</td>\n",
       "      <td>361268.000000</td>\n",
       "      <td>361268.000000</td>\n",
       "      <td>361268.000000</td>\n",
       "      <td>314112.000000</td>\n",
       "      <td>314112.000000</td>\n",
       "      <td>314112.000000</td>\n",
       "    </tr>\n",
       "    <tr>\n",
       "      <th>mean</th>\n",
       "      <td>4.079600</td>\n",
       "      <td>1.251428e+09</td>\n",
       "      <td>6.731725</td>\n",
       "      <td>1789.878157</td>\n",
       "      <td>1.613838</td>\n",
       "      <td>75.312404</td>\n",
       "      <td>3.500505</td>\n",
       "      <td>1.537750</td>\n",
       "    </tr>\n",
       "    <tr>\n",
       "      <th>std</th>\n",
       "      <td>1.203999</td>\n",
       "      <td>1.166730e+08</td>\n",
       "      <td>24.970046</td>\n",
       "      <td>1350.382014</td>\n",
       "      <td>6.785194</td>\n",
       "      <td>194.579095</td>\n",
       "      <td>9.942399</td>\n",
       "      <td>1.827615</td>\n",
       "    </tr>\n",
       "    <tr>\n",
       "      <th>min</th>\n",
       "      <td>1.000000</td>\n",
       "      <td>8.492256e+08</td>\n",
       "      <td>0.000000</td>\n",
       "      <td>366.000000</td>\n",
       "      <td>0.000000</td>\n",
       "      <td>4.000000</td>\n",
       "      <td>0.000089</td>\n",
       "      <td>0.000000</td>\n",
       "    </tr>\n",
       "    <tr>\n",
       "      <th>25%</th>\n",
       "      <td>3.000000</td>\n",
       "      <td>1.178582e+09</td>\n",
       "      <td>1.000000</td>\n",
       "      <td>651.000000</td>\n",
       "      <td>0.291417</td>\n",
       "      <td>9.000000</td>\n",
       "      <td>0.723094</td>\n",
       "      <td>0.693477</td>\n",
       "    </tr>\n",
       "    <tr>\n",
       "      <th>50%</th>\n",
       "      <td>5.000000</td>\n",
       "      <td>1.292112e+09</td>\n",
       "      <td>2.000000</td>\n",
       "      <td>1319.000000</td>\n",
       "      <td>0.662432</td>\n",
       "      <td>22.000000</td>\n",
       "      <td>1.556543</td>\n",
       "      <td>1.045696</td>\n",
       "    </tr>\n",
       "    <tr>\n",
       "      <th>75%</th>\n",
       "      <td>5.000000</td>\n",
       "      <td>1.349827e+09</td>\n",
       "      <td>5.000000</td>\n",
       "      <td>2633.000000</td>\n",
       "      <td>1.384674</td>\n",
       "      <td>59.000000</td>\n",
       "      <td>3.466194</td>\n",
       "      <td>1.781929</td>\n",
       "    </tr>\n",
       "    <tr>\n",
       "      <th>max</th>\n",
       "      <td>5.000000</td>\n",
       "      <td>1.374451e+09</td>\n",
       "      <td>3652.000000</td>\n",
       "      <td>6445.000000</td>\n",
       "      <td>990.843672</td>\n",
       "      <td>2472.000000</td>\n",
       "      <td>378.643335</td>\n",
       "      <td>128.641696</td>\n",
       "    </tr>\n",
       "  </tbody>\n",
       "</table>\n",
       "</div>"
      ],
      "text/plain": [
       "             overall  unixReviewTime  helpful_votes  review_age_days  \\\n",
       "count  361268.000000    3.612680e+05  361268.000000    361268.000000   \n",
       "mean        4.079600    1.251428e+09       6.731725      1789.878157   \n",
       "std         1.203999    1.166730e+08      24.970046      1350.382014   \n",
       "min         1.000000    8.492256e+08       0.000000       366.000000   \n",
       "25%         3.000000    1.178582e+09       1.000000       651.000000   \n",
       "50%         5.000000    1.292112e+09       2.000000      1319.000000   \n",
       "75%         5.000000    1.349827e+09       5.000000      2633.000000   \n",
       "max         5.000000    1.374451e+09    3652.000000      6445.000000   \n",
       "\n",
       "         annual_HVAR  book_num_reviews       std_HVAR  top_quartile_HVAR  \n",
       "count  361268.000000     314112.000000  314112.000000      314112.000000  \n",
       "mean        1.613838         75.312404       3.500505           1.537750  \n",
       "std         6.785194        194.579095       9.942399           1.827615  \n",
       "min         0.000000          4.000000       0.000089           0.000000  \n",
       "25%         0.291417          9.000000       0.723094           0.693477  \n",
       "50%         0.662432         22.000000       1.556543           1.045696  \n",
       "75%         1.384674         59.000000       3.466194           1.781929  \n",
       "max       990.843672       2472.000000     378.643335         128.641696  "
      ]
     },
     "execution_count": 14,
     "metadata": {},
     "output_type": "execute_result"
    }
   ],
   "source": [
    "df.describe()"
   ]
  },
  {
   "cell_type": "code",
   "execution_count": 17,
   "metadata": {},
   "outputs": [
    {
     "name": "stdout",
     "output_type": "stream",
     "text": [
      "47156 reviews in the dev set get dropped for books having inadequate review counts/variance\n"
     ]
    }
   ],
   "source": [
    "print(f\"{df.book_num_reviews.isna().sum()} reviews in the dev set get dropped for books having inadequate review counts/variance\")"
   ]
  },
  {
   "cell_type": "code",
   "execution_count": 18,
   "metadata": {},
   "outputs": [
    {
     "name": "stdout",
     "output_type": "stream",
     "text": [
      "After removing off-limits books we have 314112 dev reviews\n"
     ]
    }
   ],
   "source": [
    "# We drop these here\n",
    "df = df[df.book_num_reviews.notna()]\n",
    "print(f\"After removing off-limits books we have {df.shape[0]} dev reviews\")"
   ]
  },
  {
   "cell_type": "code",
   "execution_count": 19,
   "metadata": {},
   "outputs": [
    {
     "data": {
      "text/html": [
       "<div>\n",
       "<style scoped>\n",
       "    .dataframe tbody tr th:only-of-type {\n",
       "        vertical-align: middle;\n",
       "    }\n",
       "\n",
       "    .dataframe tbody tr th {\n",
       "        vertical-align: top;\n",
       "    }\n",
       "\n",
       "    .dataframe thead th {\n",
       "        text-align: right;\n",
       "    }\n",
       "</style>\n",
       "<table border=\"1\" class=\"dataframe\">\n",
       "  <thead>\n",
       "    <tr style=\"text-align: right;\">\n",
       "      <th></th>\n",
       "      <th>overall</th>\n",
       "      <th>unixReviewTime</th>\n",
       "      <th>helpful_votes</th>\n",
       "      <th>review_age_days</th>\n",
       "      <th>annual_HVAR</th>\n",
       "      <th>book_num_reviews</th>\n",
       "      <th>std_HVAR</th>\n",
       "      <th>top_quartile_HVAR</th>\n",
       "    </tr>\n",
       "  </thead>\n",
       "  <tbody>\n",
       "    <tr>\n",
       "      <th>count</th>\n",
       "      <td>314112.000000</td>\n",
       "      <td>3.141120e+05</td>\n",
       "      <td>314112.000000</td>\n",
       "      <td>314112.000000</td>\n",
       "      <td>314112.000000</td>\n",
       "      <td>314112.000000</td>\n",
       "      <td>314112.000000</td>\n",
       "      <td>314112.000000</td>\n",
       "    </tr>\n",
       "    <tr>\n",
       "      <th>mean</th>\n",
       "      <td>4.058514</td>\n",
       "      <td>1.251095e+09</td>\n",
       "      <td>6.915804</td>\n",
       "      <td>1793.738495</td>\n",
       "      <td>1.650825</td>\n",
       "      <td>75.312404</td>\n",
       "      <td>3.500505</td>\n",
       "      <td>1.537750</td>\n",
       "    </tr>\n",
       "    <tr>\n",
       "      <th>std</th>\n",
       "      <td>1.215637</td>\n",
       "      <td>1.165379e+08</td>\n",
       "      <td>26.476177</td>\n",
       "      <td>1348.818319</td>\n",
       "      <td>7.216699</td>\n",
       "      <td>194.579095</td>\n",
       "      <td>9.942399</td>\n",
       "      <td>1.827615</td>\n",
       "    </tr>\n",
       "    <tr>\n",
       "      <th>min</th>\n",
       "      <td>1.000000</td>\n",
       "      <td>8.492256e+08</td>\n",
       "      <td>0.000000</td>\n",
       "      <td>366.000000</td>\n",
       "      <td>0.000000</td>\n",
       "      <td>4.000000</td>\n",
       "      <td>0.000089</td>\n",
       "      <td>0.000000</td>\n",
       "    </tr>\n",
       "    <tr>\n",
       "      <th>25%</th>\n",
       "      <td>3.000000</td>\n",
       "      <td>1.177978e+09</td>\n",
       "      <td>1.000000</td>\n",
       "      <td>655.000000</td>\n",
       "      <td>0.284711</td>\n",
       "      <td>9.000000</td>\n",
       "      <td>0.723094</td>\n",
       "      <td>0.693477</td>\n",
       "    </tr>\n",
       "    <tr>\n",
       "      <th>50%</th>\n",
       "      <td>5.000000</td>\n",
       "      <td>1.291594e+09</td>\n",
       "      <td>2.000000</td>\n",
       "      <td>1325.000000</td>\n",
       "      <td>0.652952</td>\n",
       "      <td>22.000000</td>\n",
       "      <td>1.556543</td>\n",
       "      <td>1.045696</td>\n",
       "    </tr>\n",
       "    <tr>\n",
       "      <th>75%</th>\n",
       "      <td>5.000000</td>\n",
       "      <td>1.349482e+09</td>\n",
       "      <td>5.000000</td>\n",
       "      <td>2640.000000</td>\n",
       "      <td>1.361940</td>\n",
       "      <td>59.000000</td>\n",
       "      <td>3.466194</td>\n",
       "      <td>1.781929</td>\n",
       "    </tr>\n",
       "    <tr>\n",
       "      <th>max</th>\n",
       "      <td>5.000000</td>\n",
       "      <td>1.374451e+09</td>\n",
       "      <td>3652.000000</td>\n",
       "      <td>6445.000000</td>\n",
       "      <td>990.843672</td>\n",
       "      <td>2472.000000</td>\n",
       "      <td>378.643335</td>\n",
       "      <td>128.641696</td>\n",
       "    </tr>\n",
       "  </tbody>\n",
       "</table>\n",
       "</div>"
      ],
      "text/plain": [
       "             overall  unixReviewTime  helpful_votes  review_age_days  \\\n",
       "count  314112.000000    3.141120e+05  314112.000000    314112.000000   \n",
       "mean        4.058514    1.251095e+09       6.915804      1793.738495   \n",
       "std         1.215637    1.165379e+08      26.476177      1348.818319   \n",
       "min         1.000000    8.492256e+08       0.000000       366.000000   \n",
       "25%         3.000000    1.177978e+09       1.000000       655.000000   \n",
       "50%         5.000000    1.291594e+09       2.000000      1325.000000   \n",
       "75%         5.000000    1.349482e+09       5.000000      2640.000000   \n",
       "max         5.000000    1.374451e+09    3652.000000      6445.000000   \n",
       "\n",
       "         annual_HVAR  book_num_reviews       std_HVAR  top_quartile_HVAR  \n",
       "count  314112.000000     314112.000000  314112.000000      314112.000000  \n",
       "mean        1.650825         75.312404       3.500505           1.537750  \n",
       "std         7.216699        194.579095       9.942399           1.827615  \n",
       "min         0.000000          4.000000       0.000089           0.000000  \n",
       "25%         0.284711          9.000000       0.723094           0.693477  \n",
       "50%         0.652952         22.000000       1.556543           1.045696  \n",
       "75%         1.361940         59.000000       3.466194           1.781929  \n",
       "max       990.843672       2472.000000     378.643335         128.641696  "
      ]
     },
     "execution_count": 19,
     "metadata": {},
     "output_type": "execute_result"
    }
   ],
   "source": [
    "df.describe()"
   ]
  },
  {
   "cell_type": "code",
   "execution_count": 20,
   "metadata": {},
   "outputs": [],
   "source": [
    "# Label reviews as most helpful if its annual_HVAR > top_quartile_HVAR\n",
    "df['most_helpful'] = df.apply(lambda x: int(x.annual_HVAR > x.top_quartile_HVAR),axis = 1)"
   ]
  },
  {
   "cell_type": "code",
   "execution_count": 25,
   "metadata": {},
   "outputs": [
    {
     "name": "stdout",
     "output_type": "stream",
     "text": [
      "There are 314112 reviews in our dev split\n",
      "27.67% of reviews in the dev set carry the most_helpful label of 1\n"
     ]
    }
   ],
   "source": [
    "print(f\"There are {df.shape[0]} reviews in our dev split\")\n",
    "print(f\"{df.most_helpful.sum()/df.shape[0]:.2%} of reviews in the dev set carry the most_helpful label of 1\")"
   ]
  },
  {
   "cell_type": "code",
   "execution_count": 26,
   "metadata": {},
   "outputs": [],
   "source": [
    "# Write it out to a file\n",
    "df.to_csv('../labeled_dev_set.csv',index=False)"
   ]
  },
  {
   "cell_type": "code",
   "execution_count": 27,
   "metadata": {},
   "outputs": [
    {
     "name": "stdout",
     "output_type": "stream",
     "text": [
      "/home/jend/fp/RealRelevantReviews\n"
     ]
    }
   ],
   "source": [
    "!pwd"
   ]
  },
  {
   "cell_type": "code",
   "execution_count": 28,
   "metadata": {},
   "outputs": [
    {
     "name": "stdout",
     "output_type": "stream",
     "text": [
      "total 9.4G\n",
      "drwxrwxr-x  4 jend jend 4.0K Jul 14 21:01 .\n",
      "drwxr-xr-x 21 jend jend 4.0K Jul  3 02:22 ..\n",
      "drwxrwxr-x  2 jend jend 4.0K Jul 13 23:56 .ipynb_checkpoints\n",
      "drwxrwxr-x  4 jend jend 4.0K Jul 14 21:26 RealRelevantReviews\n",
      "-rw-rw-r--  1 jend jend  15M Jul 13 23:56 book_cutoffs.csv\n",
      "-rw-rw-r--  1 jend jend 9.6M Jul 14 21:01 booklist.csv\n",
      "-rw-rw-r--  1 jend jend 585M Jul 14 19:08 dev.json\n",
      "-rw-rw-r--  1 jend jend 391M Jul 14 21:26 labeled_dev_set.csv\n",
      "-rw-rw-r--  1 jend jend 2.0M Jul 13 22:36 labeled_small_training_set.csv\n",
      "-rw-rw-r--  1 jend jend 3.3G Jul 13 23:48 labeled_training_set.csv\n",
      "-rw-rw-r--  1 jend jend 9.3M Jul  2 02:40 rowling.json\n",
      "-rw-rw-r--  1 jend jend  47M Jun 22 04:41 small_train.json\n",
      "-rw-rw-r--  1 jend jend 584M Jul 14 19:08 test.json\n",
      "-rw-rw-r--  1 jend jend 467K Jun 22 04:37 toy_train.json\n",
      "-rw-rw-r--  1 jend jend 4.6G Jul  3 02:23 train.json\n"
     ]
    }
   ],
   "source": [
    "!ls -lah .."
   ]
  },
  {
   "cell_type": "code",
   "execution_count": null,
   "metadata": {},
   "outputs": [],
   "source": []
  }
 ],
 "metadata": {
  "kernelspec": {
   "display_name": "Python 3",
   "language": "python",
   "name": "python3"
  },
  "language_info": {
   "codemirror_mode": {
    "name": "ipython",
    "version": 3
   },
   "file_extension": ".py",
   "mimetype": "text/x-python",
   "name": "python",
   "nbconvert_exporter": "python",
   "pygments_lexer": "ipython3",
   "version": "3.7.2"
  }
 },
 "nbformat": 4,
 "nbformat_minor": 2
}
