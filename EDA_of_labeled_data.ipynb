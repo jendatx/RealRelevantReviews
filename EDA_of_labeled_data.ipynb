{
 "cells": [
  {
   "cell_type": "code",
   "execution_count": 17,
   "metadata": {},
   "outputs": [],
   "source": [
    "import pandas as pd\n",
    "import numpy as np\n",
    "import matplotlib.pyplot as plt\n",
    "pd.set_option('max_colwidth', 500)"
   ]
  },
  {
   "cell_type": "code",
   "execution_count": 2,
   "metadata": {},
   "outputs": [],
   "source": [
    "dataset = \"../labeled_training_set.csv\"\n",
    "df = pd.read_csv(dataset)"
   ]
  },
  {
   "cell_type": "code",
   "execution_count": 3,
   "metadata": {},
   "outputs": [
    {
     "data": {
      "text/plain": [
       "(2659724, 15)"
      ]
     },
     "execution_count": 3,
     "metadata": {},
     "output_type": "execute_result"
    }
   ],
   "source": [
    "df.shape"
   ]
  },
  {
   "cell_type": "code",
   "execution_count": 4,
   "metadata": {},
   "outputs": [
    {
     "data": {
      "text/plain": [
       "Index(['asin', 'overall', 'reviewText', 'reviewTime', 'reviewerID',\n",
       "       'reviewerName', 'summary', 'unixReviewTime', 'helpful_votes',\n",
       "       'review_age_days', 'annual_HVAR', 'book_num_reviews', 'std_HVAR',\n",
       "       'top_quartile_HVAR', 'most_helpful'],\n",
       "      dtype='object')"
      ]
     },
     "execution_count": 4,
     "metadata": {},
     "output_type": "execute_result"
    }
   ],
   "source": [
    "df.columns"
   ]
  },
  {
   "cell_type": "code",
   "execution_count": 5,
   "metadata": {},
   "outputs": [
    {
     "data": {
      "text/plain": [
       "5    316320\n",
       "4    122111\n",
       "3     88703\n",
       "1     81157\n",
       "2     70264\n",
       "Name: overall, dtype: int64"
      ]
     },
     "execution_count": 5,
     "metadata": {},
     "output_type": "execute_result"
    }
   ],
   "source": [
    "df[df.most_helpful==1].overall.value_counts()"
   ]
  },
  {
   "cell_type": "code",
   "execution_count": 6,
   "metadata": {},
   "outputs": [
    {
     "data": {
      "image/png": "[encoded data removed]",
      "text/plain": [
       "<Figure size 432x288 with 1 Axes>"
      ]
     },
     "metadata": {},
     "output_type": "display_data"
    }
   ],
   "source": [
    "fig1, ax1 = plt.subplots()\n",
    "pypie = ax1.pie(x=df[df.most_helpful==1].overall.value_counts(),\\\n",
    "                labels=df[df.most_helpful==1].overall.value_counts().index)\n",
    "_ = ax1.set_title(\"Helpful votes arrive across the 5-star rating spectrum\")"
   ]
  },
  {
   "cell_type": "code",
   "execution_count": 7,
   "metadata": {},
   "outputs": [
    {
     "data": {
      "text/html": [
       "<div>\n",
       "<style scoped>\n",
       "    .dataframe tbody tr th:only-of-type {\n",
       "        vertical-align: middle;\n",
       "    }\n",
       "\n",
       "    .dataframe tbody tr th {\n",
       "        vertical-align: top;\n",
       "    }\n",
       "\n",
       "    .dataframe thead th {\n",
       "        text-align: right;\n",
       "    }\n",
       "</style>\n",
       "<table border=\"1\" class=\"dataframe\">\n",
       "  <thead>\n",
       "    <tr style=\"text-align: right;\">\n",
       "      <th></th>\n",
       "      <th>overall</th>\n",
       "      <th>unixReviewTime</th>\n",
       "      <th>helpful_votes</th>\n",
       "      <th>review_age_days</th>\n",
       "      <th>annual_HVAR</th>\n",
       "      <th>book_num_reviews</th>\n",
       "      <th>std_HVAR</th>\n",
       "      <th>top_quartile_HVAR</th>\n",
       "      <th>most_helpful</th>\n",
       "    </tr>\n",
       "  </thead>\n",
       "  <tbody>\n",
       "    <tr>\n",
       "      <th>0.0</th>\n",
       "      <td>1.0</td>\n",
       "      <td>8.356608e+08</td>\n",
       "      <td>0.0</td>\n",
       "      <td>366.0</td>\n",
       "      <td>0.000000</td>\n",
       "      <td>4.0</td>\n",
       "      <td>1.199178e-16</td>\n",
       "      <td>0.000000</td>\n",
       "      <td>0.0</td>\n",
       "    </tr>\n",
       "    <tr>\n",
       "      <th>0.1</th>\n",
       "      <td>2.0</td>\n",
       "      <td>1.065053e+09</td>\n",
       "      <td>0.0</td>\n",
       "      <td>477.0</td>\n",
       "      <td>0.000000</td>\n",
       "      <td>5.0</td>\n",
       "      <td>3.691594e-01</td>\n",
       "      <td>0.470984</td>\n",
       "      <td>0.0</td>\n",
       "    </tr>\n",
       "    <tr>\n",
       "      <th>0.2</th>\n",
       "      <td>3.0</td>\n",
       "      <td>1.147046e+09</td>\n",
       "      <td>1.0</td>\n",
       "      <td>581.0</td>\n",
       "      <td>0.221034</td>\n",
       "      <td>7.0</td>\n",
       "      <td>5.847245e-01</td>\n",
       "      <td>0.632207</td>\n",
       "      <td>0.0</td>\n",
       "    </tr>\n",
       "    <tr>\n",
       "      <th>0.3</th>\n",
       "      <td>4.0</td>\n",
       "      <td>1.204762e+09</td>\n",
       "      <td>1.0</td>\n",
       "      <td>755.0</td>\n",
       "      <td>0.355231</td>\n",
       "      <td>11.0</td>\n",
       "      <td>8.282523e-01</td>\n",
       "      <td>0.763200</td>\n",
       "      <td>0.0</td>\n",
       "    </tr>\n",
       "    <tr>\n",
       "      <th>0.4</th>\n",
       "      <td>4.0</td>\n",
       "      <td>1.252109e+09</td>\n",
       "      <td>1.0</td>\n",
       "      <td>999.0</td>\n",
       "      <td>0.501374</td>\n",
       "      <td>15.0</td>\n",
       "      <td>1.130388e+00</td>\n",
       "      <td>0.895639</td>\n",
       "      <td>0.0</td>\n",
       "    </tr>\n",
       "    <tr>\n",
       "      <th>0.5</th>\n",
       "      <td>5.0</td>\n",
       "      <td>1.290643e+09</td>\n",
       "      <td>2.0</td>\n",
       "      <td>1336.0</td>\n",
       "      <td>0.655296</td>\n",
       "      <td>21.0</td>\n",
       "      <td>1.507532e+00</td>\n",
       "      <td>1.053545</td>\n",
       "      <td>0.0</td>\n",
       "    </tr>\n",
       "    <tr>\n",
       "      <th>0.6</th>\n",
       "      <td>5.0</td>\n",
       "      <td>1.319760e+09</td>\n",
       "      <td>3.0</td>\n",
       "      <td>1782.0</td>\n",
       "      <td>0.823928</td>\n",
       "      <td>30.0</td>\n",
       "      <td>2.025858e+00</td>\n",
       "      <td>1.295161</td>\n",
       "      <td>0.0</td>\n",
       "    </tr>\n",
       "    <tr>\n",
       "      <th>0.7</th>\n",
       "      <td>5.0</td>\n",
       "      <td>1.340842e+09</td>\n",
       "      <td>4.0</td>\n",
       "      <td>2330.0</td>\n",
       "      <td>1.108300</td>\n",
       "      <td>44.0</td>\n",
       "      <td>2.794022e+00</td>\n",
       "      <td>1.603004</td>\n",
       "      <td>0.0</td>\n",
       "    </tr>\n",
       "    <tr>\n",
       "      <th>0.8</th>\n",
       "      <td>5.0</td>\n",
       "      <td>1.355875e+09</td>\n",
       "      <td>7.0</td>\n",
       "      <td>2998.0</td>\n",
       "      <td>1.697674</td>\n",
       "      <td>72.0</td>\n",
       "      <td>4.090423e+00</td>\n",
       "      <td>2.042337</td>\n",
       "      <td>1.0</td>\n",
       "    </tr>\n",
       "    <tr>\n",
       "      <th>0.9</th>\n",
       "      <td>5.0</td>\n",
       "      <td>1.364861e+09</td>\n",
       "      <td>14.0</td>\n",
       "      <td>3947.0</td>\n",
       "      <td>3.108273</td>\n",
       "      <td>145.0</td>\n",
       "      <td>7.222445e+00</td>\n",
       "      <td>2.975543</td>\n",
       "      <td>1.0</td>\n",
       "    </tr>\n",
       "  </tbody>\n",
       "</table>\n",
       "</div>"
      ],
      "text/plain": [
       "     overall  unixReviewTime  helpful_votes  review_age_days  annual_HVAR  \\\n",
       "0.0      1.0    8.356608e+08            0.0            366.0     0.000000   \n",
       "0.1      2.0    1.065053e+09            0.0            477.0     0.000000   \n",
       "0.2      3.0    1.147046e+09            1.0            581.0     0.221034   \n",
       "0.3      4.0    1.204762e+09            1.0            755.0     0.355231   \n",
       "0.4      4.0    1.252109e+09            1.0            999.0     0.501374   \n",
       "0.5      5.0    1.290643e+09            2.0           1336.0     0.655296   \n",
       "0.6      5.0    1.319760e+09            3.0           1782.0     0.823928   \n",
       "0.7      5.0    1.340842e+09            4.0           2330.0     1.108300   \n",
       "0.8      5.0    1.355875e+09            7.0           2998.0     1.697674   \n",
       "0.9      5.0    1.364861e+09           14.0           3947.0     3.108273   \n",
       "\n",
       "     book_num_reviews      std_HVAR  top_quartile_HVAR  most_helpful  \n",
       "0.0               4.0  1.199178e-16           0.000000           0.0  \n",
       "0.1               5.0  3.691594e-01           0.470984           0.0  \n",
       "0.2               7.0  5.847245e-01           0.632207           0.0  \n",
       "0.3              11.0  8.282523e-01           0.763200           0.0  \n",
       "0.4              15.0  1.130388e+00           0.895639           0.0  \n",
       "0.5              21.0  1.507532e+00           1.053545           0.0  \n",
       "0.6              30.0  2.025858e+00           1.295161           0.0  \n",
       "0.7              44.0  2.794022e+00           1.603004           0.0  \n",
       "0.8              72.0  4.090423e+00           2.042337           1.0  \n",
       "0.9             145.0  7.222445e+00           2.975543           1.0  "
      ]
     },
     "execution_count": 7,
     "metadata": {},
     "output_type": "execute_result"
    }
   ],
   "source": [
    "df.quantile(np.arange(0,1,.1))"
   ]
  },
  {
   "cell_type": "code",
   "execution_count": 8,
   "metadata": {},
   "outputs": [
    {
     "data": {
      "text/plain": [
       "asin                    B00LAGPONG\n",
       "overall                          5\n",
       "reviewTime              2013-07-22\n",
       "reviewerID           AZZZT14MS21I6\n",
       "unixReviewTime          1374451200\n",
       "helpful_votes                23311\n",
       "review_age_days               6602\n",
       "annual_HVAR                10263.6\n",
       "book_num_reviews              2472\n",
       "std_HVAR                   378.643\n",
       "top_quartile_HVAR          128.642\n",
       "most_helpful                     1\n",
       "dtype: object"
      ]
     },
     "execution_count": 8,
     "metadata": {},
     "output_type": "execute_result"
    }
   ],
   "source": [
    "df.max()"
   ]
  },
  {
   "cell_type": "markdown",
   "metadata": {},
   "source": [
    "Here's an excellent example of people finding a lower rating helpful (Fifty Shades of Grey is the book)"
   ]
  },
  {
   "cell_type": "code",
   "execution_count": 18,
   "metadata": {},
   "outputs": [
    {
     "data": {
      "text/html": [
       "<div>\n",
       "<style scoped>\n",
       "    .dataframe tbody tr th:only-of-type {\n",
       "        vertical-align: middle;\n",
       "    }\n",
       "\n",
       "    .dataframe tbody tr th {\n",
       "        vertical-align: top;\n",
       "    }\n",
       "\n",
       "    .dataframe thead th {\n",
       "        text-align: right;\n",
       "    }\n",
       "</style>\n",
       "<table border=\"1\" class=\"dataframe\">\n",
       "  <thead>\n",
       "    <tr style=\"text-align: right;\">\n",
       "      <th></th>\n",
       "      <th>asin</th>\n",
       "      <th>overall</th>\n",
       "      <th>reviewText</th>\n",
       "      <th>reviewTime</th>\n",
       "      <th>reviewerID</th>\n",
       "      <th>reviewerName</th>\n",
       "      <th>summary</th>\n",
       "      <th>unixReviewTime</th>\n",
       "      <th>helpful_votes</th>\n",
       "      <th>review_age_days</th>\n",
       "      <th>annual_HVAR</th>\n",
       "      <th>book_num_reviews</th>\n",
       "      <th>std_HVAR</th>\n",
       "      <th>top_quartile_HVAR</th>\n",
       "      <th>most_helpful</th>\n",
       "    </tr>\n",
       "  </thead>\n",
       "  <tbody>\n",
       "    <tr>\n",
       "      <th>2360514</th>\n",
       "      <td>0345803485</td>\n",
       "      <td>2</td>\n",
       "      <td>I really don't like writing bad reviews. I admire people who have the courage to put pen to paper and expose themselves to the whole world, especially those writing erotica. Having just finished this book, however, I feel compelled to write a review.About half way through the book, I looked up the author to see if she was a teenager. I really did because the characters are out of a 16 year old's fantasy. The main male character is a billionaire (not a millionaire but a billionaire) who speak...</td>\n",
       "      <td>2012-04-15</td>\n",
       "      <td>A3JT5XR92IFRVL</td>\n",
       "      <td>meymoon</td>\n",
       "      <td>Did a teenager write this???</td>\n",
       "      <td>1334448000</td>\n",
       "      <td>23311</td>\n",
       "      <td>829</td>\n",
       "      <td>10263.588661</td>\n",
       "      <td>2281</td>\n",
       "      <td>284.17293</td>\n",
       "      <td>3.127295</td>\n",
       "      <td>1</td>\n",
       "    </tr>\n",
       "  </tbody>\n",
       "</table>\n",
       "</div>"
      ],
      "text/plain": [
       "               asin  overall  \\\n",
       "2360514  0345803485        2   \n",
       "\n",
       "                                                                                                                                                                                                                                                                                                                                                                                                                                                                                                                  reviewText  \\\n",
       "2360514  I really don't like writing bad reviews. I admire people who have the courage to put pen to paper and expose themselves to the whole world, especially those writing erotica. Having just finished this book, however, I feel compelled to write a review.About half way through the book, I looked up the author to see if she was a teenager. I really did because the characters are out of a 16 year old's fantasy. The main male character is a billionaire (not a millionaire but a billionaire) who speak...   \n",
       "\n",
       "         reviewTime      reviewerID reviewerName  \\\n",
       "2360514  2012-04-15  A3JT5XR92IFRVL      meymoon   \n",
       "\n",
       "                              summary  unixReviewTime  helpful_votes  \\\n",
       "2360514  Did a teenager write this???      1334448000          23311   \n",
       "\n",
       "         review_age_days   annual_HVAR  book_num_reviews   std_HVAR  \\\n",
       "2360514              829  10263.588661              2281  284.17293   \n",
       "\n",
       "         top_quartile_HVAR  most_helpful  \n",
       "2360514           3.127295             1  "
      ]
     },
     "execution_count": 18,
     "metadata": {},
     "output_type": "execute_result"
    }
   ],
   "source": [
    "df[df.annual_HVAR > 10000]"
   ]
  },
  {
   "cell_type": "code",
   "execution_count": 19,
   "metadata": {},
   "outputs": [
    {
     "data": {
      "text/plain": [
       "5    1366247\n",
       "4     610546\n",
       "3     330468\n",
       "2     187215\n",
       "1     165248\n",
       "Name: overall, dtype: int64"
      ]
     },
     "execution_count": 19,
     "metadata": {},
     "output_type": "execute_result"
    }
   ],
   "source": [
    "df.overall.value_counts()"
   ]
  },
  {
   "cell_type": "code",
   "execution_count": 25,
   "metadata": {},
   "outputs": [
    {
     "data": {
      "text/plain": [
       "0.7432323805026386"
      ]
     },
     "execution_count": 25,
     "metadata": {},
     "output_type": "execute_result"
    }
   ],
   "source": [
    "df[(df.overall == 4) | (df.overall == 5)].shape[0]/df.overall.value_counts().sum()"
   ]
  },
  {
   "cell_type": "code",
   "execution_count": null,
   "metadata": {},
   "outputs": [],
   "source": []
  }
 ],
 "metadata": {
  "kernelspec": {
   "display_name": "Python 3",
   "language": "python",
   "name": "python3"
  },
  "language_info": {
   "codemirror_mode": {
    "name": "ipython",
    "version": 3
   },
   "file_extension": ".py",
   "mimetype": "text/x-python",
   "name": "python",
   "nbconvert_exporter": "python",
   "pygments_lexer": "ipython3",
   "version": "3.7.2"
  }
 },
 "nbformat": 4,
 "nbformat_minor": 2
}
