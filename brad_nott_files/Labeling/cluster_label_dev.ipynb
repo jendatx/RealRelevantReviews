{
 "cells": [
  {
   "cell_type": "code",
   "execution_count": 1,
   "metadata": {},
   "outputs": [],
   "source": [
    "import datetime\n",
    "import json\n",
    "import numpy as np\n",
    "import pandas as pd\n",
    "pd.set_option('max_colwidth', 500)"
   ]
  },
  {
   "cell_type": "code",
   "execution_count": 2,
   "metadata": {},
   "outputs": [],
   "source": [
    "book_cutoffs = \"w266_proj/data/booklist.csv\" \n",
    "cutoffs = pd.read_csv(book_cutoffs,index_col='asin')"
   ]
  },
  {
   "cell_type": "code",
   "execution_count": 3,
   "metadata": {},
   "outputs": [
    {
     "data": {
      "text/html": [
       "<div>\n",
       "<style scoped>\n",
       "    .dataframe tbody tr th:only-of-type {\n",
       "        vertical-align: middle;\n",
       "    }\n",
       "\n",
       "    .dataframe tbody tr th {\n",
       "        vertical-align: top;\n",
       "    }\n",
       "\n",
       "    .dataframe thead th {\n",
       "        text-align: right;\n",
       "    }\n",
       "</style>\n",
       "<table border=\"1\" class=\"dataframe\">\n",
       "  <thead>\n",
       "    <tr style=\"text-align: right;\">\n",
       "      <th></th>\n",
       "      <th>book_num_reviews</th>\n",
       "      <th>std_HVAR</th>\n",
       "      <th>top_quartile_HVAR</th>\n",
       "    </tr>\n",
       "    <tr>\n",
       "      <th>asin</th>\n",
       "      <th></th>\n",
       "      <th></th>\n",
       "      <th></th>\n",
       "    </tr>\n",
       "  </thead>\n",
       "  <tbody>\n",
       "    <tr>\n",
       "      <th>000100039X</th>\n",
       "      <td>86</td>\n",
       "      <td>2.930287</td>\n",
       "      <td>0.842702</td>\n",
       "    </tr>\n",
       "    <tr>\n",
       "      <th>0001055178</th>\n",
       "      <td>12</td>\n",
       "      <td>0.332911</td>\n",
       "      <td>0.465856</td>\n",
       "    </tr>\n",
       "    <tr>\n",
       "      <th>0001712772</th>\n",
       "      <td>4</td>\n",
       "      <td>0.635544</td>\n",
       "      <td>1.148897</td>\n",
       "    </tr>\n",
       "    <tr>\n",
       "      <th>0001714538</th>\n",
       "      <td>4</td>\n",
       "      <td>0.099335</td>\n",
       "      <td>0.171246</td>\n",
       "    </tr>\n",
       "    <tr>\n",
       "      <th>0002005395</th>\n",
       "      <td>7</td>\n",
       "      <td>0.287376</td>\n",
       "      <td>0.782166</td>\n",
       "    </tr>\n",
       "  </tbody>\n",
       "</table>\n",
       "</div>"
      ],
      "text/plain": [
       "            book_num_reviews  std_HVAR  top_quartile_HVAR\n",
       "asin                                                     \n",
       "000100039X                86  2.930287           0.842702\n",
       "0001055178                12  0.332911           0.465856\n",
       "0001712772                 4  0.635544           1.148897\n",
       "0001714538                 4  0.099335           0.171246\n",
       "0002005395                 7  0.287376           0.782166"
      ]
     },
     "execution_count": 3,
     "metadata": {},
     "output_type": "execute_result"
    }
   ],
   "source": [
    "cutoffs.head()"
   ]
  },
  {
   "cell_type": "code",
   "execution_count": 4,
   "metadata": {},
   "outputs": [
    {
     "data": {
      "text/html": [
       "<div>\n",
       "<style scoped>\n",
       "    .dataframe tbody tr th:only-of-type {\n",
       "        vertical-align: middle;\n",
       "    }\n",
       "\n",
       "    .dataframe tbody tr th {\n",
       "        vertical-align: top;\n",
       "    }\n",
       "\n",
       "    .dataframe thead th {\n",
       "        text-align: right;\n",
       "    }\n",
       "</style>\n",
       "<table border=\"1\" class=\"dataframe\">\n",
       "  <thead>\n",
       "    <tr style=\"text-align: right;\">\n",
       "      <th></th>\n",
       "      <th>book_num_reviews</th>\n",
       "      <th>std_HVAR</th>\n",
       "      <th>top_quartile_HVAR</th>\n",
       "    </tr>\n",
       "  </thead>\n",
       "  <tbody>\n",
       "    <tr>\n",
       "      <th>count</th>\n",
       "      <td>197298.000000</td>\n",
       "      <td>1.972980e+05</td>\n",
       "      <td>197298.000000</td>\n",
       "    </tr>\n",
       "    <tr>\n",
       "      <th>mean</th>\n",
       "      <td>13.480745</td>\n",
       "      <td>1.777825e+00</td>\n",
       "      <td>1.685347</td>\n",
       "    </tr>\n",
       "    <tr>\n",
       "      <th>std</th>\n",
       "      <td>28.154276</td>\n",
       "      <td>3.280041e+00</td>\n",
       "      <td>2.001595</td>\n",
       "    </tr>\n",
       "    <tr>\n",
       "      <th>min</th>\n",
       "      <td>4.000000</td>\n",
       "      <td>1.199178e-16</td>\n",
       "      <td>0.000000</td>\n",
       "    </tr>\n",
       "    <tr>\n",
       "      <th>25%</th>\n",
       "      <td>5.000000</td>\n",
       "      <td>4.637533e-01</td>\n",
       "      <td>0.705740</td>\n",
       "    </tr>\n",
       "    <tr>\n",
       "      <th>50%</th>\n",
       "      <td>7.000000</td>\n",
       "      <td>9.378294e-01</td>\n",
       "      <td>1.154282</td>\n",
       "    </tr>\n",
       "    <tr>\n",
       "      <th>75%</th>\n",
       "      <td>13.000000</td>\n",
       "      <td>1.950738e+00</td>\n",
       "      <td>1.987549</td>\n",
       "    </tr>\n",
       "    <tr>\n",
       "      <th>max</th>\n",
       "      <td>2472.000000</td>\n",
       "      <td>3.786433e+02</td>\n",
       "      <td>128.641696</td>\n",
       "    </tr>\n",
       "  </tbody>\n",
       "</table>\n",
       "</div>"
      ],
      "text/plain": [
       "       book_num_reviews      std_HVAR  top_quartile_HVAR\n",
       "count     197298.000000  1.972980e+05      197298.000000\n",
       "mean          13.480745  1.777825e+00           1.685347\n",
       "std           28.154276  3.280041e+00           2.001595\n",
       "min            4.000000  1.199178e-16           0.000000\n",
       "25%            5.000000  4.637533e-01           0.705740\n",
       "50%            7.000000  9.378294e-01           1.154282\n",
       "75%           13.000000  1.950738e+00           1.987549\n",
       "max         2472.000000  3.786433e+02         128.641696"
      ]
     },
     "execution_count": 4,
     "metadata": {},
     "output_type": "execute_result"
    }
   ],
   "source": [
    "cutoffs.describe()"
   ]
  },
  {
   "cell_type": "code",
   "execution_count": 5,
   "metadata": {},
   "outputs": [
    {
     "name": "stdout",
     "output_type": "stream",
     "text": [
      "finished reading in data\n"
     ]
    }
   ],
   "source": [
    "dataset = \"w266_proj/data/dev.json\"\n",
    "df = pd.read_json(dataset,lines=True)\n",
    "\n",
    "print('finished reading in data')"
   ]
  },
  {
   "cell_type": "code",
   "execution_count": 6,
   "metadata": {},
   "outputs": [
    {
     "name": "stdout",
     "output_type": "stream",
     "text": [
      "finished creating helpful_votes column\n"
     ]
    }
   ],
   "source": [
    "# Peel out count of helpful votes into its own column\n",
    "df['helpful_votes'] = df.apply(lambda x: x.helpful[0],axis=1)\n",
    "# To avoid confusion later, drop the 'helpful' column at this point\n",
    "df.drop('helpful', axis = 1, inplace=True)\n",
    "# Convert reviewTime to datetime type info we can work with\n",
    "df.reviewTime = pd.to_datetime(df.reviewTime,infer_datetime_format=True)\n",
    "\n",
    "print('finished creating helpful_votes column')"
   ]
  },
  {
   "cell_type": "code",
   "execution_count": 7,
   "metadata": {},
   "outputs": [
    {
     "name": "stdout",
     "output_type": "stream",
     "text": [
      "Our dataset initially contains 476793 reviews\n"
     ]
    }
   ],
   "source": [
    "print(\"Our dataset initially contains {} reviews\".format(df.shape[0]))"
   ]
  },
  {
   "cell_type": "code",
   "execution_count": 8,
   "metadata": {},
   "outputs": [
    {
     "name": "stdout",
     "output_type": "stream",
     "text": [
      "After removing reviews less than one year old, our dataset contains 361268 reviews\n"
     ]
    }
   ],
   "source": [
    "# Our dataset snapshot has as its maximum review date 2014-07-23\n",
    "snapshotted_string = \"20140723\"\n",
    "snapshotted = datetime.datetime.strptime(snapshotted_string, '%Y%m%d')\n",
    "\n",
    "# We will DROP reviews less than one year old\n",
    "# They may not have accumulated enough evidence to support being helpful or not\n",
    "ourcutoff = snapshotted - datetime.timedelta(days=365)\n",
    "df = df[df.reviewTime < ourcutoff]\n",
    "\n",
    "print(\"After removing reviews less than one year old, our dataset contains {} reviews\".format(df.shape[0]))"
   ]
  },
  {
   "cell_type": "code",
   "execution_count": 9,
   "metadata": {},
   "outputs": [
    {
     "name": "stdout",
     "output_type": "stream",
     "text": [
      "task complete\n"
     ]
    }
   ],
   "source": [
    "# Here we store the age of each review in days\n",
    "df['review_age_days'] = df.apply(lambda x: (snapshotted - x.reviewTime).days,axis = 1)\n",
    "\n",
    "print('task complete')"
   ]
  },
  {
   "cell_type": "code",
   "execution_count": 10,
   "metadata": {},
   "outputs": [
    {
     "name": "stdout",
     "output_type": "stream",
     "text": [
      "task complete\n"
     ]
    }
   ],
   "source": [
    "# We create the annual HVAR score\n",
    "df['annual_HVAR'] = df.apply(lambda x: 365*x.helpful_votes/x.review_age_days, axis = 1)\n",
    "\n",
    "print('task complete')"
   ]
  },
  {
   "cell_type": "code",
   "execution_count": 11,
   "metadata": {},
   "outputs": [],
   "source": [
    "# Now we join the dev dataset and the by-book cutoff dataset\n",
    "df = df.join(cutoffs,on='asin')"
   ]
  },
  {
   "cell_type": "code",
   "execution_count": 12,
   "metadata": {},
   "outputs": [
    {
     "data": {
      "text/plain": [
       "154891"
      ]
     },
     "execution_count": 12,
     "metadata": {},
     "output_type": "execute_result"
    }
   ],
   "source": [
    "df['asin'].nunique()"
   ]
  },
  {
   "cell_type": "code",
   "execution_count": 13,
   "metadata": {},
   "outputs": [
    {
     "name": "stdout",
     "output_type": "stream",
     "text": [
      "47156 reviews in the dev set get dropped for books having inadequate review counts/variance\n"
     ]
    }
   ],
   "source": [
    "print(f\"{df.book_num_reviews.isna().sum()} reviews in the dev set get dropped for books having inadequate review counts/variance\")"
   ]
  },
  {
   "cell_type": "code",
   "execution_count": 14,
   "metadata": {},
   "outputs": [
    {
     "name": "stdout",
     "output_type": "stream",
     "text": [
      "After removing off-limits books we have 314112 dev reviews\n"
     ]
    }
   ],
   "source": [
    "# We drop these here\n",
    "df = df[df.book_num_reviews.notna()]\n",
    "print(f\"After removing off-limits books we have {df.shape[0]} dev reviews\")"
   ]
  },
  {
   "cell_type": "code",
   "execution_count": 20,
   "metadata": {},
   "outputs": [],
   "source": [
    "# Only do this step if trying to gather hvar lists for train/dev/test sets\n",
    "# Gather and pickle hvar lists per book\n",
    "\n",
    "#dev_hvar_list = pd.DataFrame(df.groupby('asin')['annual_HVAR'].apply(list))"
   ]
  },
  {
   "cell_type": "code",
   "execution_count": 16,
   "metadata": {},
   "outputs": [
    {
     "ename": "NameError",
     "evalue": "name 'dev_hvar_list' is not defined",
     "output_type": "error",
     "traceback": [
      "\u001b[1;31m---------------------------------------------------------------------------\u001b[0m",
      "\u001b[1;31mNameError\u001b[0m                                 Traceback (most recent call last)",
      "\u001b[1;32m<ipython-input-16-9e7869276668>\u001b[0m in \u001b[0;36m<module>\u001b[1;34m\u001b[0m\n\u001b[1;32m----> 1\u001b[1;33m \u001b[0mdev_hvar_list\u001b[0m\u001b[1;33m.\u001b[0m\u001b[0mhead\u001b[0m\u001b[1;33m(\u001b[0m\u001b[1;33m)\u001b[0m\u001b[1;33m\u001b[0m\u001b[1;33m\u001b[0m\u001b[0m\n\u001b[0m",
      "\u001b[1;31mNameError\u001b[0m: name 'dev_hvar_list' is not defined"
     ]
    }
   ],
   "source": [
    "#dev_hvar_list.head()"
   ]
  },
  {
   "cell_type": "code",
   "execution_count": 22,
   "metadata": {},
   "outputs": [],
   "source": [
    "#dev_hvar_list.to_pickle('dev_hvar_list.pkl')"
   ]
  },
  {
   "cell_type": "code",
   "execution_count": 15,
   "metadata": {},
   "outputs": [],
   "source": [
    "# Retain the most_helpful column for easy model comparisons using the same data set\n",
    "\n",
    "# And now we label the reviews that are in the top quartile as 'most_helpful' = 1 (otherwise 0)\n",
    "df['most_helpful'] = df.apply(lambda x: int(x.annual_HVAR > x.top_quartile_HVAR),axis = 1)"
   ]
  },
  {
   "cell_type": "code",
   "execution_count": 18,
   "metadata": {},
   "outputs": [
    {
     "data": {
      "text/html": [
       "<div>\n",
       "<style scoped>\n",
       "    .dataframe tbody tr th:only-of-type {\n",
       "        vertical-align: middle;\n",
       "    }\n",
       "\n",
       "    .dataframe tbody tr th {\n",
       "        vertical-align: top;\n",
       "    }\n",
       "\n",
       "    .dataframe thead th {\n",
       "        text-align: right;\n",
       "    }\n",
       "</style>\n",
       "<table border=\"1\" class=\"dataframe\">\n",
       "  <thead>\n",
       "    <tr style=\"text-align: right;\">\n",
       "      <th></th>\n",
       "      <th>asin</th>\n",
       "      <th>overall</th>\n",
       "      <th>reviewText</th>\n",
       "      <th>reviewTime</th>\n",
       "      <th>reviewerID</th>\n",
       "      <th>reviewerName</th>\n",
       "      <th>summary</th>\n",
       "      <th>unixReviewTime</th>\n",
       "      <th>helpful_votes</th>\n",
       "      <th>review_age_days</th>\n",
       "      <th>annual_HVAR</th>\n",
       "      <th>book_num_reviews</th>\n",
       "      <th>std_HVAR</th>\n",
       "      <th>top_quartile_HVAR</th>\n",
       "      <th>most_helpful</th>\n",
       "    </tr>\n",
       "  </thead>\n",
       "  <tbody>\n",
       "    <tr>\n",
       "      <th>0</th>\n",
       "      <td>000100039X</td>\n",
       "      <td>5</td>\n",
       "      <td>I would have to say that this is the best book I've ever read.. I could feel every word deep in my heart everytime, of the many times I've read it!  I would never get enough of it! its a treasure..</td>\n",
       "      <td>2001-02-24</td>\n",
       "      <td>A26GKZPS079GFF</td>\n",
       "      <td>Areej</td>\n",
       "      <td>Touches my heart.. again and.. again...</td>\n",
       "      <td>982972800</td>\n",
       "      <td>2</td>\n",
       "      <td>4897</td>\n",
       "      <td>0.149071</td>\n",
       "      <td>86.0</td>\n",
       "      <td>2.930287</td>\n",
       "      <td>0.842702</td>\n",
       "      <td>0</td>\n",
       "    </tr>\n",
       "    <tr>\n",
       "      <th>1</th>\n",
       "      <td>000100039X</td>\n",
       "      <td>5</td>\n",
       "      <td>This is Gibran's most celebrated work and it is so with goodreason.  It is a profound insight and expose into the human characterand the emotions that work within the heart and soul.  Humble words,seared with the heights and depths of love and of pain, this is a life-changing arrangement of words.  If I had to sum the book up in one word, it would be &amp;quot;SUBLIME.&amp;quot; If you're picking up this title, be sure to order Gibran's 'The Beloved' to go along with it. These are books that deserve...</td>\n",
       "      <td>2000-05-03</td>\n",
       "      <td>A15ACUAJEJXCS3</td>\n",
       "      <td>Caz</td>\n",
       "      <td>Superb</td>\n",
       "      <td>957312000</td>\n",
       "      <td>1</td>\n",
       "      <td>5194</td>\n",
       "      <td>0.070273</td>\n",
       "      <td>86.0</td>\n",
       "      <td>2.930287</td>\n",
       "      <td>0.842702</td>\n",
       "      <td>0</td>\n",
       "    </tr>\n",
       "    <tr>\n",
       "      <th>2</th>\n",
       "      <td>000100039X</td>\n",
       "      <td>5</td>\n",
       "      <td>Gibran Khalil Gibran was born in 1883 in what is now Northern Lebanon.  In 1909 he went to Paris to study, but he did not like the strict education, and so he traveled, eventually moving to New York.  Gibran became both an artist and a writer, and in 1923 he published \"The Prophet\", which is generally considered to be his greatest work.  He died of cancer in a New York hospital at the very young age of 48.The Prophet is a story about Almustafa (The Prophet) who after living 12 years in Orpha...</td>\n",
       "      <td>2006-01-10</td>\n",
       "      <td>AWLFVCT9128JV</td>\n",
       "      <td>Dave_42 \"Dave_42\"</td>\n",
       "      <td>The Lessons Of Life</td>\n",
       "      <td>1136851200</td>\n",
       "      <td>8</td>\n",
       "      <td>3116</td>\n",
       "      <td>0.937099</td>\n",
       "      <td>86.0</td>\n",
       "      <td>2.930287</td>\n",
       "      <td>0.842702</td>\n",
       "      <td>1</td>\n",
       "    </tr>\n",
       "    <tr>\n",
       "      <th>3</th>\n",
       "      <td>000100039X</td>\n",
       "      <td>5</td>\n",
       "      <td>_The Prophet_ is a short read (my copy checks in at just under 100 pages), but its berevity belies both the power and beauty of Gibran's words.  At its simplest, it is a discourse on the human condition: love, work, joy and sorrow, crime and punishment, reason and passion, Gibran runs the gamut of emotion and being, laying bare the paradox of who we are as human beings.  While the tone is somewhat mystical (which I didn't really care for), the sheer poetic beauty of his writing moved me.For ...</td>\n",
       "      <td>2012-08-12</td>\n",
       "      <td>A2NHD7LUXVGTD3</td>\n",
       "      <td>doc peterson</td>\n",
       "      <td>a beautiful poetic commentary on what it is to be human</td>\n",
       "      <td>1344729600</td>\n",
       "      <td>1</td>\n",
       "      <td>710</td>\n",
       "      <td>0.514085</td>\n",
       "      <td>86.0</td>\n",
       "      <td>2.930287</td>\n",
       "      <td>0.842702</td>\n",
       "      <td>0</td>\n",
       "    </tr>\n",
       "    <tr>\n",
       "      <th>4</th>\n",
       "      <td>000100039X</td>\n",
       "      <td>5</td>\n",
       "      <td>The Prophet, for me, is a very vivid yet dense book. It speaks some sort of wisdom, and I delight in that wisdom when I can understand it.The illustrations are done by the author himself, which is nice.</td>\n",
       "      <td>2007-11-29</td>\n",
       "      <td>AAEP8YFERQ8FC</td>\n",
       "      <td>General Breadbasket</td>\n",
       "      <td>Speak to Us of the Prophet</td>\n",
       "      <td>1196294400</td>\n",
       "      <td>1</td>\n",
       "      <td>2428</td>\n",
       "      <td>0.150329</td>\n",
       "      <td>86.0</td>\n",
       "      <td>2.930287</td>\n",
       "      <td>0.842702</td>\n",
       "      <td>0</td>\n",
       "    </tr>\n",
       "  </tbody>\n",
       "</table>\n",
       "</div>"
      ],
      "text/plain": [
       "         asin  overall  \\\n",
       "0  000100039X        5   \n",
       "1  000100039X        5   \n",
       "2  000100039X        5   \n",
       "3  000100039X        5   \n",
       "4  000100039X        5   \n",
       "\n",
       "                                                                                                                                                                                                                                                                                                                                                                                                                                                                                                            reviewText  \\\n",
       "0                                                                                                                                                                                                                                                                                                                I would have to say that this is the best book I've ever read.. I could feel every word deep in my heart everytime, of the many times I've read it!  I would never get enough of it! its a treasure..   \n",
       "1  This is Gibran's most celebrated work and it is so with goodreason.  It is a profound insight and expose into the human characterand the emotions that work within the heart and soul.  Humble words,seared with the heights and depths of love and of pain, this is a life-changing arrangement of words.  If I had to sum the book up in one word, it would be &quot;SUBLIME.&quot; If you're picking up this title, be sure to order Gibran's 'The Beloved' to go along with it. These are books that deserve...   \n",
       "2  Gibran Khalil Gibran was born in 1883 in what is now Northern Lebanon.  In 1909 he went to Paris to study, but he did not like the strict education, and so he traveled, eventually moving to New York.  Gibran became both an artist and a writer, and in 1923 he published \"The Prophet\", which is generally considered to be his greatest work.  He died of cancer in a New York hospital at the very young age of 48.The Prophet is a story about Almustafa (The Prophet) who after living 12 years in Orpha...   \n",
       "3  _The Prophet_ is a short read (my copy checks in at just under 100 pages), but its berevity belies both the power and beauty of Gibran's words.  At its simplest, it is a discourse on the human condition: love, work, joy and sorrow, crime and punishment, reason and passion, Gibran runs the gamut of emotion and being, laying bare the paradox of who we are as human beings.  While the tone is somewhat mystical (which I didn't really care for), the sheer poetic beauty of his writing moved me.For ...   \n",
       "4                                                                                                                                                                                                                                                                                                           The Prophet, for me, is a very vivid yet dense book. It speaks some sort of wisdom, and I delight in that wisdom when I can understand it.The illustrations are done by the author himself, which is nice.   \n",
       "\n",
       "  reviewTime      reviewerID         reviewerName  \\\n",
       "0 2001-02-24  A26GKZPS079GFF                Areej   \n",
       "1 2000-05-03  A15ACUAJEJXCS3                  Caz   \n",
       "2 2006-01-10   AWLFVCT9128JV    Dave_42 \"Dave_42\"   \n",
       "3 2012-08-12  A2NHD7LUXVGTD3         doc peterson   \n",
       "4 2007-11-29   AAEP8YFERQ8FC  General Breadbasket   \n",
       "\n",
       "                                                   summary  unixReviewTime  \\\n",
       "0                  Touches my heart.. again and.. again...       982972800   \n",
       "1                                                   Superb       957312000   \n",
       "2                                      The Lessons Of Life      1136851200   \n",
       "3  a beautiful poetic commentary on what it is to be human      1344729600   \n",
       "4                               Speak to Us of the Prophet      1196294400   \n",
       "\n",
       "   helpful_votes  review_age_days  annual_HVAR  book_num_reviews  std_HVAR  \\\n",
       "0              2             4897     0.149071              86.0  2.930287   \n",
       "1              1             5194     0.070273              86.0  2.930287   \n",
       "2              8             3116     0.937099              86.0  2.930287   \n",
       "3              1              710     0.514085              86.0  2.930287   \n",
       "4              1             2428     0.150329              86.0  2.930287   \n",
       "\n",
       "   top_quartile_HVAR  most_helpful  \n",
       "0           0.842702             0  \n",
       "1           0.842702             0  \n",
       "2           0.842702             1  \n",
       "3           0.842702             0  \n",
       "4           0.842702             0  "
      ]
     },
     "execution_count": 18,
     "metadata": {},
     "output_type": "execute_result"
    }
   ],
   "source": [
    "df.head()"
   ]
  },
  {
   "cell_type": "code",
   "execution_count": 16,
   "metadata": {},
   "outputs": [],
   "source": [
    "# Load global per-book min-max values\n",
    "import pickle\n",
    "\n",
    "global_min_max_pkl = open('global_min_max.pkl','rb')\n",
    "global_min_max = pickle.load(global_min_max_pkl)\n",
    "global_min_max_pkl.close()"
   ]
  },
  {
   "cell_type": "code",
   "execution_count": 17,
   "metadata": {},
   "outputs": [],
   "source": [
    "# Join on asin\n",
    "df = df.join(global_min_max, on='asin')"
   ]
  },
  {
   "cell_type": "code",
   "execution_count": 18,
   "metadata": {},
   "outputs": [
    {
     "data": {
      "text/plain": [
       "0"
      ]
     },
     "execution_count": 18,
     "metadata": {},
     "output_type": "execute_result"
    }
   ],
   "source": [
    "# check for missing min_max values after the join\n",
    "df.min_max.isnull().sum()"
   ]
  },
  {
   "cell_type": "code",
   "execution_count": 19,
   "metadata": {},
   "outputs": [],
   "source": [
    "# Min max scale individual reviews using the global min-max values in the min_max column\n",
    "\n",
    "def global_min_max(row):\n",
    "    #print('current row: {}'.format(row))\n",
    "    x = row['annual_HVAR']\n",
    "    \n",
    "    try:\n",
    "        minimum = row['min_max'][0]\n",
    "    except TypeError:\n",
    "        print('type error on min calc: {}'.format(row))\n",
    "        #raise TypeError('you are a dummy!')\n",
    "        \n",
    "    try:\n",
    "        maximum = row['min_max'][1]\n",
    "    except TypeError:\n",
    "        print('type error on max calc: {}'.format(row))\n",
    "        return\n",
    "    \n",
    "    try:\n",
    "        scaled_value = (x-minimum)/(maximum-minimum)\n",
    "    except ZeroDivisionError:\n",
    "        # Failed to find reviews for the same book with zero variance\n",
    "        print('ZeroDivisionError on scaling calc for: {}'.format(row))\n",
    "        raise ZeroDivisionError('Evaluate the error and try to catch it or remove the offending data')\n",
    "        \n",
    "    return scaled_value"
   ]
  },
  {
   "cell_type": "code",
   "execution_count": 20,
   "metadata": {},
   "outputs": [],
   "source": [
    "df['scaled'] = df[['annual_HVAR', 'min_max']].apply(global_min_max, axis=1)"
   ]
  },
  {
   "cell_type": "code",
   "execution_count": 21,
   "metadata": {},
   "outputs": [],
   "source": [
    "# label by within-book z-score normalization (standardization)\n",
    "\n",
    "#def z_calc(x):\n",
    "    #return (x - np.mean(x))/np.std(x, ddof=0)\n",
    "    \n",
    "def z_calc(row):\n",
    "    x = row['annual_HVAR']\n",
    "    mean = row['mean_sd'][0]\n",
    "    std = row['mean_sd'][1]\n",
    "    normalized = (x - mean)/std\n",
    "    return normalized"
   ]
  },
  {
   "cell_type": "code",
   "execution_count": 22,
   "metadata": {},
   "outputs": [],
   "source": [
    "df['group_z'] = df[['annual_HVAR','mean_sd']].apply(z_calc, axis=1)"
   ]
  },
  {
   "cell_type": "code",
   "execution_count": 32,
   "metadata": {},
   "outputs": [
    {
     "data": {
      "text/html": [
       "<div>\n",
       "<style scoped>\n",
       "    .dataframe tbody tr th:only-of-type {\n",
       "        vertical-align: middle;\n",
       "    }\n",
       "\n",
       "    .dataframe tbody tr th {\n",
       "        vertical-align: top;\n",
       "    }\n",
       "\n",
       "    .dataframe thead th {\n",
       "        text-align: right;\n",
       "    }\n",
       "</style>\n",
       "<table border=\"1\" class=\"dataframe\">\n",
       "  <thead>\n",
       "    <tr style=\"text-align: right;\">\n",
       "      <th></th>\n",
       "      <th>asin</th>\n",
       "      <th>overall</th>\n",
       "      <th>reviewText</th>\n",
       "      <th>reviewTime</th>\n",
       "      <th>reviewerID</th>\n",
       "      <th>reviewerName</th>\n",
       "      <th>summary</th>\n",
       "      <th>unixReviewTime</th>\n",
       "      <th>helpful_votes</th>\n",
       "      <th>review_age_days</th>\n",
       "      <th>annual_HVAR</th>\n",
       "      <th>book_num_reviews</th>\n",
       "      <th>std_HVAR</th>\n",
       "      <th>top_quartile_HVAR</th>\n",
       "      <th>most_helpful</th>\n",
       "      <th>min_max</th>\n",
       "      <th>mean_sd</th>\n",
       "      <th>scaled</th>\n",
       "      <th>class_2</th>\n",
       "      <th>group_z</th>\n",
       "    </tr>\n",
       "  </thead>\n",
       "  <tbody>\n",
       "    <tr>\n",
       "      <th>0</th>\n",
       "      <td>000100039X</td>\n",
       "      <td>5</td>\n",
       "      <td>I would have to say that this is the best book I've ever read.. I could feel every word deep in my heart everytime, of the many times I've read it!  I would never get enough of it! its a treasure..</td>\n",
       "      <td>2001-02-24</td>\n",
       "      <td>A26GKZPS079GFF</td>\n",
       "      <td>Areej</td>\n",
       "      <td>Touches my heart.. again and.. again...</td>\n",
       "      <td>982972800</td>\n",
       "      <td>2</td>\n",
       "      <td>4897</td>\n",
       "      <td>0.149071</td>\n",
       "      <td>86.0</td>\n",
       "      <td>2.930287</td>\n",
       "      <td>0.842702</td>\n",
       "      <td>0</td>\n",
       "      <td>(0.0, 24.302026375040207)</td>\n",
       "      <td>(1.0470776160076654, 2.7821006685613363)</td>\n",
       "      <td>0.006134</td>\n",
       "      <td>0.0</td>\n",
       "      <td>-0.322780</td>\n",
       "    </tr>\n",
       "    <tr>\n",
       "      <th>1</th>\n",
       "      <td>000100039X</td>\n",
       "      <td>5</td>\n",
       "      <td>This is Gibran's most celebrated work and it is so with goodreason.  It is a profound insight and expose into the human characterand the emotions that work within the heart and soul.  Humble words,seared with the heights and depths of love and of pain, this is a life-changing arrangement of words.  If I had to sum the book up in one word, it would be &amp;quot;SUBLIME.&amp;quot; If you're picking up this title, be sure to order Gibran's 'The Beloved' to go along with it. These are books that deserve...</td>\n",
       "      <td>2000-05-03</td>\n",
       "      <td>A15ACUAJEJXCS3</td>\n",
       "      <td>Caz</td>\n",
       "      <td>Superb</td>\n",
       "      <td>957312000</td>\n",
       "      <td>1</td>\n",
       "      <td>5194</td>\n",
       "      <td>0.070273</td>\n",
       "      <td>86.0</td>\n",
       "      <td>2.930287</td>\n",
       "      <td>0.842702</td>\n",
       "      <td>0</td>\n",
       "      <td>(0.0, 24.302026375040207)</td>\n",
       "      <td>(1.0470776160076654, 2.7821006685613363)</td>\n",
       "      <td>0.002892</td>\n",
       "      <td>0.0</td>\n",
       "      <td>-0.351103</td>\n",
       "    </tr>\n",
       "    <tr>\n",
       "      <th>2</th>\n",
       "      <td>000100039X</td>\n",
       "      <td>5</td>\n",
       "      <td>Gibran Khalil Gibran was born in 1883 in what is now Northern Lebanon.  In 1909 he went to Paris to study, but he did not like the strict education, and so he traveled, eventually moving to New York.  Gibran became both an artist and a writer, and in 1923 he published \"The Prophet\", which is generally considered to be his greatest work.  He died of cancer in a New York hospital at the very young age of 48.The Prophet is a story about Almustafa (The Prophet) who after living 12 years in Orpha...</td>\n",
       "      <td>2006-01-10</td>\n",
       "      <td>AWLFVCT9128JV</td>\n",
       "      <td>Dave_42 \"Dave_42\"</td>\n",
       "      <td>The Lessons Of Life</td>\n",
       "      <td>1136851200</td>\n",
       "      <td>8</td>\n",
       "      <td>3116</td>\n",
       "      <td>0.937099</td>\n",
       "      <td>86.0</td>\n",
       "      <td>2.930287</td>\n",
       "      <td>0.842702</td>\n",
       "      <td>1</td>\n",
       "      <td>(0.0, 24.302026375040207)</td>\n",
       "      <td>(1.0470776160076654, 2.7821006685613363)</td>\n",
       "      <td>0.038561</td>\n",
       "      <td>0.0</td>\n",
       "      <td>-0.039531</td>\n",
       "    </tr>\n",
       "    <tr>\n",
       "      <th>3</th>\n",
       "      <td>000100039X</td>\n",
       "      <td>5</td>\n",
       "      <td>_The Prophet_ is a short read (my copy checks in at just under 100 pages), but its berevity belies both the power and beauty of Gibran's words.  At its simplest, it is a discourse on the human condition: love, work, joy and sorrow, crime and punishment, reason and passion, Gibran runs the gamut of emotion and being, laying bare the paradox of who we are as human beings.  While the tone is somewhat mystical (which I didn't really care for), the sheer poetic beauty of his writing moved me.For ...</td>\n",
       "      <td>2012-08-12</td>\n",
       "      <td>A2NHD7LUXVGTD3</td>\n",
       "      <td>doc peterson</td>\n",
       "      <td>a beautiful poetic commentary on what it is to be human</td>\n",
       "      <td>1344729600</td>\n",
       "      <td>1</td>\n",
       "      <td>710</td>\n",
       "      <td>0.514085</td>\n",
       "      <td>86.0</td>\n",
       "      <td>2.930287</td>\n",
       "      <td>0.842702</td>\n",
       "      <td>0</td>\n",
       "      <td>(0.0, 24.302026375040207)</td>\n",
       "      <td>(1.0470776160076654, 2.7821006685613363)</td>\n",
       "      <td>0.021154</td>\n",
       "      <td>0.0</td>\n",
       "      <td>-0.191579</td>\n",
       "    </tr>\n",
       "    <tr>\n",
       "      <th>4</th>\n",
       "      <td>000100039X</td>\n",
       "      <td>5</td>\n",
       "      <td>The Prophet, for me, is a very vivid yet dense book. It speaks some sort of wisdom, and I delight in that wisdom when I can understand it.The illustrations are done by the author himself, which is nice.</td>\n",
       "      <td>2007-11-29</td>\n",
       "      <td>AAEP8YFERQ8FC</td>\n",
       "      <td>General Breadbasket</td>\n",
       "      <td>Speak to Us of the Prophet</td>\n",
       "      <td>1196294400</td>\n",
       "      <td>1</td>\n",
       "      <td>2428</td>\n",
       "      <td>0.150329</td>\n",
       "      <td>86.0</td>\n",
       "      <td>2.930287</td>\n",
       "      <td>0.842702</td>\n",
       "      <td>0</td>\n",
       "      <td>(0.0, 24.302026375040207)</td>\n",
       "      <td>(1.0470776160076654, 2.7821006685613363)</td>\n",
       "      <td>0.006186</td>\n",
       "      <td>0.0</td>\n",
       "      <td>-0.322328</td>\n",
       "    </tr>\n",
       "  </tbody>\n",
       "</table>\n",
       "</div>"
      ],
      "text/plain": [
       "         asin  overall  \\\n",
       "0  000100039X        5   \n",
       "1  000100039X        5   \n",
       "2  000100039X        5   \n",
       "3  000100039X        5   \n",
       "4  000100039X        5   \n",
       "\n",
       "                                                                                                                                                                                                                                                                                                                                                                                                                                                                                                            reviewText  \\\n",
       "0                                                                                                                                                                                                                                                                                                                I would have to say that this is the best book I've ever read.. I could feel every word deep in my heart everytime, of the many times I've read it!  I would never get enough of it! its a treasure..   \n",
       "1  This is Gibran's most celebrated work and it is so with goodreason.  It is a profound insight and expose into the human characterand the emotions that work within the heart and soul.  Humble words,seared with the heights and depths of love and of pain, this is a life-changing arrangement of words.  If I had to sum the book up in one word, it would be &quot;SUBLIME.&quot; If you're picking up this title, be sure to order Gibran's 'The Beloved' to go along with it. These are books that deserve...   \n",
       "2  Gibran Khalil Gibran was born in 1883 in what is now Northern Lebanon.  In 1909 he went to Paris to study, but he did not like the strict education, and so he traveled, eventually moving to New York.  Gibran became both an artist and a writer, and in 1923 he published \"The Prophet\", which is generally considered to be his greatest work.  He died of cancer in a New York hospital at the very young age of 48.The Prophet is a story about Almustafa (The Prophet) who after living 12 years in Orpha...   \n",
       "3  _The Prophet_ is a short read (my copy checks in at just under 100 pages), but its berevity belies both the power and beauty of Gibran's words.  At its simplest, it is a discourse on the human condition: love, work, joy and sorrow, crime and punishment, reason and passion, Gibran runs the gamut of emotion and being, laying bare the paradox of who we are as human beings.  While the tone is somewhat mystical (which I didn't really care for), the sheer poetic beauty of his writing moved me.For ...   \n",
       "4                                                                                                                                                                                                                                                                                                           The Prophet, for me, is a very vivid yet dense book. It speaks some sort of wisdom, and I delight in that wisdom when I can understand it.The illustrations are done by the author himself, which is nice.   \n",
       "\n",
       "  reviewTime      reviewerID         reviewerName  \\\n",
       "0 2001-02-24  A26GKZPS079GFF                Areej   \n",
       "1 2000-05-03  A15ACUAJEJXCS3                  Caz   \n",
       "2 2006-01-10   AWLFVCT9128JV    Dave_42 \"Dave_42\"   \n",
       "3 2012-08-12  A2NHD7LUXVGTD3         doc peterson   \n",
       "4 2007-11-29   AAEP8YFERQ8FC  General Breadbasket   \n",
       "\n",
       "                                                   summary  unixReviewTime  \\\n",
       "0                  Touches my heart.. again and.. again...       982972800   \n",
       "1                                                   Superb       957312000   \n",
       "2                                      The Lessons Of Life      1136851200   \n",
       "3  a beautiful poetic commentary on what it is to be human      1344729600   \n",
       "4                               Speak to Us of the Prophet      1196294400   \n",
       "\n",
       "   helpful_votes  review_age_days  annual_HVAR  book_num_reviews  std_HVAR  \\\n",
       "0              2             4897     0.149071              86.0  2.930287   \n",
       "1              1             5194     0.070273              86.0  2.930287   \n",
       "2              8             3116     0.937099              86.0  2.930287   \n",
       "3              1              710     0.514085              86.0  2.930287   \n",
       "4              1             2428     0.150329              86.0  2.930287   \n",
       "\n",
       "   top_quartile_HVAR  most_helpful                    min_max  \\\n",
       "0           0.842702             0  (0.0, 24.302026375040207)   \n",
       "1           0.842702             0  (0.0, 24.302026375040207)   \n",
       "2           0.842702             1  (0.0, 24.302026375040207)   \n",
       "3           0.842702             0  (0.0, 24.302026375040207)   \n",
       "4           0.842702             0  (0.0, 24.302026375040207)   \n",
       "\n",
       "                                    mean_sd    scaled  class_2   group_z  \n",
       "0  (1.0470776160076654, 2.7821006685613363)  0.006134      0.0 -0.322780  \n",
       "1  (1.0470776160076654, 2.7821006685613363)  0.002892      0.0 -0.351103  \n",
       "2  (1.0470776160076654, 2.7821006685613363)  0.038561      0.0 -0.039531  \n",
       "3  (1.0470776160076654, 2.7821006685613363)  0.021154      0.0 -0.191579  \n",
       "4  (1.0470776160076654, 2.7821006685613363)  0.006186      0.0 -0.322328  "
      ]
     },
     "execution_count": 32,
     "metadata": {},
     "output_type": "execute_result"
    }
   ],
   "source": [
    "df.head()"
   ]
  },
  {
   "cell_type": "code",
   "execution_count": 23,
   "metadata": {},
   "outputs": [
    {
     "data": {
      "text/plain": [
       "(array([], dtype=int64),)"
      ]
     },
     "execution_count": 23,
     "metadata": {},
     "output_type": "execute_result"
    }
   ],
   "source": [
    "np.where(np.isnan(df['scaled']))"
   ]
  },
  {
   "cell_type": "code",
   "execution_count": 24,
   "metadata": {},
   "outputs": [
    {
     "name": "stdout",
     "output_type": "stream",
     "text": [
      "0\n"
     ]
    }
   ],
   "source": [
    "# check for errors\n",
    "errors = np.where(np.isnan(df['scaled']))\n",
    "print(len(errors[0]))"
   ]
  },
  {
   "cell_type": "code",
   "execution_count": 25,
   "metadata": {},
   "outputs": [],
   "source": [
    "# Use kmeans clustering to bucket scaled values\n",
    "from sklearn.preprocessing import KBinsDiscretizer\n",
    "\n",
    "est = KBinsDiscretizer(n_bins=2, encode='ordinal', strategy='kmeans')"
   ]
  },
  {
   "cell_type": "code",
   "execution_count": 26,
   "metadata": {},
   "outputs": [
    {
     "name": "stdout",
     "output_type": "stream",
     "text": [
      "min-max labeling task complete\n"
     ]
    }
   ],
   "source": [
    "df['class_2'] = est.fit_transform(df[['scaled']])\n",
    "\n",
    "print('min-max labeling task complete')"
   ]
  },
  {
   "cell_type": "code",
   "execution_count": 27,
   "metadata": {},
   "outputs": [
    {
     "name": "stdout",
     "output_type": "stream",
     "text": [
      "z-score normalization labeling task complete\n"
     ]
    }
   ],
   "source": [
    "df['group_z_class'] = est.fit_transform(df[['group_z']])\n",
    "\n",
    "print('z-score normalization labeling task complete')"
   ]
  },
  {
   "cell_type": "code",
   "execution_count": 28,
   "metadata": {},
   "outputs": [
    {
     "data": {
      "text/plain": [
       "0.0    271071\n",
       "1.0     43041\n",
       "Name: class_2, dtype: int64"
      ]
     },
     "execution_count": 28,
     "metadata": {},
     "output_type": "execute_result"
    }
   ],
   "source": [
    "df['class_2'].value_counts()"
   ]
  },
  {
   "cell_type": "code",
   "execution_count": 29,
   "metadata": {},
   "outputs": [
    {
     "data": {
      "text/plain": [
       "0.0    281325\n",
       "1.0     32787\n",
       "Name: group_z_class, dtype: int64"
      ]
     },
     "execution_count": 29,
     "metadata": {},
     "output_type": "execute_result"
    }
   ],
   "source": [
    "df['group_z_class'].value_counts()"
   ]
  },
  {
   "cell_type": "code",
   "execution_count": 30,
   "metadata": {},
   "outputs": [],
   "source": [
    "# Write it out to a file\n",
    "# - This modified dev set contains new label column generated by kmeans clustering min-max scaled annual_HVAR values\n",
    "df.to_csv('w266_proj/data/labeled_dev_set_clust_FINAL.csv',index=False)"
   ]
  }
 ],
 "metadata": {
  "kernelspec": {
   "display_name": "Python 3",
   "language": "python",
   "name": "python3"
  },
  "language_info": {
   "codemirror_mode": {
    "name": "ipython",
    "version": 3
   },
   "file_extension": ".py",
   "mimetype": "text/x-python",
   "name": "python",
   "nbconvert_exporter": "python",
   "pygments_lexer": "ipython3",
   "version": "3.7.1"
  }
 },
 "nbformat": 4,
 "nbformat_minor": 2
}
