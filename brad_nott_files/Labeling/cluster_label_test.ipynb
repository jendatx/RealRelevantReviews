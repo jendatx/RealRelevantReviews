{
 "cells": [
  {
   "cell_type": "code",
   "execution_count": 2,
   "metadata": {},
   "outputs": [],
   "source": [
    "import datetime\n",
    "import json\n",
    "import numpy as np\n",
    "import pandas as pd\n",
    "pd.set_option('max_colwidth', 500)"
   ]
  },
  {
   "cell_type": "code",
   "execution_count": 3,
   "metadata": {},
   "outputs": [],
   "source": [
    "book_cutoffs = \"w266_proj/data/booklist.csv\" \n",
    "cutoffs = pd.read_csv(book_cutoffs,index_col='asin')"
   ]
  },
  {
   "cell_type": "code",
   "execution_count": 31,
   "metadata": {},
   "outputs": [
    {
     "data": {
      "text/html": [
       "<div>\n",
       "<style scoped>\n",
       "    .dataframe tbody tr th:only-of-type {\n",
       "        vertical-align: middle;\n",
       "    }\n",
       "\n",
       "    .dataframe tbody tr th {\n",
       "        vertical-align: top;\n",
       "    }\n",
       "\n",
       "    .dataframe thead th {\n",
       "        text-align: right;\n",
       "    }\n",
       "</style>\n",
       "<table border=\"1\" class=\"dataframe\">\n",
       "  <thead>\n",
       "    <tr style=\"text-align: right;\">\n",
       "      <th></th>\n",
       "      <th>book_num_reviews</th>\n",
       "      <th>std_HVAR</th>\n",
       "      <th>top_quartile_HVAR</th>\n",
       "    </tr>\n",
       "    <tr>\n",
       "      <th>asin</th>\n",
       "      <th></th>\n",
       "      <th></th>\n",
       "      <th></th>\n",
       "    </tr>\n",
       "  </thead>\n",
       "  <tbody>\n",
       "    <tr>\n",
       "      <th>000100039X</th>\n",
       "      <td>86</td>\n",
       "      <td>2.930287</td>\n",
       "      <td>0.842702</td>\n",
       "    </tr>\n",
       "    <tr>\n",
       "      <th>0001055178</th>\n",
       "      <td>12</td>\n",
       "      <td>0.332911</td>\n",
       "      <td>0.465856</td>\n",
       "    </tr>\n",
       "    <tr>\n",
       "      <th>0001712772</th>\n",
       "      <td>4</td>\n",
       "      <td>0.635544</td>\n",
       "      <td>1.148897</td>\n",
       "    </tr>\n",
       "    <tr>\n",
       "      <th>0001714538</th>\n",
       "      <td>4</td>\n",
       "      <td>0.099335</td>\n",
       "      <td>0.171246</td>\n",
       "    </tr>\n",
       "    <tr>\n",
       "      <th>0002005395</th>\n",
       "      <td>7</td>\n",
       "      <td>0.287376</td>\n",
       "      <td>0.782166</td>\n",
       "    </tr>\n",
       "  </tbody>\n",
       "</table>\n",
       "</div>"
      ],
      "text/plain": [
       "            book_num_reviews  std_HVAR  top_quartile_HVAR\n",
       "asin                                                     \n",
       "000100039X                86  2.930287           0.842702\n",
       "0001055178                12  0.332911           0.465856\n",
       "0001712772                 4  0.635544           1.148897\n",
       "0001714538                 4  0.099335           0.171246\n",
       "0002005395                 7  0.287376           0.782166"
      ]
     },
     "execution_count": 31,
     "metadata": {},
     "output_type": "execute_result"
    }
   ],
   "source": [
    "cutoffs.head()"
   ]
  },
  {
   "cell_type": "code",
   "execution_count": 4,
   "metadata": {},
   "outputs": [
    {
     "name": "stdout",
     "output_type": "stream",
     "text": [
      "finished reading in data\n"
     ]
    }
   ],
   "source": [
    "dataset = \"w266_proj/data/test.json\"\n",
    "df = pd.read_json(dataset,lines=True)\n",
    "\n",
    "print('finished reading in data')"
   ]
  },
  {
   "cell_type": "code",
   "execution_count": 5,
   "metadata": {},
   "outputs": [
    {
     "name": "stdout",
     "output_type": "stream",
     "text": [
      "finished creating helpful_votes column\n"
     ]
    }
   ],
   "source": [
    "# Peel out count of helpful votes into its own column\n",
    "df['helpful_votes'] = df.apply(lambda x: x.helpful[0],axis=1)\n",
    "# To avoid confusion later, drop the 'helpful' column at this point\n",
    "df.drop('helpful', axis = 1, inplace=True)\n",
    "# Convert reviewTime to datetime type info we can work with\n",
    "df.reviewTime = pd.to_datetime(df.reviewTime,infer_datetime_format=True)\n",
    "\n",
    "print('finished creating helpful_votes column')"
   ]
  },
  {
   "cell_type": "code",
   "execution_count": 6,
   "metadata": {},
   "outputs": [
    {
     "name": "stdout",
     "output_type": "stream",
     "text": [
      "Our dataset initially contains 475978 reviews\n"
     ]
    }
   ],
   "source": [
    "print(\"Our dataset initially contains {} reviews\".format(df.shape[0]))"
   ]
  },
  {
   "cell_type": "code",
   "execution_count": 7,
   "metadata": {},
   "outputs": [
    {
     "name": "stdout",
     "output_type": "stream",
     "text": [
      "After removing reviews less than one year old, our dataset contains 360680 reviews\n"
     ]
    }
   ],
   "source": [
    "# Our dataset snapshot has as its maximum review date 2014-07-23\n",
    "snapshotted_string = \"20140723\"\n",
    "snapshotted = datetime.datetime.strptime(snapshotted_string, '%Y%m%d')\n",
    "\n",
    "# We will DROP reviews less than one year old\n",
    "# They may not have accumulated enough evidence to support being helpful or not\n",
    "ourcutoff = snapshotted - datetime.timedelta(days=365)\n",
    "df = df[df.reviewTime < ourcutoff]\n",
    "print(\"After removing reviews less than one year old, our dataset contains {} reviews\".format(df.shape[0]))"
   ]
  },
  {
   "cell_type": "code",
   "execution_count": 8,
   "metadata": {},
   "outputs": [],
   "source": [
    "# Here we store the age of each review in days\n",
    "df['review_age_days'] = df.apply(lambda x: (snapshotted - x.reviewTime).days,axis = 1)"
   ]
  },
  {
   "cell_type": "code",
   "execution_count": 9,
   "metadata": {},
   "outputs": [
    {
     "name": "stdout",
     "output_type": "stream",
     "text": [
      "task complete\n"
     ]
    }
   ],
   "source": [
    "# We create the annual HVAR score\n",
    "df['annual_HVAR'] = df.apply(lambda x: 365*x.helpful_votes/x.review_age_days, axis = 1)\n",
    "\n",
    "print('task complete')"
   ]
  },
  {
   "cell_type": "code",
   "execution_count": 38,
   "metadata": {},
   "outputs": [
    {
     "data": {
      "text/html": [
       "<div>\n",
       "<style scoped>\n",
       "    .dataframe tbody tr th:only-of-type {\n",
       "        vertical-align: middle;\n",
       "    }\n",
       "\n",
       "    .dataframe tbody tr th {\n",
       "        vertical-align: top;\n",
       "    }\n",
       "\n",
       "    .dataframe thead th {\n",
       "        text-align: right;\n",
       "    }\n",
       "</style>\n",
       "<table border=\"1\" class=\"dataframe\">\n",
       "  <thead>\n",
       "    <tr style=\"text-align: right;\">\n",
       "      <th></th>\n",
       "      <th>overall</th>\n",
       "      <th>unixReviewTime</th>\n",
       "      <th>helpful_votes</th>\n",
       "      <th>review_age_days</th>\n",
       "      <th>annual_HVAR</th>\n",
       "    </tr>\n",
       "  </thead>\n",
       "  <tbody>\n",
       "    <tr>\n",
       "      <th>count</th>\n",
       "      <td>360680.000000</td>\n",
       "      <td>3.606800e+05</td>\n",
       "      <td>360680.000000</td>\n",
       "      <td>360680.000000</td>\n",
       "      <td>360680.000000</td>\n",
       "    </tr>\n",
       "    <tr>\n",
       "      <th>mean</th>\n",
       "      <td>4.069926</td>\n",
       "      <td>1.251397e+09</td>\n",
       "      <td>6.704306</td>\n",
       "      <td>1790.239168</td>\n",
       "      <td>1.603826</td>\n",
       "    </tr>\n",
       "    <tr>\n",
       "      <th>std</th>\n",
       "      <td>1.209969</td>\n",
       "      <td>1.164771e+08</td>\n",
       "      <td>27.198241</td>\n",
       "      <td>1348.114480</td>\n",
       "      <td>6.830568</td>\n",
       "    </tr>\n",
       "    <tr>\n",
       "      <th>min</th>\n",
       "      <td>1.000000</td>\n",
       "      <td>8.430048e+08</td>\n",
       "      <td>0.000000</td>\n",
       "      <td>366.000000</td>\n",
       "      <td>0.000000</td>\n",
       "    </tr>\n",
       "    <tr>\n",
       "      <th>25%</th>\n",
       "      <td>3.000000</td>\n",
       "      <td>1.178842e+09</td>\n",
       "      <td>1.000000</td>\n",
       "      <td>653.000000</td>\n",
       "      <td>0.292468</td>\n",
       "    </tr>\n",
       "    <tr>\n",
       "      <th>50%</th>\n",
       "      <td>5.000000</td>\n",
       "      <td>1.291853e+09</td>\n",
       "      <td>2.000000</td>\n",
       "      <td>1322.000000</td>\n",
       "      <td>0.661232</td>\n",
       "    </tr>\n",
       "    <tr>\n",
       "      <th>75%</th>\n",
       "      <td>5.000000</td>\n",
       "      <td>1.349654e+09</td>\n",
       "      <td>5.000000</td>\n",
       "      <td>2630.000000</td>\n",
       "      <td>1.385725</td>\n",
       "    </tr>\n",
       "    <tr>\n",
       "      <th>max</th>\n",
       "      <td>5.000000</td>\n",
       "      <td>1.374451e+09</td>\n",
       "      <td>7136.000000</td>\n",
       "      <td>6517.000000</td>\n",
       "      <td>2088.724940</td>\n",
       "    </tr>\n",
       "  </tbody>\n",
       "</table>\n",
       "</div>"
      ],
      "text/plain": [
       "             overall  unixReviewTime  helpful_votes  review_age_days  \\\n",
       "count  360680.000000    3.606800e+05  360680.000000    360680.000000   \n",
       "mean        4.069926    1.251397e+09       6.704306      1790.239168   \n",
       "std         1.209969    1.164771e+08      27.198241      1348.114480   \n",
       "min         1.000000    8.430048e+08       0.000000       366.000000   \n",
       "25%         3.000000    1.178842e+09       1.000000       653.000000   \n",
       "50%         5.000000    1.291853e+09       2.000000      1322.000000   \n",
       "75%         5.000000    1.349654e+09       5.000000      2630.000000   \n",
       "max         5.000000    1.374451e+09    7136.000000      6517.000000   \n",
       "\n",
       "         annual_HVAR  \n",
       "count  360680.000000  \n",
       "mean        1.603826  \n",
       "std         6.830568  \n",
       "min         0.000000  \n",
       "25%         0.292468  \n",
       "50%         0.661232  \n",
       "75%         1.385725  \n",
       "max      2088.724940  "
      ]
     },
     "execution_count": 38,
     "metadata": {},
     "output_type": "execute_result"
    }
   ],
   "source": [
    "df.describe()"
   ]
  },
  {
   "cell_type": "code",
   "execution_count": 10,
   "metadata": {},
   "outputs": [],
   "source": [
    "# Now we join the test dataset and the by-book cutoff dataset\n",
    "df = df.join(cutoffs,on='asin')"
   ]
  },
  {
   "cell_type": "code",
   "execution_count": 12,
   "metadata": {},
   "outputs": [
    {
     "data": {
      "text/html": [
       "<div>\n",
       "<style scoped>\n",
       "    .dataframe tbody tr th:only-of-type {\n",
       "        vertical-align: middle;\n",
       "    }\n",
       "\n",
       "    .dataframe tbody tr th {\n",
       "        vertical-align: top;\n",
       "    }\n",
       "\n",
       "    .dataframe thead th {\n",
       "        text-align: right;\n",
       "    }\n",
       "</style>\n",
       "<table border=\"1\" class=\"dataframe\">\n",
       "  <thead>\n",
       "    <tr style=\"text-align: right;\">\n",
       "      <th></th>\n",
       "      <th>overall</th>\n",
       "      <th>unixReviewTime</th>\n",
       "      <th>helpful_votes</th>\n",
       "      <th>review_age_days</th>\n",
       "      <th>annual_HVAR</th>\n",
       "      <th>book_num_reviews</th>\n",
       "      <th>std_HVAR</th>\n",
       "      <th>top_quartile_HVAR</th>\n",
       "    </tr>\n",
       "  </thead>\n",
       "  <tbody>\n",
       "    <tr>\n",
       "      <th>count</th>\n",
       "      <td>360680.000000</td>\n",
       "      <td>3.606800e+05</td>\n",
       "      <td>360680.000000</td>\n",
       "      <td>360680.000000</td>\n",
       "      <td>360680.000000</td>\n",
       "      <td>313656.000000</td>\n",
       "      <td>313656.000000</td>\n",
       "      <td>313656.000000</td>\n",
       "    </tr>\n",
       "    <tr>\n",
       "      <th>mean</th>\n",
       "      <td>4.069926</td>\n",
       "      <td>1.251397e+09</td>\n",
       "      <td>6.704306</td>\n",
       "      <td>1790.239168</td>\n",
       "      <td>1.603826</td>\n",
       "      <td>75.411846</td>\n",
       "      <td>3.556318</td>\n",
       "      <td>1.539988</td>\n",
       "    </tr>\n",
       "    <tr>\n",
       "      <th>std</th>\n",
       "      <td>1.209969</td>\n",
       "      <td>1.164771e+08</td>\n",
       "      <td>27.198241</td>\n",
       "      <td>1348.114480</td>\n",
       "      <td>6.830568</td>\n",
       "      <td>195.637539</td>\n",
       "      <td>10.580872</td>\n",
       "      <td>1.877889</td>\n",
       "    </tr>\n",
       "    <tr>\n",
       "      <th>min</th>\n",
       "      <td>1.000000</td>\n",
       "      <td>8.430048e+08</td>\n",
       "      <td>0.000000</td>\n",
       "      <td>366.000000</td>\n",
       "      <td>0.000000</td>\n",
       "      <td>4.000000</td>\n",
       "      <td>0.000186</td>\n",
       "      <td>0.000000</td>\n",
       "    </tr>\n",
       "    <tr>\n",
       "      <th>25%</th>\n",
       "      <td>3.000000</td>\n",
       "      <td>1.178842e+09</td>\n",
       "      <td>1.000000</td>\n",
       "      <td>653.000000</td>\n",
       "      <td>0.292468</td>\n",
       "      <td>9.000000</td>\n",
       "      <td>0.722466</td>\n",
       "      <td>0.692892</td>\n",
       "    </tr>\n",
       "    <tr>\n",
       "      <th>50%</th>\n",
       "      <td>5.000000</td>\n",
       "      <td>1.291853e+09</td>\n",
       "      <td>2.000000</td>\n",
       "      <td>1322.000000</td>\n",
       "      <td>0.661232</td>\n",
       "      <td>22.000000</td>\n",
       "      <td>1.554675</td>\n",
       "      <td>1.042659</td>\n",
       "    </tr>\n",
       "    <tr>\n",
       "      <th>75%</th>\n",
       "      <td>5.000000</td>\n",
       "      <td>1.349654e+09</td>\n",
       "      <td>5.000000</td>\n",
       "      <td>2630.000000</td>\n",
       "      <td>1.385725</td>\n",
       "      <td>58.000000</td>\n",
       "      <td>3.454750</td>\n",
       "      <td>1.778518</td>\n",
       "    </tr>\n",
       "    <tr>\n",
       "      <th>max</th>\n",
       "      <td>5.000000</td>\n",
       "      <td>1.374451e+09</td>\n",
       "      <td>7136.000000</td>\n",
       "      <td>6517.000000</td>\n",
       "      <td>2088.724940</td>\n",
       "      <td>2472.000000</td>\n",
       "      <td>378.643335</td>\n",
       "      <td>113.758186</td>\n",
       "    </tr>\n",
       "  </tbody>\n",
       "</table>\n",
       "</div>"
      ],
      "text/plain": [
       "             overall  unixReviewTime  helpful_votes  review_age_days  \\\n",
       "count  360680.000000    3.606800e+05  360680.000000    360680.000000   \n",
       "mean        4.069926    1.251397e+09       6.704306      1790.239168   \n",
       "std         1.209969    1.164771e+08      27.198241      1348.114480   \n",
       "min         1.000000    8.430048e+08       0.000000       366.000000   \n",
       "25%         3.000000    1.178842e+09       1.000000       653.000000   \n",
       "50%         5.000000    1.291853e+09       2.000000      1322.000000   \n",
       "75%         5.000000    1.349654e+09       5.000000      2630.000000   \n",
       "max         5.000000    1.374451e+09    7136.000000      6517.000000   \n",
       "\n",
       "         annual_HVAR  book_num_reviews       std_HVAR  top_quartile_HVAR  \n",
       "count  360680.000000     313656.000000  313656.000000      313656.000000  \n",
       "mean        1.603826         75.411846       3.556318           1.539988  \n",
       "std         6.830568        195.637539      10.580872           1.877889  \n",
       "min         0.000000          4.000000       0.000186           0.000000  \n",
       "25%         0.292468          9.000000       0.722466           0.692892  \n",
       "50%         0.661232         22.000000       1.554675           1.042659  \n",
       "75%         1.385725         58.000000       3.454750           1.778518  \n",
       "max      2088.724940       2472.000000     378.643335         113.758186  "
      ]
     },
     "execution_count": 12,
     "metadata": {},
     "output_type": "execute_result"
    }
   ],
   "source": [
    "df.describe()"
   ]
  },
  {
   "cell_type": "code",
   "execution_count": 11,
   "metadata": {},
   "outputs": [
    {
     "name": "stdout",
     "output_type": "stream",
     "text": [
      "47024 reviews in the test set get dropped for books having inadequate review counts/variance\n"
     ]
    }
   ],
   "source": [
    "print(f\"{df.book_num_reviews.isna().sum()} reviews in the test set get dropped for books having inadequate review counts/variance\")"
   ]
  },
  {
   "cell_type": "code",
   "execution_count": 12,
   "metadata": {},
   "outputs": [
    {
     "name": "stdout",
     "output_type": "stream",
     "text": [
      "After removing off-limits books we have 313656 test reviews\n"
     ]
    }
   ],
   "source": [
    "# We drop these here\n",
    "df = df[df.book_num_reviews.notna()]\n",
    "print(f\"After removing off-limits books we have {df.shape[0]} test reviews\")"
   ]
  },
  {
   "cell_type": "code",
   "execution_count": 17,
   "metadata": {},
   "outputs": [],
   "source": [
    "# Gather and pickle hvar lists per book\n",
    "\n",
    "#test_hvar_list = pd.DataFrame(df.groupby('asin')['annual_HVAR'].apply(list))"
   ]
  },
  {
   "cell_type": "code",
   "execution_count": 14,
   "metadata": {},
   "outputs": [],
   "source": [
    "#test_hvar_list.head()"
   ]
  },
  {
   "cell_type": "code",
   "execution_count": 20,
   "metadata": {},
   "outputs": [],
   "source": [
    "#test_hvar_list.to_pickle('test_hvar_list.pkl')"
   ]
  },
  {
   "cell_type": "code",
   "execution_count": 13,
   "metadata": {},
   "outputs": [],
   "source": [
    "# Retain the most_helpful column for easy model comparisons using the same data set\n",
    "\n",
    "# And now we label the reviews that are in the top quartile as 'most_helpful' = 1 (otherwise 0)\n",
    "df['most_helpful'] = df.apply(lambda x: int(x.annual_HVAR > x.top_quartile_HVAR),axis = 1)"
   ]
  },
  {
   "cell_type": "code",
   "execution_count": 14,
   "metadata": {},
   "outputs": [],
   "source": [
    "# Load global per-book min-max values\n",
    "import pickle\n",
    "\n",
    "global_min_max_pkl = open('global_min_max.pkl','rb')\n",
    "global_min_max = pickle.load(global_min_max_pkl)\n",
    "global_min_max_pkl.close()"
   ]
  },
  {
   "cell_type": "code",
   "execution_count": 15,
   "metadata": {},
   "outputs": [],
   "source": [
    "# Join on asin\n",
    "df = df.join(global_min_max, on='asin')"
   ]
  },
  {
   "cell_type": "code",
   "execution_count": 16,
   "metadata": {},
   "outputs": [
    {
     "data": {
      "text/plain": [
       "0"
      ]
     },
     "execution_count": 16,
     "metadata": {},
     "output_type": "execute_result"
    }
   ],
   "source": [
    "# check for missing min_max values after the join\n",
    "df.min_max.isnull().sum()"
   ]
  },
  {
   "cell_type": "code",
   "execution_count": 90,
   "metadata": {},
   "outputs": [
    {
     "data": {
      "text/html": [
       "<div>\n",
       "<style scoped>\n",
       "    .dataframe tbody tr th:only-of-type {\n",
       "        vertical-align: middle;\n",
       "    }\n",
       "\n",
       "    .dataframe tbody tr th {\n",
       "        vertical-align: top;\n",
       "    }\n",
       "\n",
       "    .dataframe thead th {\n",
       "        text-align: right;\n",
       "    }\n",
       "</style>\n",
       "<table border=\"1\" class=\"dataframe\">\n",
       "  <thead>\n",
       "    <tr style=\"text-align: right;\">\n",
       "      <th></th>\n",
       "      <th>asin</th>\n",
       "      <th>overall</th>\n",
       "      <th>reviewText</th>\n",
       "      <th>reviewTime</th>\n",
       "      <th>reviewerID</th>\n",
       "      <th>reviewerName</th>\n",
       "      <th>summary</th>\n",
       "      <th>unixReviewTime</th>\n",
       "      <th>helpful_votes</th>\n",
       "      <th>review_age_days</th>\n",
       "      <th>annual_HVAR</th>\n",
       "      <th>book_num_reviews</th>\n",
       "      <th>std_HVAR</th>\n",
       "      <th>top_quartile_HVAR</th>\n",
       "      <th>most_helpful</th>\n",
       "      <th>group_z</th>\n",
       "      <th>min_max</th>\n",
       "      <th>mean_sd</th>\n",
       "    </tr>\n",
       "  </thead>\n",
       "  <tbody>\n",
       "    <tr>\n",
       "      <th>0</th>\n",
       "      <td>000100039X</td>\n",
       "      <td>5</td>\n",
       "      <td>Anything I've read by Gibran is, in my mind, flawless. This, the most famous of his works, is no exception. It is simple, yet deep; honest and profound; moving and inspirational. Gibran's work is one of a kind, and can be far more encouraging and moving than any self-help program or therapy or anything like that. The poetic style, the aphorisms, the parables, the almost biblical feel, are all just what over-worked, over-stressed, modern and spiritually starved worldly people need.</td>\n",
       "      <td>2005-11-16</td>\n",
       "      <td>A2X4HE21JTAL98</td>\n",
       "      <td>Antiquarian</td>\n",
       "      <td>Flawless</td>\n",
       "      <td>1132099200</td>\n",
       "      <td>3</td>\n",
       "      <td>3171</td>\n",
       "      <td>0.345317</td>\n",
       "      <td>86.0</td>\n",
       "      <td>2.930287</td>\n",
       "      <td>0.842702</td>\n",
       "      <td>0</td>\n",
       "      <td>-0.082556</td>\n",
       "      <td>(0.0, 24.302026375040207)</td>\n",
       "      <td>(1.0470776160076654, 2.7821006685613363)</td>\n",
       "    </tr>\n",
       "    <tr>\n",
       "      <th>1</th>\n",
       "      <td>000100039X</td>\n",
       "      <td>5</td>\n",
       "      <td>It's a thin book which has deep thoughts about topics like love, generosity, death, prayer, etc. It can be read again and again because it is thin while at the sametime it contains so many words of wisdon.</td>\n",
       "      <td>2004-10-03</td>\n",
       "      <td>A3L6UC8985ORUY</td>\n",
       "      <td>Ayesha Riaz \"ashriaz\"</td>\n",
       "      <td>Loved it</td>\n",
       "      <td>1096761600</td>\n",
       "      <td>1</td>\n",
       "      <td>3580</td>\n",
       "      <td>0.101955</td>\n",
       "      <td>86.0</td>\n",
       "      <td>2.930287</td>\n",
       "      <td>0.842702</td>\n",
       "      <td>0</td>\n",
       "      <td>-1.240527</td>\n",
       "      <td>(0.0, 24.302026375040207)</td>\n",
       "      <td>(1.0470776160076654, 2.7821006685613363)</td>\n",
       "    </tr>\n",
       "    <tr>\n",
       "      <th>2</th>\n",
       "      <td>000100039X</td>\n",
       "      <td>5</td>\n",
       "      <td>A decade past, I knew very little about the writer/artist/poet/prophet, Kahlil Gibran. I am happy to say, that today, I am well acquainted with his work. The Prophet was the first book I read written by Gibran, and ever since that first reading I have immersed myself in his extraordinarily consummate skill of exquisitely crafted words. To say the Prophet or any other writings by Kahlil Gibran is simply fine literature is to say the mysterious of the soul are mediocre. I recommend that if you...</td>\n",
       "      <td>2012-02-08</td>\n",
       "      <td>A1JP8MMNY1EACY</td>\n",
       "      <td>Christopher Covert \"Author of Hands On Fire\"</td>\n",
       "      <td>Remarkable!</td>\n",
       "      <td>1328659200</td>\n",
       "      <td>1</td>\n",
       "      <td>896</td>\n",
       "      <td>0.407366</td>\n",
       "      <td>86.0</td>\n",
       "      <td>2.930287</td>\n",
       "      <td>0.842702</td>\n",
       "      <td>0</td>\n",
       "      <td>0.212688</td>\n",
       "      <td>(0.0, 24.302026375040207)</td>\n",
       "      <td>(1.0470776160076654, 2.7821006685613363)</td>\n",
       "    </tr>\n",
       "    <tr>\n",
       "      <th>3</th>\n",
       "      <td>000100039X</td>\n",
       "      <td>5</td>\n",
       "      <td>I was given this book as a high school graduation gift and I have found it to be the book I look to in hard times as well as good times, for advise, inspiration, hope and words of wisdom.  I highly recommend it.</td>\n",
       "      <td>2003-06-02</td>\n",
       "      <td>A31WDOV3Q22ANV</td>\n",
       "      <td>J. Eure</td>\n",
       "      <td>Inspiring - full of hope, love and beautiful prose</td>\n",
       "      <td>1054512000</td>\n",
       "      <td>3</td>\n",
       "      <td>4069</td>\n",
       "      <td>0.269108</td>\n",
       "      <td>86.0</td>\n",
       "      <td>2.930287</td>\n",
       "      <td>0.842702</td>\n",
       "      <td>0</td>\n",
       "      <td>-0.445176</td>\n",
       "      <td>(0.0, 24.302026375040207)</td>\n",
       "      <td>(1.0470776160076654, 2.7821006685613363)</td>\n",
       "    </tr>\n",
       "    <tr>\n",
       "      <th>4</th>\n",
       "      <td>000100039X</td>\n",
       "      <td>5</td>\n",
       "      <td>This book was recommended to me by a friend. What he told me of it is that, just as The Art of War, this is the book from which you take out whatever you want. What you find in it depends as much on the book as it does on you. It speaks of love, life and people in the most touching way ever. I have it in my handbag at all times. When I first read it, I cried. There is literally something mystical about it. I like to think I took a lot out of it. One of those books you should read again and a...</td>\n",
       "      <td>2005-02-03</td>\n",
       "      <td>ABFOAYZA2UHD3</td>\n",
       "      <td>J. Malnar</td>\n",
       "      <td>I cried reading this book</td>\n",
       "      <td>1107388800</td>\n",
       "      <td>3</td>\n",
       "      <td>3457</td>\n",
       "      <td>0.316749</td>\n",
       "      <td>86.0</td>\n",
       "      <td>2.930287</td>\n",
       "      <td>0.842702</td>\n",
       "      <td>0</td>\n",
       "      <td>-0.218490</td>\n",
       "      <td>(0.0, 24.302026375040207)</td>\n",
       "      <td>(1.0470776160076654, 2.7821006685613363)</td>\n",
       "    </tr>\n",
       "  </tbody>\n",
       "</table>\n",
       "</div>"
      ],
      "text/plain": [
       "         asin  overall  \\\n",
       "0  000100039X        5   \n",
       "1  000100039X        5   \n",
       "2  000100039X        5   \n",
       "3  000100039X        5   \n",
       "4  000100039X        5   \n",
       "\n",
       "                                                                                                                                                                                                                                                                                                                                                                                                                                                                                                            reviewText  \\\n",
       "0                Anything I've read by Gibran is, in my mind, flawless. This, the most famous of his works, is no exception. It is simple, yet deep; honest and profound; moving and inspirational. Gibran's work is one of a kind, and can be far more encouraging and moving than any self-help program or therapy or anything like that. The poetic style, the aphorisms, the parables, the almost biblical feel, are all just what over-worked, over-stressed, modern and spiritually starved worldly people need.   \n",
       "1                                                                                                                                                                                                                                                                                                        It's a thin book which has deep thoughts about topics like love, generosity, death, prayer, etc. It can be read again and again because it is thin while at the sametime it contains so many words of wisdon.   \n",
       "2  A decade past, I knew very little about the writer/artist/poet/prophet, Kahlil Gibran. I am happy to say, that today, I am well acquainted with his work. The Prophet was the first book I read written by Gibran, and ever since that first reading I have immersed myself in his extraordinarily consummate skill of exquisitely crafted words. To say the Prophet or any other writings by Kahlil Gibran is simply fine literature is to say the mysterious of the soul are mediocre. I recommend that if you...   \n",
       "3                                                                                                                                                                                                                                                                                                  I was given this book as a high school graduation gift and I have found it to be the book I look to in hard times as well as good times, for advise, inspiration, hope and words of wisdom.  I highly recommend it.   \n",
       "4  This book was recommended to me by a friend. What he told me of it is that, just as The Art of War, this is the book from which you take out whatever you want. What you find in it depends as much on the book as it does on you. It speaks of love, life and people in the most touching way ever. I have it in my handbag at all times. When I first read it, I cried. There is literally something mystical about it. I like to think I took a lot out of it. One of those books you should read again and a...   \n",
       "\n",
       "  reviewTime      reviewerID                                  reviewerName  \\\n",
       "0 2005-11-16  A2X4HE21JTAL98                                   Antiquarian   \n",
       "1 2004-10-03  A3L6UC8985ORUY                         Ayesha Riaz \"ashriaz\"   \n",
       "2 2012-02-08  A1JP8MMNY1EACY  Christopher Covert \"Author of Hands On Fire\"   \n",
       "3 2003-06-02  A31WDOV3Q22ANV                                       J. Eure   \n",
       "4 2005-02-03   ABFOAYZA2UHD3                                     J. Malnar   \n",
       "\n",
       "                                              summary  unixReviewTime  \\\n",
       "0                                            Flawless      1132099200   \n",
       "1                                            Loved it      1096761600   \n",
       "2                                         Remarkable!      1328659200   \n",
       "3  Inspiring - full of hope, love and beautiful prose      1054512000   \n",
       "4                           I cried reading this book      1107388800   \n",
       "\n",
       "   helpful_votes  review_age_days  annual_HVAR  book_num_reviews  std_HVAR  \\\n",
       "0              3             3171     0.345317              86.0  2.930287   \n",
       "1              1             3580     0.101955              86.0  2.930287   \n",
       "2              1              896     0.407366              86.0  2.930287   \n",
       "3              3             4069     0.269108              86.0  2.930287   \n",
       "4              3             3457     0.316749              86.0  2.930287   \n",
       "\n",
       "   top_quartile_HVAR  most_helpful   group_z                    min_max  \\\n",
       "0           0.842702             0 -0.082556  (0.0, 24.302026375040207)   \n",
       "1           0.842702             0 -1.240527  (0.0, 24.302026375040207)   \n",
       "2           0.842702             0  0.212688  (0.0, 24.302026375040207)   \n",
       "3           0.842702             0 -0.445176  (0.0, 24.302026375040207)   \n",
       "4           0.842702             0 -0.218490  (0.0, 24.302026375040207)   \n",
       "\n",
       "                                    mean_sd  \n",
       "0  (1.0470776160076654, 2.7821006685613363)  \n",
       "1  (1.0470776160076654, 2.7821006685613363)  \n",
       "2  (1.0470776160076654, 2.7821006685613363)  \n",
       "3  (1.0470776160076654, 2.7821006685613363)  \n",
       "4  (1.0470776160076654, 2.7821006685613363)  "
      ]
     },
     "execution_count": 90,
     "metadata": {},
     "output_type": "execute_result"
    }
   ],
   "source": [
    "df.head()"
   ]
  },
  {
   "cell_type": "code",
   "execution_count": 17,
   "metadata": {},
   "outputs": [],
   "source": [
    "# label by within-book z-score normalization (standardization)\n",
    "\n",
    "#def z_calc(x):\n",
    "    #return (x - np.mean(x))/np.std(x, ddof=0)\n",
    "    \n",
    "def z_calc(row):\n",
    "    x = row['annual_HVAR']\n",
    "    mean = row['mean_sd'][0]\n",
    "    std = row['mean_sd'][1]\n",
    "    normalized = (x - mean)/std\n",
    "    return normalized"
   ]
  },
  {
   "cell_type": "code",
   "execution_count": 18,
   "metadata": {},
   "outputs": [],
   "source": [
    "df['group_z'] = df[['annual_HVAR','mean_sd']].apply(z_calc, axis=1)"
   ]
  },
  {
   "cell_type": "code",
   "execution_count": 19,
   "metadata": {},
   "outputs": [
    {
     "data": {
      "text/plain": [
       "(array([], dtype=int64),)"
      ]
     },
     "execution_count": 19,
     "metadata": {},
     "output_type": "execute_result"
    }
   ],
   "source": [
    "np.where(np.isnan(df['group_z']))"
   ]
  },
  {
   "cell_type": "code",
   "execution_count": 20,
   "metadata": {},
   "outputs": [],
   "source": [
    "# Use kmeans clustering to bucket scaled values\n",
    "from sklearn.preprocessing import KBinsDiscretizer\n",
    "\n",
    "est2 = KBinsDiscretizer(n_bins=2, encode='ordinal', strategy='kmeans')"
   ]
  },
  {
   "cell_type": "code",
   "execution_count": 21,
   "metadata": {},
   "outputs": [
    {
     "name": "stdout",
     "output_type": "stream",
     "text": [
      "z-score normalization labeling task complete\n"
     ]
    }
   ],
   "source": [
    "df['group_z_class'] = est2.fit_transform(df[['group_z']])\n",
    "\n",
    "print('z-score normalization labeling task complete')"
   ]
  },
  {
   "cell_type": "code",
   "execution_count": 22,
   "metadata": {},
   "outputs": [
    {
     "data": {
      "text/plain": [
       "0.0    281075\n",
       "1.0     32581\n",
       "Name: group_z_class, dtype: int64"
      ]
     },
     "execution_count": 22,
     "metadata": {},
     "output_type": "execute_result"
    }
   ],
   "source": [
    "df['group_z_class'].value_counts()"
   ]
  },
  {
   "cell_type": "code",
   "execution_count": 23,
   "metadata": {},
   "outputs": [
    {
     "data": {
      "text/plain": [
       "0    226650\n",
       "1     87006\n",
       "Name: most_helpful, dtype: int64"
      ]
     },
     "execution_count": 23,
     "metadata": {},
     "output_type": "execute_result"
    }
   ],
   "source": [
    "df['most_helpful'].value_counts()"
   ]
  },
  {
   "cell_type": "code",
   "execution_count": 25,
   "metadata": {},
   "outputs": [
    {
     "name": "stdout",
     "output_type": "stream",
     "text": [
      "There are 313656 reviews in our test split\n",
      "32581.0 are labeled 1\n",
      "10.39% of reviews in the test set carry the most_helpful label of 1\n"
     ]
    }
   ],
   "source": [
    "print(f\"There are {df.shape[0]} reviews in our test split\")\n",
    "print(\"{} are labeled 1\".format(df.group_z_class.sum()))\n",
    "print(f\"{df.group_z_class.sum()/df.shape[0]:.2%} of reviews in the test set carry the most_helpful label of 1\")"
   ]
  },
  {
   "cell_type": "code",
   "execution_count": 1,
   "metadata": {},
   "outputs": [
    {
     "data": {
      "text/plain": [
       "'C:\\\\Users\\\\Brad\\\\Desktop\\\\Keras - GPU'"
      ]
     },
     "execution_count": 1,
     "metadata": {},
     "output_type": "execute_result"
    }
   ],
   "source": [
    "import os\n",
    "os.getcwd()"
   ]
  },
  {
   "cell_type": "code",
   "execution_count": 19,
   "metadata": {},
   "outputs": [],
   "source": [
    "# Write it out to a file\n",
    "df.to_csv('w266_proj/data/labeled_test_set_clust.csv',index=False)"
   ]
  },
  {
   "cell_type": "code",
   "execution_count": 20,
   "metadata": {},
   "outputs": [
    {
     "name": "stdout",
     "output_type": "stream",
     "text": [
      "/home/jend/fp/RealRelevantReviews\n"
     ]
    }
   ],
   "source": [
    "!pwd"
   ]
  }
 ],
 "metadata": {
  "kernelspec": {
   "display_name": "Python 3",
   "language": "python",
   "name": "python3"
  },
  "language_info": {
   "codemirror_mode": {
    "name": "ipython",
    "version": 3
   },
   "file_extension": ".py",
   "mimetype": "text/x-python",
   "name": "python",
   "nbconvert_exporter": "python",
   "pygments_lexer": "ipython3",
   "version": "3.7.1"
  }
 },
 "nbformat": 4,
 "nbformat_minor": 2
}
