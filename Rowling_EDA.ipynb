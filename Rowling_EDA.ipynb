{
 "cells": [
  {
   "cell_type": "code",
   "execution_count": 1,
   "metadata": {},
   "outputs": [],
   "source": [
    "import json\n",
    "import matplotlib.pyplot as plt\n",
    "import numpy as np\n",
    "import pandas as pd\n",
    "import datetime\n",
    "\n",
    "\n",
    "pd.set_option('max_colwidth', 140)"
   ]
  },
  {
   "cell_type": "code",
   "execution_count": 2,
   "metadata": {},
   "outputs": [
    {
     "name": "stdout",
     "output_type": "stream",
     "text": [
      "{\"reviewerID\": \"A2KPBO9MLTTOZZ\", \"asin\": \"0002226618\", \"reviewerName\": \"Jens Guld\", \"helpful\": [1, 1], \"reviewText\": \"There aren't many public school novels being written and read these days. Rowling's Potter series is an exception (and in my opinion they are not all that good). However if you are old enough to have read Tom Brown's Schooldays then the Flaashman series may be of interest. If you have enjoyed Kipling's Indian stories then Flashman is also worth a try.\", \"overall\": 5.0, \"summary\": \"For kiplomaniacs\", \"unixReviewTime\": 1340496000, \"reviewTime\": \"06 24, 2012\"}\n"
     ]
    }
   ],
   "source": [
    "!head -1 rowling.json"
   ]
  },
  {
   "cell_type": "code",
   "execution_count": 105,
   "metadata": {},
   "outputs": [],
   "source": [
    "# load up the data\n",
    "df = pd.read_json('rowling.json',lines=True)"
   ]
  },
  {
   "cell_type": "code",
   "execution_count": 106,
   "metadata": {},
   "outputs": [],
   "source": [
    "df['helpful_votes'] = df.apply(lambda x: x.helpful[0],axis=1)\n",
    "df['unhelpful_votes'] = df.apply(lambda x: x.helpful[1],axis=1)\n",
    "df.reviewTime = pd.to_datetime(df.reviewTime,infer_datetime_format=True)\n",
    "df.sort_values(by=['reviewTime'],inplace=True,ascending=True)\n",
    "last_rvw = df.reviewTime.max()\n",
    "df['review_age_days'] = df.apply(lambda x: (last_rvw - x.reviewTime).days,axis = 1)\n"
   ]
  },
  {
   "cell_type": "code",
   "execution_count": 88,
   "metadata": {},
   "outputs": [],
   "source": [
    "# df.asin.value_counts()\n",
    "\n",
    "# Surely some of these others are the HP books\n",
    "# 0316228532    616 Casual Vacancy pubd 9/2012\n",
    "# 0439136350    503 HP7 Deathly Hallows\n",
    "# above may ALSO have HP3 Prisoner of Azkaban??\n",
    "# 030728364X    469 HP6 Half-Blood Prince\n",
    "# 043935806X    271 HP5 Order of the Phoenix\n",
    "# 043920352X    263 HP1 Sorceror's Stone pubd 6/1997\n",
    "# 0316206849    214 The Cuckoo's Calling\n",
    "# 0439139597    192 HP4 Goblet of Fire\n",
    "# 0439064864    133 HP2 Chamber of Secrets\n",
    "# 0545128285     82 Tales of Beedle the Bard\n",
    "# 0452296293     33 (not rowling)\n"
   ]
  },
  {
   "cell_type": "code",
   "execution_count": 55,
   "metadata": {},
   "outputs": [],
   "source": [
    "cv = df[df.asin == \"0316228532\"].copy()"
   ]
  },
  {
   "cell_type": "code",
   "execution_count": 13,
   "metadata": {},
   "outputs": [],
   "source": [
    "cv['helpful_votes'] = cv.apply(lambda x: x.helpful[0],axis=1)\n",
    "cv['unhelpful_votes'] = cv.apply(lambda x: x.helpful[1],axis=1)"
   ]
  },
  {
   "cell_type": "code",
   "execution_count": 36,
   "metadata": {},
   "outputs": [],
   "source": [
    "# cv.head()"
   ]
  },
  {
   "cell_type": "code",
   "execution_count": 15,
   "metadata": {},
   "outputs": [
    {
     "data": {
      "text/plain": [
       "166"
      ]
     },
     "execution_count": 15,
     "metadata": {},
     "output_type": "execute_result"
    }
   ],
   "source": [
    "cv[cv.helpful_votes == 0].shape[0]"
   ]
  },
  {
   "cell_type": "code",
   "execution_count": 16,
   "metadata": {},
   "outputs": [
    {
     "data": {
      "text/plain": [
       "Text(0.5,1,\"JK Rowling's Casual Vacancy - published Sep 2012\")"
      ]
     },
     "execution_count": 16,
     "metadata": {},
     "output_type": "execute_result"
    },
    {
     "data": {
      "image/png": "[encoded data removed]",
      "text/plain": [
       "<Figure size 432x288 with 1 Axes>"
      ]
     },
     "metadata": {},
     "output_type": "display_data"
    }
   ],
   "source": [
    "plt.scatter(x=cv.overall,y=cv.helpful_votes)\n",
    "plt.ylabel(\"Count of helpful votes\")\n",
    "plt.xlabel(\"Rating of review\")\n",
    "plt.title(\"JK Rowling's Casual Vacancy - published Sep 2012\")"
   ]
  },
  {
   "cell_type": "markdown",
   "metadata": {},
   "source": [
    "Note strong non-linearity above; much more of a \"U\" shape"
   ]
  },
  {
   "cell_type": "code",
   "execution_count": 29,
   "metadata": {},
   "outputs": [],
   "source": [
    "a = cv.helpful_votes.quantile(np.arange(0,1,.05))"
   ]
  },
  {
   "cell_type": "code",
   "execution_count": 34,
   "metadata": {},
   "outputs": [
    {
     "data": {
      "text/plain": [
       "Text(0.5,0,'Quantile of reviews receiving that many votes - or more')"
      ]
     },
     "execution_count": 34,
     "metadata": {},
     "output_type": "execute_result"
    },
    {
     "data": {
      "image/png": "[encoded data removed]",
      "text/plain": [
       "<Figure size 432x288 with 1 Axes>"
      ]
     },
     "metadata": {},
     "output_type": "display_data"
    }
   ],
   "source": [
    "plt.scatter(x=a.index,y=a)\n",
    "plt.title(\"Quantile representation of vote counts for Casual Vacancy\")\n",
    "plt.ylabel(\"Number of helpful votes\")\n",
    "plt.xlabel(\"Quantile of reviews receiving that many votes - or more\")"
   ]
  },
  {
   "cell_type": "markdown",
   "metadata": {},
   "source": [
    "Here we find that 20% of the reviews get no helpful votes. 80% of the reviews get 4 or fewer votes. The top 10% of reviews are getting more than 7 votes."
   ]
  },
  {
   "cell_type": "code",
   "execution_count": 89,
   "metadata": {},
   "outputs": [],
   "source": [
    "# verified HP books\n",
    "# df[df.asin == \"0545128285\"].head()"
   ]
  },
  {
   "cell_type": "code",
   "execution_count": 84,
   "metadata": {},
   "outputs": [],
   "source": [
    "az = df.reviewText.str.contains('seventh', regex=False)\n",
    "print(np.sum(az),\"meet that criteria\")\n",
    "df[az == True].head()"
   ]
  },
  {
   "cell_type": "code",
   "execution_count": 90,
   "metadata": {},
   "outputs": [],
   "source": [
    "HPbooks = {6:\"030728364X\",5:\"043935806X\",1:\"043920352X\",4:\"0439139597\",2:\"0439064864\"}"
   ]
  },
  {
   "cell_type": "code",
   "execution_count": 91,
   "metadata": {},
   "outputs": [],
   "source": [
    "qts = pd.DataFrame({'x':np.arange(0,1,.05),\\\n",
    "                   'HP1':df[df.asin == \"043920352X\"].helpful_votes.quantile(np.arange(0,1,.05)),\\\n",
    "                  'HP2':df[df.asin == \"0439064864\"].helpful_votes.quantile(np.arange(0,1,.05)),\\\n",
    "                   'HP4':df[df.asin == \"0439139597\"].helpful_votes.quantile(np.arange(0,1,.05)),\\\n",
    "                   'HP5':df[df.asin == \"043935806X\"].helpful_votes.quantile(np.arange(0,1,.05)),\\\n",
    "                   'HP6':df[df.asin == \"030728364X\"].helpful_votes.quantile(np.arange(0,1,.05))})"
   ]
  },
  {
   "cell_type": "code",
   "execution_count": 104,
   "metadata": {},
   "outputs": [
    {
     "data": {
      "text/plain": [
       "Text(0.5,0,'Quantile of Reviews Having that Many Votes')"
      ]
     },
     "execution_count": 104,
     "metadata": {},
     "output_type": "execute_result"
    },
    {
     "data": {
      "image/png": "[encoded data removed]",
      "text/plain": [
       "<Figure size 432x288 with 1 Axes>"
      ]
     },
     "metadata": {},
     "output_type": "display_data"
    }
   ],
   "source": [
    "# multiple line plot\n",
    "plt.scatter( x='x', y='HP1', data=qts, color='skyblue', linewidth=1)\n",
    "plt.scatter( x='x', y='HP2', data=qts,  color='green', linewidth=1)\n",
    "plt.scatter( x='x', y='HP4', data=qts, color='red', linewidth=1)\n",
    "plt.scatter( x='x', y='HP5', data=qts, color='purple', linewidth=1)\n",
    "plt.scatter( x='x', y='HP6', data=qts, color='navy', linewidth=1)\n",
    "plt.legend()\n",
    "plt.title(\"Consistent Elbow Shape in Helpful Vote Accumulation\")\n",
    "plt.ylabel(\"Helpful Votes\")\n",
    "plt.xlabel(\"Quantile of Reviews Having that Many Votes\")\n"
   ]
  },
  {
   "cell_type": "markdown",
   "metadata": {},
   "source": [
    "There appears to be a fairly consistent 'elbow'/hinge effect at around the 75% quartile. I think it makes some sense for us to decide that a review is \"helpful\" if it falls in that book's top quartile, and \"unhelpful\" if it falls in that book's bottom quartile. Everything in between we might treat as noise ... or could possibly boost a mediocre review slightly in our display if sentences match the query (and more helpful reviews have no similar content)."
   ]
  },
  {
   "cell_type": "code",
   "execution_count": 107,
   "metadata": {},
   "outputs": [],
   "source": [
    "hp = df[(df.asin == \"043920352X\") | (df.asin == \"0439064864\") | \\\n",
    "        (df.asin == \"0439136350\") | (df.asin == \"0439139597\") | \\\n",
    "        (df.asin == \"043935806X\") | (df.asin == \"030728364X\")].copy()"
   ]
  },
  {
   "cell_type": "code",
   "execution_count": 109,
   "metadata": {},
   "outputs": [
    {
     "data": {
      "text/html": [
       "<div>\n",
       "<style scoped>\n",
       "    .dataframe tbody tr th:only-of-type {\n",
       "        vertical-align: middle;\n",
       "    }\n",
       "\n",
       "    .dataframe tbody tr th {\n",
       "        vertical-align: top;\n",
       "    }\n",
       "\n",
       "    .dataframe thead th {\n",
       "        text-align: right;\n",
       "    }\n",
       "</style>\n",
       "<table border=\"1\" class=\"dataframe\">\n",
       "  <thead>\n",
       "    <tr style=\"text-align: right;\">\n",
       "      <th></th>\n",
       "      <th>asin</th>\n",
       "      <th>helpful</th>\n",
       "      <th>overall</th>\n",
       "      <th>reviewText</th>\n",
       "      <th>reviewTime</th>\n",
       "      <th>reviewerID</th>\n",
       "      <th>reviewerName</th>\n",
       "      <th>summary</th>\n",
       "      <th>unixReviewTime</th>\n",
       "      <th>helpful_votes</th>\n",
       "      <th>unhelpful_votes</th>\n",
       "      <th>review_age_days</th>\n",
       "    </tr>\n",
       "  </thead>\n",
       "  <tbody>\n",
       "    <tr>\n",
       "      <th>1452</th>\n",
       "      <td>043920352X</td>\n",
       "      <td>[0, 1]</td>\n",
       "      <td>5</td>\n",
       "      <td>As a librarian, I look for books to entice my students.  This is one of the best I have found.  I began reading this to a group of 6th g...</td>\n",
       "      <td>1999-04-08</td>\n",
       "      <td>A3QYW1CL3A9L5P</td>\n",
       "      <td>Karen Kirsch \"blazerlib\"</td>\n",
       "      <td>A must for my media center</td>\n",
       "      <td>923529600</td>\n",
       "      <td>0</td>\n",
       "      <td>1</td>\n",
       "      <td>5579</td>\n",
       "    </tr>\n",
       "    <tr>\n",
       "      <th>2936</th>\n",
       "      <td>043920352X</td>\n",
       "      <td>[1, 1]</td>\n",
       "      <td>4</td>\n",
       "      <td>Magic, children who are magic belatedly being discovered, alternate worlds, worlds coexisting within others, enchanted beings, weirdly f...</td>\n",
       "      <td>1999-06-23</td>\n",
       "      <td>A1LXLB93XP9WWB</td>\n",
       "      <td>A Reader</td>\n",
       "      <td>Entertaining, especially for those with short memories</td>\n",
       "      <td>930096000</td>\n",
       "      <td>1</td>\n",
       "      <td>1</td>\n",
       "      <td>5503</td>\n",
       "    </tr>\n",
       "    <tr>\n",
       "      <th>812</th>\n",
       "      <td>0439064864</td>\n",
       "      <td>[2, 2]</td>\n",
       "      <td>5</td>\n",
       "      <td>The Harry Potter books are my favorite new reading find, and I can't say enough good things about them.  This latest in the Harry Potter...</td>\n",
       "      <td>1999-08-26</td>\n",
       "      <td>A3SPVFFXG90YIG</td>\n",
       "      <td>Dean Gloster</td>\n",
       "      <td>Another great book for 6 to 60 year olds from J.K. Rowling.</td>\n",
       "      <td>935625600</td>\n",
       "      <td>2</td>\n",
       "      <td>2</td>\n",
       "      <td>5439</td>\n",
       "    </tr>\n",
       "    <tr>\n",
       "      <th>3631</th>\n",
       "      <td>0439136350</td>\n",
       "      <td>[1, 2]</td>\n",
       "      <td>3</td>\n",
       "      <td>The first two &amp;quot;Harry Potter&amp;quot; books were splendid.  They had heart, warmth and imagination to spare.  &amp;quot;Harry Potter and th...</td>\n",
       "      <td>1999-10-04</td>\n",
       "      <td>AC1K4OQOZ90RS</td>\n",
       "      <td>E. Bukowsky \"booklover10\"</td>\n",
       "      <td>This book is too long, too convoluted and too dour.</td>\n",
       "      <td>938995200</td>\n",
       "      <td>1</td>\n",
       "      <td>2</td>\n",
       "      <td>5400</td>\n",
       "    </tr>\n",
       "    <tr>\n",
       "      <th>1450</th>\n",
       "      <td>043920352X</td>\n",
       "      <td>[0, 1]</td>\n",
       "      <td>5</td>\n",
       "      <td>Has anyone noticed that those who review this book at three stars or less and REALLY MEAN IT cannot spell, or put a sentence together?To...</td>\n",
       "      <td>1999-10-16</td>\n",
       "      <td>A18LI12Y8C49YN</td>\n",
       "      <td>Joy McCann \"Attila Girl\"</td>\n",
       "      <td>it's really five stars</td>\n",
       "      <td>940032000</td>\n",
       "      <td>0</td>\n",
       "      <td>1</td>\n",
       "      <td>5388</td>\n",
       "    </tr>\n",
       "  </tbody>\n",
       "</table>\n",
       "</div>"
      ],
      "text/plain": [
       "            asin helpful  overall  \\\n",
       "1452  043920352X  [0, 1]        5   \n",
       "2936  043920352X  [1, 1]        4   \n",
       "812   0439064864  [2, 2]        5   \n",
       "3631  0439136350  [1, 2]        3   \n",
       "1450  043920352X  [0, 1]        5   \n",
       "\n",
       "                                                                                                                                       reviewText  \\\n",
       "1452  As a librarian, I look for books to entice my students.  This is one of the best I have found.  I began reading this to a group of 6th g...   \n",
       "2936  Magic, children who are magic belatedly being discovered, alternate worlds, worlds coexisting within others, enchanted beings, weirdly f...   \n",
       "812   The Harry Potter books are my favorite new reading find, and I can't say enough good things about them.  This latest in the Harry Potter...   \n",
       "3631  The first two &quot;Harry Potter&quot; books were splendid.  They had heart, warmth and imagination to spare.  &quot;Harry Potter and th...   \n",
       "1450  Has anyone noticed that those who review this book at three stars or less and REALLY MEAN IT cannot spell, or put a sentence together?To...   \n",
       "\n",
       "     reviewTime      reviewerID               reviewerName  \\\n",
       "1452 1999-04-08  A3QYW1CL3A9L5P   Karen Kirsch \"blazerlib\"   \n",
       "2936 1999-06-23  A1LXLB93XP9WWB                   A Reader   \n",
       "812  1999-08-26  A3SPVFFXG90YIG               Dean Gloster   \n",
       "3631 1999-10-04   AC1K4OQOZ90RS  E. Bukowsky \"booklover10\"   \n",
       "1450 1999-10-16  A18LI12Y8C49YN   Joy McCann \"Attila Girl\"   \n",
       "\n",
       "                                                          summary  \\\n",
       "1452                                   A must for my media center   \n",
       "2936       Entertaining, especially for those with short memories   \n",
       "812   Another great book for 6 to 60 year olds from J.K. Rowling.   \n",
       "3631          This book is too long, too convoluted and too dour.   \n",
       "1450                                       it's really five stars   \n",
       "\n",
       "      unixReviewTime  helpful_votes  unhelpful_votes  review_age_days  \n",
       "1452       923529600              0                1             5579  \n",
       "2936       930096000              1                1             5503  \n",
       "812        935625600              2                2             5439  \n",
       "3631       938995200              1                2             5400  \n",
       "1450       940032000              0                1             5388  "
      ]
     },
     "execution_count": 109,
     "metadata": {},
     "output_type": "execute_result"
    }
   ],
   "source": [
    "hp.head()"
   ]
  },
  {
   "cell_type": "code",
   "execution_count": 110,
   "metadata": {},
   "outputs": [
    {
     "data": {
      "text/plain": [
       "Text(0.5,1,'Harry Potter Series')"
      ]
     },
     "execution_count": 110,
     "metadata": {},
     "output_type": "execute_result"
    },
    {
     "data": {
      "image/png": "[encoded data removed]",
      "text/plain": [
       "<Figure size 432x288 with 1 Axes>"
      ]
     },
     "metadata": {},
     "output_type": "display_data"
    }
   ],
   "source": [
    "plt.scatter(x=hp.overall,y=hp.helpful_votes)\n",
    "plt.ylabel(\"Count of helpful votes\")\n",
    "plt.xlabel(\"Rating of review\")\n",
    "plt.title(\"Harry Potter Series\")"
   ]
  },
  {
   "cell_type": "markdown",
   "metadata": {},
   "source": [
    "Not a \"U\" shape this time, but certainly not a linear relationship between book stars and helpful votes"
   ]
  },
  {
   "cell_type": "code",
   "execution_count": 116,
   "metadata": {},
   "outputs": [
    {
     "data": {
      "text/plain": [
       "Text(0,0.5,'Review age in days')"
      ]
     },
     "execution_count": 116,
     "metadata": {},
     "output_type": "execute_result"
    },
    {
     "data": {
      "image/png": "[encoded data removed]",
      "text/plain": [
       "<Figure size 432x288 with 1 Axes>"
      ]
     },
     "metadata": {},
     "output_type": "display_data"
    }
   ],
   "source": [
    "plt.scatter(x = np.arange(0,1,.05), y = df.review_age_days.quantile(np.arange(0,1,.05)))\n",
    "plt.title(\"Age of the Rowling dataset's reviews\")\n",
    "plt.xlabel(\"Quantile of reviews of that age\")\n",
    "plt.ylabel(\"Review age in days\")"
   ]
  },
  {
   "cell_type": "code",
   "execution_count": 114,
   "metadata": {},
   "outputs": [
    {
     "data": {
      "text/html": [
       "<div>\n",
       "<style scoped>\n",
       "    .dataframe tbody tr th:only-of-type {\n",
       "        vertical-align: middle;\n",
       "    }\n",
       "\n",
       "    .dataframe tbody tr th {\n",
       "        vertical-align: top;\n",
       "    }\n",
       "\n",
       "    .dataframe thead th {\n",
       "        text-align: right;\n",
       "    }\n",
       "</style>\n",
       "<table border=\"1\" class=\"dataframe\">\n",
       "  <thead>\n",
       "    <tr style=\"text-align: right;\">\n",
       "      <th></th>\n",
       "      <th>asin</th>\n",
       "      <th>helpful</th>\n",
       "      <th>overall</th>\n",
       "      <th>reviewText</th>\n",
       "      <th>reviewTime</th>\n",
       "      <th>reviewerID</th>\n",
       "      <th>reviewerName</th>\n",
       "      <th>summary</th>\n",
       "      <th>unixReviewTime</th>\n",
       "      <th>helpful_votes</th>\n",
       "      <th>unhelpful_votes</th>\n",
       "      <th>review_age_days</th>\n",
       "    </tr>\n",
       "  </thead>\n",
       "  <tbody>\n",
       "    <tr>\n",
       "      <th>2081</th>\n",
       "      <td>140870403X</td>\n",
       "      <td>[0, 1]</td>\n",
       "      <td>5</td>\n",
       "      <td>I loved this book better than the cuckoos calling! I have read all of Rowlings books and she is a genius!! I could not put this down!!</td>\n",
       "      <td>2014-07-17</td>\n",
       "      <td>A3KKCW9K7PGFE4</td>\n",
       "      <td>Ellen Mcavoy</td>\n",
       "      <td>J K Rowling Strikes again!!</td>\n",
       "      <td>1405555200</td>\n",
       "      <td>0</td>\n",
       "      <td>1</td>\n",
       "      <td>0</td>\n",
       "    </tr>\n",
       "    <tr>\n",
       "      <th>2082</th>\n",
       "      <td>140870403X</td>\n",
       "      <td>[0, 1]</td>\n",
       "      <td>5</td>\n",
       "      <td>Grisly, intricately-woven, but definitely hard to put down, this second installment of Cormoran Strike seems destined for a film appeara...</td>\n",
       "      <td>2014-07-17</td>\n",
       "      <td>A27BJ412MWLRO3</td>\n",
       "      <td>George Briggs \"high school teacher\"</td>\n",
       "      <td>Another Cormoran Strike Thriller</td>\n",
       "      <td>1405555200</td>\n",
       "      <td>0</td>\n",
       "      <td>1</td>\n",
       "      <td>0</td>\n",
       "    </tr>\n",
       "  </tbody>\n",
       "</table>\n",
       "</div>"
      ],
      "text/plain": [
       "            asin helpful  overall  \\\n",
       "2081  140870403X  [0, 1]        5   \n",
       "2082  140870403X  [0, 1]        5   \n",
       "\n",
       "                                                                                                                                       reviewText  \\\n",
       "2081       I loved this book better than the cuckoos calling! I have read all of Rowlings books and she is a genius!! I could not put this down!!   \n",
       "2082  Grisly, intricately-woven, but definitely hard to put down, this second installment of Cormoran Strike seems destined for a film appeara...   \n",
       "\n",
       "     reviewTime      reviewerID                         reviewerName  \\\n",
       "2081 2014-07-17  A3KKCW9K7PGFE4                         Ellen Mcavoy   \n",
       "2082 2014-07-17  A27BJ412MWLRO3  George Briggs \"high school teacher\"   \n",
       "\n",
       "                               summary  unixReviewTime  helpful_votes  \\\n",
       "2081       J K Rowling Strikes again!!      1405555200              0   \n",
       "2082  Another Cormoran Strike Thriller      1405555200              0   \n",
       "\n",
       "      unhelpful_votes  review_age_days  \n",
       "2081                1                0  \n",
       "2082                1                0  "
      ]
     },
     "execution_count": 114,
     "metadata": {},
     "output_type": "execute_result"
    }
   ],
   "source": [
    "df[df.review_age_days == 0]"
   ]
  },
  {
   "cell_type": "code",
   "execution_count": 115,
   "metadata": {},
   "outputs": [],
   "source": [
    "df = df[df.review_age_days != 0]"
   ]
  },
  {
   "cell_type": "code",
   "execution_count": 120,
   "metadata": {},
   "outputs": [],
   "source": [
    "# Define HVAR helpful vote arrival rate in YEARLY terms\n",
    "df['HVAR'] = df.apply(lambda x: 365*x.helpful_votes/x.review_age_days,axis = 1)\n"
   ]
  },
  {
   "cell_type": "code",
   "execution_count": 121,
   "metadata": {},
   "outputs": [
    {
     "data": {
      "text/plain": [
       "0.00    0.000000\n",
       "0.05    0.000000\n",
       "0.10    0.000000\n",
       "0.15    0.080330\n",
       "0.20    0.112135\n",
       "0.25    0.153008\n",
       "0.30    0.215064\n",
       "0.35    0.277831\n",
       "0.40    0.335324\n",
       "0.45    0.427400\n",
       "0.50    0.527380\n",
       "0.55    0.610368\n",
       "0.60    0.743165\n",
       "0.65    0.931122\n",
       "0.70    1.141294\n",
       "0.75    1.361290\n",
       "0.80    1.834171\n",
       "0.85    2.544009\n",
       "0.90    3.948995\n",
       "0.95    8.832788\n",
       "Name: HVAR, dtype: float64"
      ]
     },
     "execution_count": 121,
     "metadata": {},
     "output_type": "execute_result"
    }
   ],
   "source": [
    "df.HVAR.quantile(np.arange(0,1,.05))"
   ]
  },
  {
   "cell_type": "code",
   "execution_count": 122,
   "metadata": {},
   "outputs": [],
   "source": [
    "hp = hp[hp.review_age_days != 0]"
   ]
  },
  {
   "cell_type": "code",
   "execution_count": 123,
   "metadata": {},
   "outputs": [],
   "source": [
    "hp['HVAR'] = hp.apply(lambda x: 365*x.helpful_votes/x.review_age_days,axis = 1)"
   ]
  },
  {
   "cell_type": "code",
   "execution_count": 124,
   "metadata": {},
   "outputs": [
    {
     "data": {
      "text/plain": [
       "Text(0.5,1,'Harry Potter Series')"
      ]
     },
     "execution_count": 124,
     "metadata": {},
     "output_type": "execute_result"
    },
    {
     "data": {
      "image/png": "[encoded data removed]",
      "text/plain": [
       "<Figure size 432x288 with 1 Axes>"
      ]
     },
     "metadata": {},
     "output_type": "display_data"
    }
   ],
   "source": [
    "plt.scatter(x=hp.overall,y=hp.HVAR)\n",
    "plt.ylabel(\"Annual HVAR\")\n",
    "plt.xlabel(\"Rating of review\")\n",
    "plt.title(\"Harry Potter Series\")"
   ]
  },
  {
   "cell_type": "code",
   "execution_count": 125,
   "metadata": {},
   "outputs": [],
   "source": [
    "hqts = pd.DataFrame({'x':np.arange(0,1,.05),\\\n",
    "                   'HP1':hp[hp.asin == \"043920352X\"].HVAR.quantile(np.arange(0,1,.05)),\\\n",
    "                  'HP2':hp[hp.asin == \"0439064864\"].HVAR.quantile(np.arange(0,1,.05)),\\\n",
    "                   'HP4':hp[hp.asin == \"0439139597\"].HVAR.quantile(np.arange(0,1,.05)),\\\n",
    "                   'HP5':hp[hp.asin == \"043935806X\"].HVAR.quantile(np.arange(0,1,.05)),\\\n",
    "                   'HP6':hp[hp.asin == \"030728364X\"].HVAR.quantile(np.arange(0,1,.05))})"
   ]
  },
  {
   "cell_type": "code",
   "execution_count": 126,
   "metadata": {},
   "outputs": [
    {
     "data": {
      "text/plain": [
       "Text(0.5,0,'Quantile of Reviews Having these HVAR Rates')"
      ]
     },
     "execution_count": 126,
     "metadata": {},
     "output_type": "execute_result"
    },
    {
     "data": {
      "image/png": "[encoded data removed]",
      "text/plain": [
       "<Figure size 432x288 with 1 Axes>"
      ]
     },
     "metadata": {},
     "output_type": "display_data"
    }
   ],
   "source": [
    "# multiple line plot\n",
    "plt.scatter( x='x', y='HP1', data=hqts, color='skyblue', linewidth=1)\n",
    "plt.scatter( x='x', y='HP2', data=hqts,  color='green', linewidth=1)\n",
    "plt.scatter( x='x', y='HP4', data=hqts, color='red', linewidth=1)\n",
    "plt.scatter( x='x', y='HP5', data=hqts, color='purple', linewidth=1)\n",
    "plt.scatter( x='x', y='HP6', data=hqts, color='navy', linewidth=1)\n",
    "plt.legend()\n",
    "plt.title(\"What is shape of quantiles now??\")\n",
    "plt.ylabel(\"Annual HVAR\")\n",
    "plt.xlabel(\"Quantile of Reviews Having these HVAR Rates\")"
   ]
  },
  {
   "cell_type": "markdown",
   "metadata": {},
   "source": [
    "I think that's still close enough to the elbow that I'll try this with the small training set next. I could see the bend being closer to 80% now. Perhaps I'll try narrowing the dataset to books with 5 or more reviews, and we could try comparing the bottom 20% in terms of annual HVAR vs the top 20%."
   ]
  },
  {
   "cell_type": "code",
   "execution_count": null,
   "metadata": {},
   "outputs": [],
   "source": []
  }
 ],
 "metadata": {
  "kernelspec": {
   "display_name": "Python 3",
   "language": "python",
   "name": "python3"
  },
  "language_info": {
   "codemirror_mode": {
    "name": "ipython",
    "version": 3
   },
   "file_extension": ".py",
   "mimetype": "text/x-python",
   "name": "python",
   "nbconvert_exporter": "python",
   "pygments_lexer": "ipython3",
   "version": "3.6.8"
  }
 },
 "nbformat": 4,
 "nbformat_minor": 2
}
