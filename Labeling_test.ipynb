{
 "cells": [
  {
   "cell_type": "code",
   "execution_count": 2,
   "metadata": {},
   "outputs": [],
   "source": [
    "import datetime\n",
    "import json\n",
    "import matplotlib.pyplot as plt\n",
    "import numpy as np\n",
    "import pandas as pd\n",
    "pd.set_option('max_colwidth', 500)"
   ]
  },
  {
   "cell_type": "code",
   "execution_count": 3,
   "metadata": {},
   "outputs": [],
   "source": [
    "book_cutoffs = \"../booklist.csv\"\n",
    "cutoffs = pd.read_csv(book_cutoffs,index_col='asin')"
   ]
  },
  {
   "cell_type": "code",
   "execution_count": 4,
   "metadata": {},
   "outputs": [],
   "source": [
    "dataset = \"../test.json\"\n",
    "df = pd.read_json(dataset,lines=True)"
   ]
  },
  {
   "cell_type": "code",
   "execution_count": 5,
   "metadata": {},
   "outputs": [],
   "source": [
    "# Peel out count of helpful votes into its own column\n",
    "df['helpful_votes'] = df.apply(lambda x: x.helpful[0],axis=1)\n",
    "# To avoid confusion later, drop the 'helpful' column at this point\n",
    "df.drop('helpful', axis = 1, inplace=True)\n",
    "# Convert reviewTime to datetime type info we can work with\n",
    "df.reviewTime = pd.to_datetime(df.reviewTime,infer_datetime_format=True)"
   ]
  },
  {
   "cell_type": "code",
   "execution_count": 6,
   "metadata": {},
   "outputs": [
    {
     "name": "stdout",
     "output_type": "stream",
     "text": [
      "Our dataset initially contains 475978 reviews\n"
     ]
    }
   ],
   "source": [
    "print(\"Our dataset initially contains {} reviews\".format(df.shape[0]))"
   ]
  },
  {
   "cell_type": "code",
   "execution_count": 7,
   "metadata": {},
   "outputs": [
    {
     "name": "stdout",
     "output_type": "stream",
     "text": [
      "After removing reviews less than one year old, our dataset contains 360680 reviews\n"
     ]
    }
   ],
   "source": [
    "# Our dataset snapshot has as its maximum review date 2014-07-23\n",
    "snapshotted_string = \"20140723\"\n",
    "snapshotted = datetime.datetime.strptime(snapshotted_string, '%Y%m%d')\n",
    "\n",
    "# We will DROP reviews less than one year old\n",
    "# They may not have accumulated enough evidence to support being helpful or not\n",
    "ourcutoff = snapshotted - datetime.timedelta(days=365)\n",
    "df = df[df.reviewTime < ourcutoff]\n",
    "print(\"After removing reviews less than one year old, our dataset contains {} reviews\".format(df.shape[0]))"
   ]
  },
  {
   "cell_type": "code",
   "execution_count": 8,
   "metadata": {},
   "outputs": [],
   "source": [
    "# Here we store the age of each review in days\n",
    "df['review_age_days'] = df.apply(lambda x: (snapshotted - x.reviewTime).days,axis = 1)"
   ]
  },
  {
   "cell_type": "code",
   "execution_count": 9,
   "metadata": {},
   "outputs": [
    {
     "data": {
      "image/png": "[encoded data removed]",
      "text/plain": [
       "<Figure size 432x288 with 1 Axes>"
      ]
     },
     "metadata": {
      "needs_background": "light"
     },
     "output_type": "display_data"
    }
   ],
   "source": [
    "days_old_hist = plt.hist(df['review_age_days'])"
   ]
  },
  {
   "cell_type": "code",
   "execution_count": 10,
   "metadata": {},
   "outputs": [],
   "source": [
    "# We create the annual HVAR score\n",
    "df['annual_HVAR'] = df.apply(lambda x: 365*x.helpful_votes/x.review_age_days, axis = 1)"
   ]
  },
  {
   "cell_type": "code",
   "execution_count": 11,
   "metadata": {},
   "outputs": [
    {
     "data": {
      "text/html": [
       "<div>\n",
       "<style scoped>\n",
       "    .dataframe tbody tr th:only-of-type {\n",
       "        vertical-align: middle;\n",
       "    }\n",
       "\n",
       "    .dataframe tbody tr th {\n",
       "        vertical-align: top;\n",
       "    }\n",
       "\n",
       "    .dataframe thead th {\n",
       "        text-align: right;\n",
       "    }\n",
       "</style>\n",
       "<table border=\"1\" class=\"dataframe\">\n",
       "  <thead>\n",
       "    <tr style=\"text-align: right;\">\n",
       "      <th></th>\n",
       "      <th>overall</th>\n",
       "      <th>unixReviewTime</th>\n",
       "      <th>helpful_votes</th>\n",
       "      <th>review_age_days</th>\n",
       "      <th>annual_HVAR</th>\n",
       "    </tr>\n",
       "  </thead>\n",
       "  <tbody>\n",
       "    <tr>\n",
       "      <th>count</th>\n",
       "      <td>360680.000000</td>\n",
       "      <td>3.606800e+05</td>\n",
       "      <td>360680.000000</td>\n",
       "      <td>360680.000000</td>\n",
       "      <td>360680.000000</td>\n",
       "    </tr>\n",
       "    <tr>\n",
       "      <th>mean</th>\n",
       "      <td>4.069926</td>\n",
       "      <td>1.251397e+09</td>\n",
       "      <td>6.704306</td>\n",
       "      <td>1790.239168</td>\n",
       "      <td>1.603826</td>\n",
       "    </tr>\n",
       "    <tr>\n",
       "      <th>std</th>\n",
       "      <td>1.209969</td>\n",
       "      <td>1.164771e+08</td>\n",
       "      <td>27.198241</td>\n",
       "      <td>1348.114480</td>\n",
       "      <td>6.830568</td>\n",
       "    </tr>\n",
       "    <tr>\n",
       "      <th>min</th>\n",
       "      <td>1.000000</td>\n",
       "      <td>8.430048e+08</td>\n",
       "      <td>0.000000</td>\n",
       "      <td>366.000000</td>\n",
       "      <td>0.000000</td>\n",
       "    </tr>\n",
       "    <tr>\n",
       "      <th>25%</th>\n",
       "      <td>3.000000</td>\n",
       "      <td>1.178842e+09</td>\n",
       "      <td>1.000000</td>\n",
       "      <td>653.000000</td>\n",
       "      <td>0.292468</td>\n",
       "    </tr>\n",
       "    <tr>\n",
       "      <th>50%</th>\n",
       "      <td>5.000000</td>\n",
       "      <td>1.291853e+09</td>\n",
       "      <td>2.000000</td>\n",
       "      <td>1322.000000</td>\n",
       "      <td>0.661232</td>\n",
       "    </tr>\n",
       "    <tr>\n",
       "      <th>75%</th>\n",
       "      <td>5.000000</td>\n",
       "      <td>1.349654e+09</td>\n",
       "      <td>5.000000</td>\n",
       "      <td>2630.000000</td>\n",
       "      <td>1.385725</td>\n",
       "    </tr>\n",
       "    <tr>\n",
       "      <th>max</th>\n",
       "      <td>5.000000</td>\n",
       "      <td>1.374451e+09</td>\n",
       "      <td>7136.000000</td>\n",
       "      <td>6517.000000</td>\n",
       "      <td>2088.724940</td>\n",
       "    </tr>\n",
       "  </tbody>\n",
       "</table>\n",
       "</div>"
      ],
      "text/plain": [
       "             overall  unixReviewTime  helpful_votes  review_age_days  \\\n",
       "count  360680.000000    3.606800e+05  360680.000000    360680.000000   \n",
       "mean        4.069926    1.251397e+09       6.704306      1790.239168   \n",
       "std         1.209969    1.164771e+08      27.198241      1348.114480   \n",
       "min         1.000000    8.430048e+08       0.000000       366.000000   \n",
       "25%         3.000000    1.178842e+09       1.000000       653.000000   \n",
       "50%         5.000000    1.291853e+09       2.000000      1322.000000   \n",
       "75%         5.000000    1.349654e+09       5.000000      2630.000000   \n",
       "max         5.000000    1.374451e+09    7136.000000      6517.000000   \n",
       "\n",
       "         annual_HVAR  \n",
       "count  360680.000000  \n",
       "mean        1.603826  \n",
       "std         6.830568  \n",
       "min         0.000000  \n",
       "25%         0.292468  \n",
       "50%         0.661232  \n",
       "75%         1.385725  \n",
       "max      2088.724940  "
      ]
     },
     "execution_count": 11,
     "metadata": {},
     "output_type": "execute_result"
    }
   ],
   "source": [
    "df.describe()"
   ]
  },
  {
   "cell_type": "code",
   "execution_count": 12,
   "metadata": {},
   "outputs": [],
   "source": [
    "# Now we join the dev dataset and the by-book cutoff dataset\n",
    "df = df.join(cutoffs,on='asin')"
   ]
  },
  {
   "cell_type": "code",
   "execution_count": 13,
   "metadata": {},
   "outputs": [
    {
     "data": {
      "text/html": [
       "<div>\n",
       "<style scoped>\n",
       "    .dataframe tbody tr th:only-of-type {\n",
       "        vertical-align: middle;\n",
       "    }\n",
       "\n",
       "    .dataframe tbody tr th {\n",
       "        vertical-align: top;\n",
       "    }\n",
       "\n",
       "    .dataframe thead th {\n",
       "        text-align: right;\n",
       "    }\n",
       "</style>\n",
       "<table border=\"1\" class=\"dataframe\">\n",
       "  <thead>\n",
       "    <tr style=\"text-align: right;\">\n",
       "      <th></th>\n",
       "      <th>overall</th>\n",
       "      <th>unixReviewTime</th>\n",
       "      <th>helpful_votes</th>\n",
       "      <th>review_age_days</th>\n",
       "      <th>annual_HVAR</th>\n",
       "      <th>book_num_reviews</th>\n",
       "      <th>std_HVAR</th>\n",
       "      <th>top_quartile_HVAR</th>\n",
       "    </tr>\n",
       "  </thead>\n",
       "  <tbody>\n",
       "    <tr>\n",
       "      <th>count</th>\n",
       "      <td>360680.000000</td>\n",
       "      <td>3.606800e+05</td>\n",
       "      <td>360680.000000</td>\n",
       "      <td>360680.000000</td>\n",
       "      <td>360680.000000</td>\n",
       "      <td>313656.000000</td>\n",
       "      <td>313656.000000</td>\n",
       "      <td>313656.000000</td>\n",
       "    </tr>\n",
       "    <tr>\n",
       "      <th>mean</th>\n",
       "      <td>4.069926</td>\n",
       "      <td>1.251397e+09</td>\n",
       "      <td>6.704306</td>\n",
       "      <td>1790.239168</td>\n",
       "      <td>1.603826</td>\n",
       "      <td>75.411846</td>\n",
       "      <td>3.556318</td>\n",
       "      <td>1.539988</td>\n",
       "    </tr>\n",
       "    <tr>\n",
       "      <th>std</th>\n",
       "      <td>1.209969</td>\n",
       "      <td>1.164771e+08</td>\n",
       "      <td>27.198241</td>\n",
       "      <td>1348.114480</td>\n",
       "      <td>6.830568</td>\n",
       "      <td>195.637539</td>\n",
       "      <td>10.580872</td>\n",
       "      <td>1.877889</td>\n",
       "    </tr>\n",
       "    <tr>\n",
       "      <th>min</th>\n",
       "      <td>1.000000</td>\n",
       "      <td>8.430048e+08</td>\n",
       "      <td>0.000000</td>\n",
       "      <td>366.000000</td>\n",
       "      <td>0.000000</td>\n",
       "      <td>4.000000</td>\n",
       "      <td>0.000186</td>\n",
       "      <td>0.000000</td>\n",
       "    </tr>\n",
       "    <tr>\n",
       "      <th>25%</th>\n",
       "      <td>3.000000</td>\n",
       "      <td>1.178842e+09</td>\n",
       "      <td>1.000000</td>\n",
       "      <td>653.000000</td>\n",
       "      <td>0.292468</td>\n",
       "      <td>9.000000</td>\n",
       "      <td>0.722466</td>\n",
       "      <td>0.692892</td>\n",
       "    </tr>\n",
       "    <tr>\n",
       "      <th>50%</th>\n",
       "      <td>5.000000</td>\n",
       "      <td>1.291853e+09</td>\n",
       "      <td>2.000000</td>\n",
       "      <td>1322.000000</td>\n",
       "      <td>0.661232</td>\n",
       "      <td>22.000000</td>\n",
       "      <td>1.554675</td>\n",
       "      <td>1.042659</td>\n",
       "    </tr>\n",
       "    <tr>\n",
       "      <th>75%</th>\n",
       "      <td>5.000000</td>\n",
       "      <td>1.349654e+09</td>\n",
       "      <td>5.000000</td>\n",
       "      <td>2630.000000</td>\n",
       "      <td>1.385725</td>\n",
       "      <td>58.000000</td>\n",
       "      <td>3.454750</td>\n",
       "      <td>1.778518</td>\n",
       "    </tr>\n",
       "    <tr>\n",
       "      <th>max</th>\n",
       "      <td>5.000000</td>\n",
       "      <td>1.374451e+09</td>\n",
       "      <td>7136.000000</td>\n",
       "      <td>6517.000000</td>\n",
       "      <td>2088.724940</td>\n",
       "      <td>2472.000000</td>\n",
       "      <td>378.643335</td>\n",
       "      <td>113.758186</td>\n",
       "    </tr>\n",
       "  </tbody>\n",
       "</table>\n",
       "</div>"
      ],
      "text/plain": [
       "             overall  unixReviewTime  helpful_votes  review_age_days  \\\n",
       "count  360680.000000    3.606800e+05  360680.000000    360680.000000   \n",
       "mean        4.069926    1.251397e+09       6.704306      1790.239168   \n",
       "std         1.209969    1.164771e+08      27.198241      1348.114480   \n",
       "min         1.000000    8.430048e+08       0.000000       366.000000   \n",
       "25%         3.000000    1.178842e+09       1.000000       653.000000   \n",
       "50%         5.000000    1.291853e+09       2.000000      1322.000000   \n",
       "75%         5.000000    1.349654e+09       5.000000      2630.000000   \n",
       "max         5.000000    1.374451e+09    7136.000000      6517.000000   \n",
       "\n",
       "         annual_HVAR  book_num_reviews       std_HVAR  top_quartile_HVAR  \n",
       "count  360680.000000     313656.000000  313656.000000      313656.000000  \n",
       "mean        1.603826         75.411846       3.556318           1.539988  \n",
       "std         6.830568        195.637539      10.580872           1.877889  \n",
       "min         0.000000          4.000000       0.000186           0.000000  \n",
       "25%         0.292468          9.000000       0.722466           0.692892  \n",
       "50%         0.661232         22.000000       1.554675           1.042659  \n",
       "75%         1.385725         58.000000       3.454750           1.778518  \n",
       "max      2088.724940       2472.000000     378.643335         113.758186  "
      ]
     },
     "execution_count": 13,
     "metadata": {},
     "output_type": "execute_result"
    }
   ],
   "source": [
    "df.describe()"
   ]
  },
  {
   "cell_type": "code",
   "execution_count": 14,
   "metadata": {},
   "outputs": [
    {
     "name": "stdout",
     "output_type": "stream",
     "text": [
      "47024 reviews in the test set get dropped for books having inadequate review counts/variance\n"
     ]
    }
   ],
   "source": [
    "print(f\"{df.book_num_reviews.isna().sum()} reviews in the test set get dropped for books having inadequate review counts/variance\")"
   ]
  },
  {
   "cell_type": "code",
   "execution_count": 15,
   "metadata": {},
   "outputs": [
    {
     "name": "stdout",
     "output_type": "stream",
     "text": [
      "After removing off-limits books we have 313656 dev reviews\n"
     ]
    }
   ],
   "source": [
    "# We drop these here\n",
    "df = df[df.book_num_reviews.notna()]\n",
    "print(f\"After removing off-limits books we have {df.shape[0]} dev reviews\")"
   ]
  },
  {
   "cell_type": "code",
   "execution_count": 16,
   "metadata": {},
   "outputs": [
    {
     "data": {
      "text/html": [
       "<div>\n",
       "<style scoped>\n",
       "    .dataframe tbody tr th:only-of-type {\n",
       "        vertical-align: middle;\n",
       "    }\n",
       "\n",
       "    .dataframe tbody tr th {\n",
       "        vertical-align: top;\n",
       "    }\n",
       "\n",
       "    .dataframe thead th {\n",
       "        text-align: right;\n",
       "    }\n",
       "</style>\n",
       "<table border=\"1\" class=\"dataframe\">\n",
       "  <thead>\n",
       "    <tr style=\"text-align: right;\">\n",
       "      <th></th>\n",
       "      <th>overall</th>\n",
       "      <th>unixReviewTime</th>\n",
       "      <th>helpful_votes</th>\n",
       "      <th>review_age_days</th>\n",
       "      <th>annual_HVAR</th>\n",
       "      <th>book_num_reviews</th>\n",
       "      <th>std_HVAR</th>\n",
       "      <th>top_quartile_HVAR</th>\n",
       "    </tr>\n",
       "  </thead>\n",
       "  <tbody>\n",
       "    <tr>\n",
       "      <th>count</th>\n",
       "      <td>313656.000000</td>\n",
       "      <td>3.136560e+05</td>\n",
       "      <td>313656.000000</td>\n",
       "      <td>313656.000000</td>\n",
       "      <td>313656.000000</td>\n",
       "      <td>313656.000000</td>\n",
       "      <td>313656.000000</td>\n",
       "      <td>313656.000000</td>\n",
       "    </tr>\n",
       "    <tr>\n",
       "      <th>mean</th>\n",
       "      <td>4.047546</td>\n",
       "      <td>1.250918e+09</td>\n",
       "      <td>6.887794</td>\n",
       "      <td>1795.780702</td>\n",
       "      <td>1.638184</td>\n",
       "      <td>75.411846</td>\n",
       "      <td>3.556318</td>\n",
       "      <td>1.539988</td>\n",
       "    </tr>\n",
       "    <tr>\n",
       "      <th>std</th>\n",
       "      <td>1.222164</td>\n",
       "      <td>1.162856e+08</td>\n",
       "      <td>28.876808</td>\n",
       "      <td>1345.897591</td>\n",
       "      <td>7.253470</td>\n",
       "      <td>195.637539</td>\n",
       "      <td>10.580872</td>\n",
       "      <td>1.877889</td>\n",
       "    </tr>\n",
       "    <tr>\n",
       "      <th>min</th>\n",
       "      <td>1.000000</td>\n",
       "      <td>8.430048e+08</td>\n",
       "      <td>0.000000</td>\n",
       "      <td>366.000000</td>\n",
       "      <td>0.000000</td>\n",
       "      <td>4.000000</td>\n",
       "      <td>0.000186</td>\n",
       "      <td>0.000000</td>\n",
       "    </tr>\n",
       "    <tr>\n",
       "      <th>25%</th>\n",
       "      <td>3.000000</td>\n",
       "      <td>1.178150e+09</td>\n",
       "      <td>1.000000</td>\n",
       "      <td>659.000000</td>\n",
       "      <td>0.285766</td>\n",
       "      <td>9.000000</td>\n",
       "      <td>0.722466</td>\n",
       "      <td>0.692892</td>\n",
       "    </tr>\n",
       "    <tr>\n",
       "      <th>50%</th>\n",
       "      <td>5.000000</td>\n",
       "      <td>1.290902e+09</td>\n",
       "      <td>2.000000</td>\n",
       "      <td>1333.000000</td>\n",
       "      <td>0.651786</td>\n",
       "      <td>22.000000</td>\n",
       "      <td>1.554675</td>\n",
       "      <td>1.042659</td>\n",
       "    </tr>\n",
       "    <tr>\n",
       "      <th>75%</th>\n",
       "      <td>5.000000</td>\n",
       "      <td>1.349136e+09</td>\n",
       "      <td>5.000000</td>\n",
       "      <td>2638.000000</td>\n",
       "      <td>1.367041</td>\n",
       "      <td>58.000000</td>\n",
       "      <td>3.454750</td>\n",
       "      <td>1.778518</td>\n",
       "    </tr>\n",
       "    <tr>\n",
       "      <th>max</th>\n",
       "      <td>5.000000</td>\n",
       "      <td>1.374451e+09</td>\n",
       "      <td>7136.000000</td>\n",
       "      <td>6517.000000</td>\n",
       "      <td>2088.724940</td>\n",
       "      <td>2472.000000</td>\n",
       "      <td>378.643335</td>\n",
       "      <td>113.758186</td>\n",
       "    </tr>\n",
       "  </tbody>\n",
       "</table>\n",
       "</div>"
      ],
      "text/plain": [
       "             overall  unixReviewTime  helpful_votes  review_age_days  \\\n",
       "count  313656.000000    3.136560e+05  313656.000000    313656.000000   \n",
       "mean        4.047546    1.250918e+09       6.887794      1795.780702   \n",
       "std         1.222164    1.162856e+08      28.876808      1345.897591   \n",
       "min         1.000000    8.430048e+08       0.000000       366.000000   \n",
       "25%         3.000000    1.178150e+09       1.000000       659.000000   \n",
       "50%         5.000000    1.290902e+09       2.000000      1333.000000   \n",
       "75%         5.000000    1.349136e+09       5.000000      2638.000000   \n",
       "max         5.000000    1.374451e+09    7136.000000      6517.000000   \n",
       "\n",
       "         annual_HVAR  book_num_reviews       std_HVAR  top_quartile_HVAR  \n",
       "count  313656.000000     313656.000000  313656.000000      313656.000000  \n",
       "mean        1.638184         75.411846       3.556318           1.539988  \n",
       "std         7.253470        195.637539      10.580872           1.877889  \n",
       "min         0.000000          4.000000       0.000186           0.000000  \n",
       "25%         0.285766          9.000000       0.722466           0.692892  \n",
       "50%         0.651786         22.000000       1.554675           1.042659  \n",
       "75%         1.367041         58.000000       3.454750           1.778518  \n",
       "max      2088.724940       2472.000000     378.643335         113.758186  "
      ]
     },
     "execution_count": 16,
     "metadata": {},
     "output_type": "execute_result"
    }
   ],
   "source": [
    "df.describe()"
   ]
  },
  {
   "cell_type": "code",
   "execution_count": 17,
   "metadata": {},
   "outputs": [],
   "source": [
    "# Label reviews as most helpful if its annual_HVAR > top_quartile_HVAR\n",
    "df['most_helpful'] = df.apply(lambda x: int(x.annual_HVAR > x.top_quartile_HVAR),axis = 1)"
   ]
  },
  {
   "cell_type": "code",
   "execution_count": 18,
   "metadata": {},
   "outputs": [
    {
     "name": "stdout",
     "output_type": "stream",
     "text": [
      "There are 313656 reviews in our dev split\n",
      "27.74% of reviews in the dev set carry the most_helpful label of 1\n"
     ]
    }
   ],
   "source": [
    "print(f\"There are {df.shape[0]} reviews in our dev split\")\n",
    "print(f\"{df.most_helpful.sum()/df.shape[0]:.2%} of reviews in the dev set carry the most_helpful label of 1\")"
   ]
  },
  {
   "cell_type": "code",
   "execution_count": 19,
   "metadata": {},
   "outputs": [],
   "source": [
    "# Write it out to a file\n",
    "df.to_csv('../labeled_test_set.csv',index=False)"
   ]
  },
  {
   "cell_type": "code",
   "execution_count": 20,
   "metadata": {},
   "outputs": [
    {
     "name": "stdout",
     "output_type": "stream",
     "text": [
      "/home/jend/fp/RealRelevantReviews\n"
     ]
    }
   ],
   "source": [
    "!pwd"
   ]
  },
  {
   "cell_type": "code",
   "execution_count": 21,
   "metadata": {},
   "outputs": [
    {
     "name": "stdout",
     "output_type": "stream",
     "text": [
      "total 9.8G\n",
      "drwxrwxr-x  4 jend jend 4.0K Jul 14 21:35 .\n",
      "drwxr-xr-x 21 jend jend 4.0K Jul  3 02:22 ..\n",
      "drwxrwxr-x  2 jend jend 4.0K Jul 13 23:56 .ipynb_checkpoints\n",
      "drwxrwxr-x  4 jend jend 4.0K Jul 14 21:34 RealRelevantReviews\n",
      "-rw-rw-r--  1 jend jend  15M Jul 13 23:56 book_cutoffs.csv\n",
      "-rw-rw-r--  1 jend jend 9.6M Jul 14 21:01 booklist.csv\n",
      "-rw-rw-r--  1 jend jend 585M Jul 14 19:08 dev.json\n",
      "-rw-rw-r--  1 jend jend 391M Jul 14 21:26 labeled_dev_set.csv\n",
      "-rw-rw-r--  1 jend jend 2.0M Jul 13 22:36 labeled_small_training_set.csv\n",
      "-rw-rw-r--  1 jend jend 391M Jul 14 21:35 labeled_test_set.csv\n",
      "-rw-rw-r--  1 jend jend 3.3G Jul 13 23:48 labeled_training_set.csv\n",
      "-rw-rw-r--  1 jend jend 9.3M Jul  2 02:40 rowling.json\n",
      "-rw-rw-r--  1 jend jend  47M Jun 22 04:41 small_train.json\n",
      "-rw-rw-r--  1 jend jend 584M Jul 14 19:08 test.json\n",
      "-rw-rw-r--  1 jend jend 467K Jun 22 04:37 toy_train.json\n",
      "-rw-rw-r--  1 jend jend 4.6G Jul  3 02:23 train.json\n"
     ]
    }
   ],
   "source": [
    "!ls -lah .."
   ]
  },
  {
   "cell_type": "code",
   "execution_count": null,
   "metadata": {},
   "outputs": [],
   "source": []
  }
 ],
 "metadata": {
  "kernelspec": {
   "display_name": "Python 3",
   "language": "python",
   "name": "python3"
  },
  "language_info": {
   "codemirror_mode": {
    "name": "ipython",
    "version": 3
   },
   "file_extension": ".py",
   "mimetype": "text/x-python",
   "name": "python",
   "nbconvert_exporter": "python",
   "pygments_lexer": "ipython3",
   "version": "3.7.2"
  }
 },
 "nbformat": 4,
 "nbformat_minor": 2
}
