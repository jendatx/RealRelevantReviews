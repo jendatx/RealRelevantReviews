{
 "cells": [
  {
   "cell_type": "markdown",
   "metadata": {},
   "source": [
    "# TOY_TRAIN EDA"
   ]
  },
  {
   "cell_type": "code",
   "execution_count": 39,
   "metadata": {},
   "outputs": [],
   "source": [
    "import json\n",
    "import matplotlib.pyplot as plt\n",
    "import numpy as np\n",
    "import pandas as pd\n",
    "import datetime\n",
    "\n",
    "\n",
    "pd.set_option('max_colwidth', 140)"
   ]
  },
  {
   "cell_type": "code",
   "execution_count": 2,
   "metadata": {},
   "outputs": [
    {
     "name": "stdout",
     "output_type": "stream",
     "text": [
      "{\"reviewerID\": \"AVITXW9Q9COJL\", \"asin\": \"0002247399\", \"reviewerName\": \"Carol Brennan\", \"helpful\": [0, 5], \"reviewText\": \"My husband has really loved this series and I have heard the same comments from many others who have also read this series.\", \"overall\": 5.0, \"summary\": \"A Dance With Dragons\", \"unixReviewTime\": 1389398400, \"reviewTime\": \"01 11, 2014\"}\n"
     ]
    }
   ],
   "source": [
    "!head -1 toy_train.json"
   ]
  },
  {
   "cell_type": "code",
   "execution_count": 3,
   "metadata": {},
   "outputs": [],
   "source": [
    "# load up the data\n",
    "df = pd.read_json('toy_train.json',lines=True)"
   ]
  },
  {
   "cell_type": "markdown",
   "metadata": {},
   "source": [
    "## FIRST MAKE HELPFULNESS WORKABLE"
   ]
  },
  {
   "cell_type": "code",
   "execution_count": 7,
   "metadata": {},
   "outputs": [],
   "source": [
    "df['helpful_votes'] = df.apply(lambda x: x.helpful[0],axis=1)"
   ]
  },
  {
   "cell_type": "code",
   "execution_count": 8,
   "metadata": {},
   "outputs": [],
   "source": [
    "df['unhelpful_votes'] = df.apply(lambda x: x.helpful[1],axis=1)"
   ]
  },
  {
   "cell_type": "code",
   "execution_count": 9,
   "metadata": {},
   "outputs": [],
   "source": [
    "# Augment with helpfulness score (ratio of helpful votes to total votes)\n",
    "df['Hscore'] = df.apply(lambda x: x.helpful_votes/(x.helpful_votes + x.unhelpful_votes),axis=1)"
   ]
  },
  {
   "cell_type": "markdown",
   "metadata": {},
   "source": [
    "## (UN)HELPFUL EXAMPLE\n",
    "Review 0 below has 5 ppl saying the review is not helpful, and I would agree with them! This could be a good example of the start of our inquiry (what NOT to show a shopper), because there is really no information in this review."
   ]
  },
  {
   "cell_type": "code",
   "execution_count": 11,
   "metadata": {},
   "outputs": [
    {
     "data": {
      "text/html": [
       "<div>\n",
       "<style scoped>\n",
       "    .dataframe tbody tr th:only-of-type {\n",
       "        vertical-align: middle;\n",
       "    }\n",
       "\n",
       "    .dataframe tbody tr th {\n",
       "        vertical-align: top;\n",
       "    }\n",
       "\n",
       "    .dataframe thead th {\n",
       "        text-align: right;\n",
       "    }\n",
       "</style>\n",
       "<table border=\"1\" class=\"dataframe\">\n",
       "  <thead>\n",
       "    <tr style=\"text-align: right;\">\n",
       "      <th></th>\n",
       "      <th>asin</th>\n",
       "      <th>helpful</th>\n",
       "      <th>overall</th>\n",
       "      <th>reviewText</th>\n",
       "      <th>reviewTime</th>\n",
       "      <th>reviewerID</th>\n",
       "      <th>reviewerName</th>\n",
       "      <th>summary</th>\n",
       "      <th>unixReviewTime</th>\n",
       "      <th>char_count</th>\n",
       "      <th>helpful_votes</th>\n",
       "      <th>unhelpful_votes</th>\n",
       "      <th>Hscore</th>\n",
       "    </tr>\n",
       "  </thead>\n",
       "  <tbody>\n",
       "    <tr>\n",
       "      <th>0</th>\n",
       "      <td>0002247399</td>\n",
       "      <td>[0, 5]</td>\n",
       "      <td>5</td>\n",
       "      <td>My husband has really loved this series and I have heard the same comments from many others who have also read this series.</td>\n",
       "      <td>2014-01-11</td>\n",
       "      <td>AVITXW9Q9COJL</td>\n",
       "      <td>Carol Brennan</td>\n",
       "      <td>A Dance With Dragons</td>\n",
       "      <td>1389398400</td>\n",
       "      <td>123</td>\n",
       "      <td>0</td>\n",
       "      <td>5</td>\n",
       "      <td>0.0</td>\n",
       "    </tr>\n",
       "  </tbody>\n",
       "</table>\n",
       "</div>"
      ],
      "text/plain": [
       "         asin helpful  overall  \\\n",
       "0  0002247399  [0, 5]        5   \n",
       "\n",
       "                                                                                                                    reviewText  \\\n",
       "0  My husband has really loved this series and I have heard the same comments from many others who have also read this series.   \n",
       "\n",
       "  reviewTime     reviewerID   reviewerName               summary  \\\n",
       "0 2014-01-11  AVITXW9Q9COJL  Carol Brennan  A Dance With Dragons   \n",
       "\n",
       "   unixReviewTime  char_count  helpful_votes  unhelpful_votes  Hscore  \n",
       "0      1389398400         123              0                5     0.0  "
      ]
     },
     "execution_count": 11,
     "metadata": {},
     "output_type": "execute_result"
    }
   ],
   "source": [
    "df.head(1)"
   ]
  },
  {
   "cell_type": "markdown",
   "metadata": {},
   "source": [
    "## CHECK OUT RATING DISTRIBUTION"
   ]
  },
  {
   "cell_type": "code",
   "execution_count": 12,
   "metadata": {},
   "outputs": [
    {
     "data": {
      "text/plain": [
       "5    202\n",
       "4     79\n",
       "3     44\n",
       "2     31\n",
       "1     18\n",
       "Name: overall, dtype: int64"
      ]
     },
     "execution_count": 12,
     "metadata": {},
     "output_type": "execute_result"
    }
   ],
   "source": [
    "df.overall.value_counts()\n",
    "# We have very few low-rated books reviews"
   ]
  },
  {
   "cell_type": "code",
   "execution_count": 59,
   "metadata": {},
   "outputs": [
    {
     "data": {
      "text/plain": [
       "Text(0.5,0,'Rating of review')"
      ]
     },
     "execution_count": 59,
     "metadata": {},
     "output_type": "execute_result"
    },
    {
     "data": {
      "image/png": "[encoded data removed]",
      "text/plain": [
       "<Figure size 432x288 with 1 Axes>"
      ]
     },
     "metadata": {
      "needs_background": "light"
     },
     "output_type": "display_data"
    }
   ],
   "source": [
    "plt.scatter(x=df.overall,y=df.Hscore)\n",
    "plt.title(\"Helpfulness score by review rating\")\n",
    "plt.xlabel(\"Rating of review\")"
   ]
  },
  {
   "cell_type": "markdown",
   "metadata": {},
   "source": [
    "## MAKE TIMEFRAME WORKABLE"
   ]
  },
  {
   "cell_type": "code",
   "execution_count": 4,
   "metadata": {},
   "outputs": [],
   "source": [
    "df.reviewTime = pd.to_datetime(df.reviewTime,infer_datetime_format=True)"
   ]
  },
  {
   "cell_type": "code",
   "execution_count": 33,
   "metadata": {},
   "outputs": [],
   "source": [
    "df.sort_values(by=['reviewTime'],inplace=True,ascending=True)"
   ]
  },
  {
   "cell_type": "code",
   "execution_count": 36,
   "metadata": {},
   "outputs": [
    {
     "data": {
      "text/plain": [
       "65    1998-01-04\n",
       "34    1999-03-18\n",
       "33    1999-08-20\n",
       "289   2000-05-06\n",
       "139   2000-05-15\n",
       "Name: reviewTime, dtype: datetime64[ns]"
      ]
     },
     "execution_count": 36,
     "metadata": {},
     "output_type": "execute_result"
    }
   ],
   "source": [
    "df.reviewTime.head()"
   ]
  },
  {
   "cell_type": "code",
   "execution_count": 42,
   "metadata": {},
   "outputs": [
    {
     "data": {
      "text/plain": [
       "257   2014-06-23\n",
       "138   2014-06-24\n",
       "201   2014-06-27\n",
       "331   2014-06-27\n",
       "354   2014-07-01\n",
       "Name: reviewTime, dtype: datetime64[ns]"
      ]
     },
     "execution_count": 42,
     "metadata": {},
     "output_type": "execute_result"
    }
   ],
   "source": [
    "df.reviewTime.tail()"
   ]
  },
  {
   "cell_type": "code",
   "execution_count": 50,
   "metadata": {},
   "outputs": [],
   "source": [
    "last_rvw = df.reviewTime.max()\n",
    "df['review_age'] = df.apply(lambda x: (last_rvw - x.reviewTime).days,axis = 1)"
   ]
  },
  {
   "cell_type": "markdown",
   "metadata": {},
   "source": [
    "## HOW DOES HELPFULNESS CORRELATE WITH YEAR/AGE?\n",
    "More reviews are written over the time period as time progresses in this dataset"
   ]
  },
  {
   "cell_type": "code",
   "execution_count": 15,
   "metadata": {},
   "outputs": [
    {
     "data": {
      "text/plain": [
       "(array([  3.,   9.,  12.,   7.,  25.,  27.,  33.,  37.,  74., 147.]),\n",
       " array([729393. , 729995.2, 730597.4, 731199.6, 731801.8, 732404. ,\n",
       "        733006.2, 733608.4, 734210.6, 734812.8, 735415. ]),\n",
       " <a list of 10 Patch objects>)"
      ]
     },
     "execution_count": 15,
     "metadata": {},
     "output_type": "execute_result"
    },
    {
     "data": {
      "image/png": "[encoded data removed]",
      "text/plain": [
       "<Figure size 432x288 with 1 Axes>"
      ]
     },
     "metadata": {
      "needs_background": "light"
     },
     "output_type": "display_data"
    }
   ],
   "source": [
    "plt.hist(df.reviewTime)"
   ]
  },
  {
   "cell_type": "code",
   "execution_count": 60,
   "metadata": {},
   "outputs": [
    {
     "data": {
      "text/plain": [
       "<matplotlib.collections.PathCollection at 0x7f5dae10cfd0>"
      ]
     },
     "execution_count": 60,
     "metadata": {},
     "output_type": "execute_result"
    },
    {
     "data": {
      "image/png": "[encoded data removed]",
      "text/plain": [
       "<Figure size 432x288 with 1 Axes>"
      ]
     },
     "metadata": {
      "needs_background": "light"
     },
     "output_type": "display_data"
    }
   ],
   "source": [
    "# Check out any relationship between getting helpful votes and age of review\n",
    "plt.scatter(x=df.review_age,y=df.helpful_votes)\n"
   ]
  },
  {
   "cell_type": "markdown",
   "metadata": {},
   "source": [
    "## NOTE ODD DISTRIBUTION OF HELPFULNESS SCORE RATIO"
   ]
  },
  {
   "cell_type": "code",
   "execution_count": 61,
   "metadata": {},
   "outputs": [
    {
     "data": {
      "text/plain": [
       "count    374.000000\n",
       "mean       0.391335\n",
       "std        0.165860\n",
       "min        0.000000\n",
       "25%        0.333333\n",
       "50%        0.485667\n",
       "75%        0.500000\n",
       "max        0.500000\n",
       "Name: Hscore, dtype: float64"
      ]
     },
     "execution_count": 61,
     "metadata": {},
     "output_type": "execute_result"
    }
   ],
   "source": [
    "df.Hscore.describe()\n",
    "# it is interesting here that our sample maximum Hscore (helpfulness ratio) is 50%"
   ]
  },
  {
   "cell_type": "markdown",
   "metadata": {},
   "source": [
    "Above max of 50% and below null finding still seems odd to Jen: NO review EVER has more helpful than unhelpful votes. This may explain why Amazon rm'd the unhelpful button (perhaps too many ppl just always voted unhelpful?)\n",
    "\n",
    "# TODO look at this on the next order of magnitude sample\n",
    "\n",
    "If we feel the unhelpful votes are being \"gamed\", we may want to declare reviews above a threshold of helpful votes (or above a helpful vote-count per year) to be helpful for our study purposes."
   ]
  },
  {
   "cell_type": "code",
   "execution_count": 17,
   "metadata": {},
   "outputs": [
    {
     "data": {
      "text/html": [
       "<div>\n",
       "<style scoped>\n",
       "    .dataframe tbody tr th:only-of-type {\n",
       "        vertical-align: middle;\n",
       "    }\n",
       "\n",
       "    .dataframe tbody tr th {\n",
       "        vertical-align: top;\n",
       "    }\n",
       "\n",
       "    .dataframe thead th {\n",
       "        text-align: right;\n",
       "    }\n",
       "</style>\n",
       "<table border=\"1\" class=\"dataframe\">\n",
       "  <thead>\n",
       "    <tr style=\"text-align: right;\">\n",
       "      <th></th>\n",
       "      <th>asin</th>\n",
       "      <th>helpful</th>\n",
       "      <th>overall</th>\n",
       "      <th>reviewText</th>\n",
       "      <th>reviewTime</th>\n",
       "      <th>reviewerID</th>\n",
       "      <th>reviewerName</th>\n",
       "      <th>summary</th>\n",
       "      <th>unixReviewTime</th>\n",
       "      <th>char_count</th>\n",
       "      <th>helpful_votes</th>\n",
       "      <th>unhelpful_votes</th>\n",
       "      <th>Hscore</th>\n",
       "    </tr>\n",
       "  </thead>\n",
       "  <tbody>\n",
       "  </tbody>\n",
       "</table>\n",
       "</div>"
      ],
      "text/plain": [
       "Empty DataFrame\n",
       "Columns: [asin, helpful, overall, reviewText, reviewTime, reviewerID, reviewerName, summary, unixReviewTime, char_count, helpful_votes, unhelpful_votes, Hscore]\n",
       "Index: []"
      ]
     },
     "execution_count": 17,
     "metadata": {},
     "output_type": "execute_result"
    }
   ],
   "source": [
    "df[df.unhelpful_votes < df.helpful_votes]\n"
   ]
  },
  {
   "cell_type": "markdown",
   "metadata": {},
   "source": [
    "## INVESTIGATE REVIEW LENGTH"
   ]
  },
  {
   "cell_type": "code",
   "execution_count": 5,
   "metadata": {},
   "outputs": [],
   "source": [
    "df['char_count'] = df.apply(lambda x: len(x.reviewText),axis=1)\n",
    "# df['word_count'] = df.apply(lambda x: len([word for word in x.reviewText.split()]),axis=1)\n",
    "# I'm not sure this buys us anything beyond character count"
   ]
  },
  {
   "cell_type": "markdown",
   "metadata": {},
   "source": [
    "## HELPFULNESS SCORE BY LENGTH\n",
    "Few reviews exceed 1000 characters, but certainly these longer reviews do get noticed/marked helpful."
   ]
  },
  {
   "cell_type": "code",
   "execution_count": 18,
   "metadata": {},
   "outputs": [
    {
     "data": {
      "text/plain": [
       "Text(0.5,1,'How helpful_vote count varies with Length of Review')"
      ]
     },
     "execution_count": 18,
     "metadata": {},
     "output_type": "execute_result"
    },
    {
     "data": {
      "image/png": "[encoded data removed]",
      "text/plain": [
       "<Figure size 432x288 with 1 Axes>"
      ]
     },
     "metadata": {
      "needs_background": "light"
     },
     "output_type": "display_data"
    }
   ],
   "source": [
    "plt.scatter(y=df.Hscore,x=df.char_count,s=df.helpful_votes)\n",
    "plt.xlabel('Review character count')\n",
    "plt.ylabel('Hscore: percent of votes finding review helpful')\n",
    "plt.title ('How helpful_vote count varies with Length of Review')"
   ]
  },
  {
   "cell_type": "markdown",
   "metadata": {},
   "source": [
    "## TOLERANCE FOR REVIEW LENGTH\n",
    "It might be interesting to personalize reviews based on a shopper's TOLERANCE FOR LENGTH.\n",
    "In other words, only display concise reviews vs. I prefer longer, more detailed reviews\n",
    "To personalize, in the search query generating the ranked reviews, we could ask for an interest AND a preferred length, like 1 sentence, 1 paragraph, or multiple paragraphs.\n"
   ]
  },
  {
   "cell_type": "markdown",
   "metadata": {},
   "source": [
    "## FOUND A SAMPLE REVIEW"
   ]
  },
  {
   "cell_type": "code",
   "execution_count": 19,
   "metadata": {},
   "outputs": [
    {
     "data": {
      "text/html": [
       "<div>\n",
       "<style scoped>\n",
       "    .dataframe tbody tr th:only-of-type {\n",
       "        vertical-align: middle;\n",
       "    }\n",
       "\n",
       "    .dataframe tbody tr th {\n",
       "        vertical-align: top;\n",
       "    }\n",
       "\n",
       "    .dataframe thead th {\n",
       "        text-align: right;\n",
       "    }\n",
       "</style>\n",
       "<table border=\"1\" class=\"dataframe\">\n",
       "  <thead>\n",
       "    <tr style=\"text-align: right;\">\n",
       "      <th></th>\n",
       "      <th>asin</th>\n",
       "      <th>helpful</th>\n",
       "      <th>overall</th>\n",
       "      <th>reviewText</th>\n",
       "      <th>reviewTime</th>\n",
       "      <th>reviewerID</th>\n",
       "      <th>reviewerName</th>\n",
       "      <th>summary</th>\n",
       "      <th>unixReviewTime</th>\n",
       "      <th>char_count</th>\n",
       "      <th>helpful_votes</th>\n",
       "      <th>unhelpful_votes</th>\n",
       "      <th>Hscore</th>\n",
       "    </tr>\n",
       "  </thead>\n",
       "  <tbody>\n",
       "    <tr>\n",
       "      <th>287</th>\n",
       "      <td>0143120530</td>\n",
       "      <td>[429, 475]</td>\n",
       "      <td>3</td>\n",
       "      <td>After reading the first chapter of this book online, I went out and picked up a copy and read it.  I was under the impression from readi...</td>\n",
       "      <td>2011-03-17</td>\n",
       "      <td>ANTX2LDFI5A51</td>\n",
       "      <td>Tony R. Vaughan</td>\n",
       "      <td>A good read, but ...</td>\n",
       "      <td>1300320000</td>\n",
       "      <td>988</td>\n",
       "      <td>429</td>\n",
       "      <td>475</td>\n",
       "      <td>0.474558</td>\n",
       "    </tr>\n",
       "  </tbody>\n",
       "</table>\n",
       "</div>"
      ],
      "text/plain": [
       "           asin     helpful  overall  \\\n",
       "287  0143120530  [429, 475]        3   \n",
       "\n",
       "                                                                                                                                      reviewText  \\\n",
       "287  After reading the first chapter of this book online, I went out and picked up a copy and read it.  I was under the impression from readi...   \n",
       "\n",
       "    reviewTime     reviewerID     reviewerName               summary  \\\n",
       "287 2011-03-17  ANTX2LDFI5A51  Tony R. Vaughan  A good read, but ...   \n",
       "\n",
       "     unixReviewTime  char_count  helpful_votes  unhelpful_votes    Hscore  \n",
       "287      1300320000         988            429              475  0.474558  "
      ]
     },
     "execution_count": 19,
     "metadata": {},
     "output_type": "execute_result"
    }
   ],
   "source": [
    "df[df.helpful_votes > 400]"
   ]
  },
  {
   "cell_type": "markdown",
   "metadata": {},
   "source": [
    "YES! I found the above review online here:\n",
    "[A good read, but](https://www.amazon.com/gp/customer-reviews/R15T443X49LY3C/ref=cm_cr_getr_d_rvw_ttl?ie=UTF8&ASIN=0143120530)\n",
    "\n",
    "In 2019, it now has 543 helpful votes (it was written in 2011 and our data snapshot shows 429 helpful votes at snapshot time, vs 475 unhelpful votes).\n"
   ]
  },
  {
   "cell_type": "markdown",
   "metadata": {},
   "source": [
    "# APPENDIX"
   ]
  },
  {
   "cell_type": "code",
   "execution_count": null,
   "metadata": {},
   "outputs": [],
   "source": [
    "# verified we filtered the unlabeled reviews out\n",
    "df[(df.helpful_votes == 0) & (df.unhelpful_votes == 0)]\n"
   ]
  },
  {
   "cell_type": "markdown",
   "metadata": {},
   "source": [
    "## MOSTLY UNIQUE BOOKS"
   ]
  },
  {
   "cell_type": "code",
   "execution_count": 13,
   "metadata": {},
   "outputs": [
    {
     "data": {
      "text/plain": [
       "1    372\n",
       "2      1\n",
       "Name: asin, dtype: int64"
      ]
     },
     "execution_count": 13,
     "metadata": {},
     "output_type": "execute_result"
    }
   ],
   "source": [
    "df.asin.value_counts().value_counts()\n",
    "# In this toy-size sample of 373, just one book is represented by 2 reviews "
   ]
  },
  {
   "cell_type": "code",
   "execution_count": null,
   "metadata": {},
   "outputs": [],
   "source": [
    "# Appendix of less helpful code\n",
    "# plt.hist(df.helpful_votes)\n",
    "# plt.scatter(y=df.helpful_votes,x=df.char_count,s=np.log2(df.Hscore + .0001)**2)\n",
    "# plt.xlabel('Review character count')\n",
    "# plt.ylabel('Count of helpful votes')\n",
    "# plt.title ('How Helpfulness Score Hscore varies with Length of Review')\n",
    "# plt.scatter(y=df.helpful_votes,x=df.word_count)"
   ]
  }
 ],
 "metadata": {
  "kernelspec": {
   "display_name": "Python 3",
   "language": "python",
   "name": "python3"
  },
  "language_info": {
   "codemirror_mode": {
    "name": "ipython",
    "version": 3
   },
   "file_extension": ".py",
   "mimetype": "text/x-python",
   "name": "python",
   "nbconvert_exporter": "python",
   "pygments_lexer": "ipython3",
   "version": "3.7.2"
  }
 },
 "nbformat": 4,
 "nbformat_minor": 2
}
